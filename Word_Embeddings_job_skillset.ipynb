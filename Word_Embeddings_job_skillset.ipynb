{
  "cells": [
    {
      "cell_type": "markdown",
      "metadata": {
        "id": "4YD7odyn-Crc"
      },
      "source": [
        "## Use Case / Steps / Ressources\n"
      ]
    },
    {
      "cell_type": "markdown",
      "metadata": {
        "id": "mbMwBR59wa04"
      },
      "source": [
        "Use case: a company owns a job portal and has many job postings from other companies who wanna hire candidates. An important stakeholder asks for insights regarding data jobs, especially data scientists, data analysts and business intelligence jobs. Your task is to do analysis on these data and feedback insights to the business. "
      ]
    },
    {
      "cell_type": "markdown",
      "metadata": {
        "id": "XXkl19qw95Jz"
      },
      "source": [
        "Basic Steps to perform\n",
        "\n",
        "- Perform proper analysis on the data \n",
        "- Generate Word Cloud \n",
        "- Apply NLP standard methods on the data to preprocess it\n",
        "- Generate Word2Vec embeddings \n",
        "- Try similarity functions of the word2vec\n",
        "- Visiulaize some embeddings \n",
        "- implement a streamlit and deploy your application\n"
      ]
    },
    {
      "cell_type": "markdown",
      "metadata": {
        "id": "no1sUveEwqAd"
      },
      "source": [
        "## Load Data"
      ]
    },
    {
      "cell_type": "code",
      "execution_count": null,
      "metadata": {
        "id": "pCY1bb4U7_8r"
      },
      "outputs": [],
      "source": [
        "import gensim"
      ]
    },
    {
      "cell_type": "code",
      "execution_count": null,
      "metadata": {
        "id": "b5QYkcwm6e5Q"
      },
      "outputs": [],
      "source": [
        "import pandas as pd\n",
        "\n",
        "url = 'https://drive.google.com/file/d/16EGubjXaeDwTH7sc6FnuQj7EI9ZfRYNL/view?usp=sharing' \n",
        "path = 'https://drive.google.com/uc?export=download&id='+url.split('/')[-2]\n",
        "df = pd.read_csv(path, sep = '\\t')"
      ]
    },
    {
      "cell_type": "code",
      "source": [
        "df"
      ],
      "metadata": {
        "colab": {
          "base_uri": "https://localhost:8080/",
          "height": 659
        },
        "id": "PdmZ-6Gl0U6g",
        "outputId": "3ad7b35d-f6a1-4d6d-b5ba-4c027a3492ea"
      },
      "execution_count": null,
      "outputs": [
        {
          "output_type": "execute_result",
          "data": {
            "text/plain": [
              "       Unnamed: 0                                          job_title  \\\n",
              "0               0  Senior Testmanager/Qualitätsmanager (m/w) Shif...   \n",
              "1               1  Junior Java Entwickler (m/w) in spannenden Ent...   \n",
              "2               2  (Senior)Technical Consultant (m/w) Testautomat...   \n",
              "3               3  Einsteiger (w/m) Digitalisierung und Data Anal...   \n",
              "4               4  Projektmanager / Managing Consultant (m/w) Cus...   \n",
              "...           ...                                                ...   \n",
              "23477       23477       Technischer Fachberater (m/w) im Innendienst   \n",
              "23478       23478  Wirtschaftsingenieur als Referent im Vertrieb ...   \n",
              "23479       23479                                   IT Fachkraft m/w   \n",
              "23480       23480  (Junior) Projektingenieur Sensorik und Kommuni...   \n",
              "23481       23481      Bauingenieur Konstruktiver Ingenieurbau (w/m)   \n",
              "\n",
              "                                        full_description  \\\n",
              "0      Zum weiteren Ausbau unseres Teams, suchen wir ...   \n",
              "1      Erfahrungen im Umgang mit objektorientierten P...   \n",
              "2      DBS-8346-SR - Einsatzort: deutschlandweit - Wi...   \n",
              "3      Die globale EY-Organisation* ist einer der Mar...   \n",
              "4      Idealerweise über drei Jahre praktische Erfahr...   \n",
              "...                                                  ...   \n",
              "23477  Sie haben eine kaufmännische bzw. technische A...   \n",
              "23478  Die Deutsche Bahn ist nicht nur einer der wich...   \n",
              "23479  Standort: Heilbad Heiligenstadt (37308), Thüri...   \n",
              "23480  Für unseren Geschäftsbereich Verteidigung & Si...   \n",
              "23481  Die Deutsche Bahn ist nicht nur einer der wich...   \n",
              "\n",
              "                                                 company  \\\n",
              "0                              NTT DATA Deutschland GmbH   \n",
              "1                              NTT DATA Deutschland GmbH   \n",
              "2                              NTT DATA Deutschland GmbH   \n",
              "3      Ernst & Young GmbH Wirtschaftsprüfungsgesellsc...   \n",
              "4                              NTT DATA Deutschland GmbH   \n",
              "...                                                  ...   \n",
              "23477                                 Rala GmbH & Co. KG   \n",
              "23478                                   Deutsche Bahn AG   \n",
              "23479                                              Magna   \n",
              "23480   IABG Industrieanlagen - Betriebsgesellschaft mbH   \n",
              "23481                                   Deutsche Bahn AG   \n",
              "\n",
              "                                                location  \n",
              "0                                        deutschlandweit  \n",
              "1      Frankfurt a.M., Köln, München, Stuttgart, deut...  \n",
              "2                                        deutschlandweit  \n",
              "3                                        Deutschlandweit  \n",
              "4         Frankfurt a.M., Köln, München, deutschlandweit  \n",
              "...                                                  ...  \n",
              "23477                                       Ludwigshafen  \n",
              "23478                                             Berlin  \n",
              "23479                              Heilbad Heiligenstadt  \n",
              "23480                     Ottobrunn bei München, Koblenz  \n",
              "23481                                          Stuttgart  \n",
              "\n",
              "[23482 rows x 5 columns]"
            ],
            "text/html": [
              "\n",
              "  <div id=\"df-ca2a34cb-6a40-4197-8c4b-f7848b6e0101\">\n",
              "    <div class=\"colab-df-container\">\n",
              "      <div>\n",
              "<style scoped>\n",
              "    .dataframe tbody tr th:only-of-type {\n",
              "        vertical-align: middle;\n",
              "    }\n",
              "\n",
              "    .dataframe tbody tr th {\n",
              "        vertical-align: top;\n",
              "    }\n",
              "\n",
              "    .dataframe thead th {\n",
              "        text-align: right;\n",
              "    }\n",
              "</style>\n",
              "<table border=\"1\" class=\"dataframe\">\n",
              "  <thead>\n",
              "    <tr style=\"text-align: right;\">\n",
              "      <th></th>\n",
              "      <th>Unnamed: 0</th>\n",
              "      <th>job_title</th>\n",
              "      <th>full_description</th>\n",
              "      <th>company</th>\n",
              "      <th>location</th>\n",
              "    </tr>\n",
              "  </thead>\n",
              "  <tbody>\n",
              "    <tr>\n",
              "      <th>0</th>\n",
              "      <td>0</td>\n",
              "      <td>Senior Testmanager/Qualitätsmanager (m/w) Shif...</td>\n",
              "      <td>Zum weiteren Ausbau unseres Teams, suchen wir ...</td>\n",
              "      <td>NTT DATA Deutschland GmbH</td>\n",
              "      <td>deutschlandweit</td>\n",
              "    </tr>\n",
              "    <tr>\n",
              "      <th>1</th>\n",
              "      <td>1</td>\n",
              "      <td>Junior Java Entwickler (m/w) in spannenden Ent...</td>\n",
              "      <td>Erfahrungen im Umgang mit objektorientierten P...</td>\n",
              "      <td>NTT DATA Deutschland GmbH</td>\n",
              "      <td>Frankfurt a.M., Köln, München, Stuttgart, deut...</td>\n",
              "    </tr>\n",
              "    <tr>\n",
              "      <th>2</th>\n",
              "      <td>2</td>\n",
              "      <td>(Senior)Technical Consultant (m/w) Testautomat...</td>\n",
              "      <td>DBS-8346-SR - Einsatzort: deutschlandweit - Wi...</td>\n",
              "      <td>NTT DATA Deutschland GmbH</td>\n",
              "      <td>deutschlandweit</td>\n",
              "    </tr>\n",
              "    <tr>\n",
              "      <th>3</th>\n",
              "      <td>3</td>\n",
              "      <td>Einsteiger (w/m) Digitalisierung und Data Anal...</td>\n",
              "      <td>Die globale EY-Organisation* ist einer der Mar...</td>\n",
              "      <td>Ernst &amp; Young GmbH Wirtschaftsprüfungsgesellsc...</td>\n",
              "      <td>Deutschlandweit</td>\n",
              "    </tr>\n",
              "    <tr>\n",
              "      <th>4</th>\n",
              "      <td>4</td>\n",
              "      <td>Projektmanager / Managing Consultant (m/w) Cus...</td>\n",
              "      <td>Idealerweise über drei Jahre praktische Erfahr...</td>\n",
              "      <td>NTT DATA Deutschland GmbH</td>\n",
              "      <td>Frankfurt a.M., Köln, München, deutschlandweit</td>\n",
              "    </tr>\n",
              "    <tr>\n",
              "      <th>...</th>\n",
              "      <td>...</td>\n",
              "      <td>...</td>\n",
              "      <td>...</td>\n",
              "      <td>...</td>\n",
              "      <td>...</td>\n",
              "    </tr>\n",
              "    <tr>\n",
              "      <th>23477</th>\n",
              "      <td>23477</td>\n",
              "      <td>Technischer Fachberater (m/w) im Innendienst</td>\n",
              "      <td>Sie haben eine kaufmännische bzw. technische A...</td>\n",
              "      <td>Rala GmbH &amp; Co. KG</td>\n",
              "      <td>Ludwigshafen</td>\n",
              "    </tr>\n",
              "    <tr>\n",
              "      <th>23478</th>\n",
              "      <td>23478</td>\n",
              "      <td>Wirtschaftsingenieur als Referent im Vertrieb ...</td>\n",
              "      <td>Die Deutsche Bahn ist nicht nur einer der wich...</td>\n",
              "      <td>Deutsche Bahn AG</td>\n",
              "      <td>Berlin</td>\n",
              "    </tr>\n",
              "    <tr>\n",
              "      <th>23479</th>\n",
              "      <td>23479</td>\n",
              "      <td>IT Fachkraft m/w</td>\n",
              "      <td>Standort: Heilbad Heiligenstadt (37308), Thüri...</td>\n",
              "      <td>Magna</td>\n",
              "      <td>Heilbad Heiligenstadt</td>\n",
              "    </tr>\n",
              "    <tr>\n",
              "      <th>23480</th>\n",
              "      <td>23480</td>\n",
              "      <td>(Junior) Projektingenieur Sensorik und Kommuni...</td>\n",
              "      <td>Für unseren Geschäftsbereich Verteidigung &amp; Si...</td>\n",
              "      <td>IABG Industrieanlagen - Betriebsgesellschaft mbH</td>\n",
              "      <td>Ottobrunn bei München, Koblenz</td>\n",
              "    </tr>\n",
              "    <tr>\n",
              "      <th>23481</th>\n",
              "      <td>23481</td>\n",
              "      <td>Bauingenieur Konstruktiver Ingenieurbau (w/m)</td>\n",
              "      <td>Die Deutsche Bahn ist nicht nur einer der wich...</td>\n",
              "      <td>Deutsche Bahn AG</td>\n",
              "      <td>Stuttgart</td>\n",
              "    </tr>\n",
              "  </tbody>\n",
              "</table>\n",
              "<p>23482 rows × 5 columns</p>\n",
              "</div>\n",
              "      <button class=\"colab-df-convert\" onclick=\"convertToInteractive('df-ca2a34cb-6a40-4197-8c4b-f7848b6e0101')\"\n",
              "              title=\"Convert this dataframe to an interactive table.\"\n",
              "              style=\"display:none;\">\n",
              "        \n",
              "  <svg xmlns=\"http://www.w3.org/2000/svg\" height=\"24px\"viewBox=\"0 0 24 24\"\n",
              "       width=\"24px\">\n",
              "    <path d=\"M0 0h24v24H0V0z\" fill=\"none\"/>\n",
              "    <path d=\"M18.56 5.44l.94 2.06.94-2.06 2.06-.94-2.06-.94-.94-2.06-.94 2.06-2.06.94zm-11 1L8.5 8.5l.94-2.06 2.06-.94-2.06-.94L8.5 2.5l-.94 2.06-2.06.94zm10 10l.94 2.06.94-2.06 2.06-.94-2.06-.94-.94-2.06-.94 2.06-2.06.94z\"/><path d=\"M17.41 7.96l-1.37-1.37c-.4-.4-.92-.59-1.43-.59-.52 0-1.04.2-1.43.59L10.3 9.45l-7.72 7.72c-.78.78-.78 2.05 0 2.83L4 21.41c.39.39.9.59 1.41.59.51 0 1.02-.2 1.41-.59l7.78-7.78 2.81-2.81c.8-.78.8-2.07 0-2.86zM5.41 20L4 18.59l7.72-7.72 1.47 1.35L5.41 20z\"/>\n",
              "  </svg>\n",
              "      </button>\n",
              "      \n",
              "  <style>\n",
              "    .colab-df-container {\n",
              "      display:flex;\n",
              "      flex-wrap:wrap;\n",
              "      gap: 12px;\n",
              "    }\n",
              "\n",
              "    .colab-df-convert {\n",
              "      background-color: #E8F0FE;\n",
              "      border: none;\n",
              "      border-radius: 50%;\n",
              "      cursor: pointer;\n",
              "      display: none;\n",
              "      fill: #1967D2;\n",
              "      height: 32px;\n",
              "      padding: 0 0 0 0;\n",
              "      width: 32px;\n",
              "    }\n",
              "\n",
              "    .colab-df-convert:hover {\n",
              "      background-color: #E2EBFA;\n",
              "      box-shadow: 0px 1px 2px rgba(60, 64, 67, 0.3), 0px 1px 3px 1px rgba(60, 64, 67, 0.15);\n",
              "      fill: #174EA6;\n",
              "    }\n",
              "\n",
              "    [theme=dark] .colab-df-convert {\n",
              "      background-color: #3B4455;\n",
              "      fill: #D2E3FC;\n",
              "    }\n",
              "\n",
              "    [theme=dark] .colab-df-convert:hover {\n",
              "      background-color: #434B5C;\n",
              "      box-shadow: 0px 1px 3px 1px rgba(0, 0, 0, 0.15);\n",
              "      filter: drop-shadow(0px 1px 2px rgba(0, 0, 0, 0.3));\n",
              "      fill: #FFFFFF;\n",
              "    }\n",
              "  </style>\n",
              "\n",
              "      <script>\n",
              "        const buttonEl =\n",
              "          document.querySelector('#df-ca2a34cb-6a40-4197-8c4b-f7848b6e0101 button.colab-df-convert');\n",
              "        buttonEl.style.display =\n",
              "          google.colab.kernel.accessAllowed ? 'block' : 'none';\n",
              "\n",
              "        async function convertToInteractive(key) {\n",
              "          const element = document.querySelector('#df-ca2a34cb-6a40-4197-8c4b-f7848b6e0101');\n",
              "          const dataTable =\n",
              "            await google.colab.kernel.invokeFunction('convertToInteractive',\n",
              "                                                     [key], {});\n",
              "          if (!dataTable) return;\n",
              "\n",
              "          const docLinkHtml = 'Like what you see? Visit the ' +\n",
              "            '<a target=\"_blank\" href=https://colab.research.google.com/notebooks/data_table.ipynb>data table notebook</a>'\n",
              "            + ' to learn more about interactive tables.';\n",
              "          element.innerHTML = '';\n",
              "          dataTable['output_type'] = 'display_data';\n",
              "          await google.colab.output.renderOutput(dataTable, element);\n",
              "          const docLink = document.createElement('div');\n",
              "          docLink.innerHTML = docLinkHtml;\n",
              "          element.appendChild(docLink);\n",
              "        }\n",
              "      </script>\n",
              "    </div>\n",
              "  </div>\n",
              "  "
            ]
          },
          "metadata": {},
          "execution_count": 4
        }
      ]
    },
    {
      "cell_type": "code",
      "execution_count": null,
      "metadata": {
        "colab": {
          "base_uri": "https://localhost:8080/"
        },
        "id": "SQPG-xdY74c7",
        "outputId": "788d03c4-2495-4b9b-f019-5d1a25ad7a86"
      },
      "outputs": [
        {
          "output_type": "execute_result",
          "data": {
            "text/plain": [
              "Index(['Unnamed: 0', 'job_title', 'full_description', 'company', 'location'], dtype='object')"
            ]
          },
          "metadata": {},
          "execution_count": 5
        }
      ],
      "source": [
        "df.columns"
      ]
    },
    {
      "cell_type": "code",
      "execution_count": null,
      "metadata": {
        "id": "ad5L-Nod7gwS"
      },
      "outputs": [],
      "source": [
        "df = df[['job_title', 'full_description', 'company', 'location']]"
      ]
    },
    {
      "cell_type": "markdown",
      "metadata": {
        "id": "7Xtycp9wOaYG"
      },
      "source": [
        "## Data Exploration"
      ]
    },
    {
      "cell_type": "code",
      "execution_count": null,
      "metadata": {
        "colab": {
          "base_uri": "https://localhost:8080/"
        },
        "id": "Fxs8FssbNPQg",
        "outputId": "38a27820-cbe4-426d-e794-c6f93827b609"
      },
      "outputs": [
        {
          "output_type": "execute_result",
          "data": {
            "text/plain": [
              "(23482, 4)"
            ]
          },
          "metadata": {},
          "execution_count": 7
        }
      ],
      "source": [
        "df.shape"
      ]
    },
    {
      "cell_type": "code",
      "execution_count": null,
      "metadata": {
        "colab": {
          "base_uri": "https://localhost:8080/",
          "height": 337
        },
        "id": "PLylaF6FNS_0",
        "outputId": "5c406533-eb9a-4cc4-93f2-c0756ae447e5"
      },
      "outputs": [
        {
          "output_type": "execute_result",
          "data": {
            "text/plain": [
              "                                           job_title  \\\n",
              "0  Senior Testmanager/Qualitätsmanager (m/w) Shif...   \n",
              "1  Junior Java Entwickler (m/w) in spannenden Ent...   \n",
              "2  (Senior)Technical Consultant (m/w) Testautomat...   \n",
              "3  Einsteiger (w/m) Digitalisierung und Data Anal...   \n",
              "4  Projektmanager / Managing Consultant (m/w) Cus...   \n",
              "\n",
              "                                    full_description  \\\n",
              "0  Zum weiteren Ausbau unseres Teams, suchen wir ...   \n",
              "1  Erfahrungen im Umgang mit objektorientierten P...   \n",
              "2  DBS-8346-SR - Einsatzort: deutschlandweit - Wi...   \n",
              "3  Die globale EY-Organisation* ist einer der Mar...   \n",
              "4  Idealerweise über drei Jahre praktische Erfahr...   \n",
              "\n",
              "                                             company  \\\n",
              "0                          NTT DATA Deutschland GmbH   \n",
              "1                          NTT DATA Deutschland GmbH   \n",
              "2                          NTT DATA Deutschland GmbH   \n",
              "3  Ernst & Young GmbH Wirtschaftsprüfungsgesellsc...   \n",
              "4                          NTT DATA Deutschland GmbH   \n",
              "\n",
              "                                            location  \n",
              "0                                    deutschlandweit  \n",
              "1  Frankfurt a.M., Köln, München, Stuttgart, deut...  \n",
              "2                                    deutschlandweit  \n",
              "3                                    Deutschlandweit  \n",
              "4     Frankfurt a.M., Köln, München, deutschlandweit  "
            ],
            "text/html": [
              "\n",
              "  <div id=\"df-4d694db0-c0c0-4818-8323-7bef93cf7593\">\n",
              "    <div class=\"colab-df-container\">\n",
              "      <div>\n",
              "<style scoped>\n",
              "    .dataframe tbody tr th:only-of-type {\n",
              "        vertical-align: middle;\n",
              "    }\n",
              "\n",
              "    .dataframe tbody tr th {\n",
              "        vertical-align: top;\n",
              "    }\n",
              "\n",
              "    .dataframe thead th {\n",
              "        text-align: right;\n",
              "    }\n",
              "</style>\n",
              "<table border=\"1\" class=\"dataframe\">\n",
              "  <thead>\n",
              "    <tr style=\"text-align: right;\">\n",
              "      <th></th>\n",
              "      <th>job_title</th>\n",
              "      <th>full_description</th>\n",
              "      <th>company</th>\n",
              "      <th>location</th>\n",
              "    </tr>\n",
              "  </thead>\n",
              "  <tbody>\n",
              "    <tr>\n",
              "      <th>0</th>\n",
              "      <td>Senior Testmanager/Qualitätsmanager (m/w) Shif...</td>\n",
              "      <td>Zum weiteren Ausbau unseres Teams, suchen wir ...</td>\n",
              "      <td>NTT DATA Deutschland GmbH</td>\n",
              "      <td>deutschlandweit</td>\n",
              "    </tr>\n",
              "    <tr>\n",
              "      <th>1</th>\n",
              "      <td>Junior Java Entwickler (m/w) in spannenden Ent...</td>\n",
              "      <td>Erfahrungen im Umgang mit objektorientierten P...</td>\n",
              "      <td>NTT DATA Deutschland GmbH</td>\n",
              "      <td>Frankfurt a.M., Köln, München, Stuttgart, deut...</td>\n",
              "    </tr>\n",
              "    <tr>\n",
              "      <th>2</th>\n",
              "      <td>(Senior)Technical Consultant (m/w) Testautomat...</td>\n",
              "      <td>DBS-8346-SR - Einsatzort: deutschlandweit - Wi...</td>\n",
              "      <td>NTT DATA Deutschland GmbH</td>\n",
              "      <td>deutschlandweit</td>\n",
              "    </tr>\n",
              "    <tr>\n",
              "      <th>3</th>\n",
              "      <td>Einsteiger (w/m) Digitalisierung und Data Anal...</td>\n",
              "      <td>Die globale EY-Organisation* ist einer der Mar...</td>\n",
              "      <td>Ernst &amp; Young GmbH Wirtschaftsprüfungsgesellsc...</td>\n",
              "      <td>Deutschlandweit</td>\n",
              "    </tr>\n",
              "    <tr>\n",
              "      <th>4</th>\n",
              "      <td>Projektmanager / Managing Consultant (m/w) Cus...</td>\n",
              "      <td>Idealerweise über drei Jahre praktische Erfahr...</td>\n",
              "      <td>NTT DATA Deutschland GmbH</td>\n",
              "      <td>Frankfurt a.M., Köln, München, deutschlandweit</td>\n",
              "    </tr>\n",
              "  </tbody>\n",
              "</table>\n",
              "</div>\n",
              "      <button class=\"colab-df-convert\" onclick=\"convertToInteractive('df-4d694db0-c0c0-4818-8323-7bef93cf7593')\"\n",
              "              title=\"Convert this dataframe to an interactive table.\"\n",
              "              style=\"display:none;\">\n",
              "        \n",
              "  <svg xmlns=\"http://www.w3.org/2000/svg\" height=\"24px\"viewBox=\"0 0 24 24\"\n",
              "       width=\"24px\">\n",
              "    <path d=\"M0 0h24v24H0V0z\" fill=\"none\"/>\n",
              "    <path d=\"M18.56 5.44l.94 2.06.94-2.06 2.06-.94-2.06-.94-.94-2.06-.94 2.06-2.06.94zm-11 1L8.5 8.5l.94-2.06 2.06-.94-2.06-.94L8.5 2.5l-.94 2.06-2.06.94zm10 10l.94 2.06.94-2.06 2.06-.94-2.06-.94-.94-2.06-.94 2.06-2.06.94z\"/><path d=\"M17.41 7.96l-1.37-1.37c-.4-.4-.92-.59-1.43-.59-.52 0-1.04.2-1.43.59L10.3 9.45l-7.72 7.72c-.78.78-.78 2.05 0 2.83L4 21.41c.39.39.9.59 1.41.59.51 0 1.02-.2 1.41-.59l7.78-7.78 2.81-2.81c.8-.78.8-2.07 0-2.86zM5.41 20L4 18.59l7.72-7.72 1.47 1.35L5.41 20z\"/>\n",
              "  </svg>\n",
              "      </button>\n",
              "      \n",
              "  <style>\n",
              "    .colab-df-container {\n",
              "      display:flex;\n",
              "      flex-wrap:wrap;\n",
              "      gap: 12px;\n",
              "    }\n",
              "\n",
              "    .colab-df-convert {\n",
              "      background-color: #E8F0FE;\n",
              "      border: none;\n",
              "      border-radius: 50%;\n",
              "      cursor: pointer;\n",
              "      display: none;\n",
              "      fill: #1967D2;\n",
              "      height: 32px;\n",
              "      padding: 0 0 0 0;\n",
              "      width: 32px;\n",
              "    }\n",
              "\n",
              "    .colab-df-convert:hover {\n",
              "      background-color: #E2EBFA;\n",
              "      box-shadow: 0px 1px 2px rgba(60, 64, 67, 0.3), 0px 1px 3px 1px rgba(60, 64, 67, 0.15);\n",
              "      fill: #174EA6;\n",
              "    }\n",
              "\n",
              "    [theme=dark] .colab-df-convert {\n",
              "      background-color: #3B4455;\n",
              "      fill: #D2E3FC;\n",
              "    }\n",
              "\n",
              "    [theme=dark] .colab-df-convert:hover {\n",
              "      background-color: #434B5C;\n",
              "      box-shadow: 0px 1px 3px 1px rgba(0, 0, 0, 0.15);\n",
              "      filter: drop-shadow(0px 1px 2px rgba(0, 0, 0, 0.3));\n",
              "      fill: #FFFFFF;\n",
              "    }\n",
              "  </style>\n",
              "\n",
              "      <script>\n",
              "        const buttonEl =\n",
              "          document.querySelector('#df-4d694db0-c0c0-4818-8323-7bef93cf7593 button.colab-df-convert');\n",
              "        buttonEl.style.display =\n",
              "          google.colab.kernel.accessAllowed ? 'block' : 'none';\n",
              "\n",
              "        async function convertToInteractive(key) {\n",
              "          const element = document.querySelector('#df-4d694db0-c0c0-4818-8323-7bef93cf7593');\n",
              "          const dataTable =\n",
              "            await google.colab.kernel.invokeFunction('convertToInteractive',\n",
              "                                                     [key], {});\n",
              "          if (!dataTable) return;\n",
              "\n",
              "          const docLinkHtml = 'Like what you see? Visit the ' +\n",
              "            '<a target=\"_blank\" href=https://colab.research.google.com/notebooks/data_table.ipynb>data table notebook</a>'\n",
              "            + ' to learn more about interactive tables.';\n",
              "          element.innerHTML = '';\n",
              "          dataTable['output_type'] = 'display_data';\n",
              "          await google.colab.output.renderOutput(dataTable, element);\n",
              "          const docLink = document.createElement('div');\n",
              "          docLink.innerHTML = docLinkHtml;\n",
              "          element.appendChild(docLink);\n",
              "        }\n",
              "      </script>\n",
              "    </div>\n",
              "  </div>\n",
              "  "
            ]
          },
          "metadata": {},
          "execution_count": 8
        }
      ],
      "source": [
        "df.head()"
      ]
    },
    {
      "cell_type": "code",
      "execution_count": null,
      "metadata": {
        "id": "cEtZhhu4Nf4k"
      },
      "outputs": [],
      "source": [
        "#from google.colab import files\n",
        "#df.to_csv('df.csv')\n",
        "#files.download('df.csv')"
      ]
    },
    {
      "cell_type": "code",
      "execution_count": null,
      "metadata": {
        "colab": {
          "base_uri": "https://localhost:8080/"
        },
        "id": "-SXWRzd0OGlK",
        "outputId": "ce176919-2cc5-494d-c1f2-6a3784d3c217"
      },
      "outputs": [
        {
          "output_type": "execute_result",
          "data": {
            "text/plain": [
              "job_title           0\n",
              "full_description    0\n",
              "company             0\n",
              "location            0\n",
              "dtype: int64"
            ]
          },
          "metadata": {},
          "execution_count": 10
        }
      ],
      "source": [
        "df.isnull().sum()"
      ]
    },
    {
      "cell_type": "code",
      "execution_count": null,
      "metadata": {
        "id": "jTo-hEpzOM0H"
      },
      "outputs": [],
      "source": [
        "#Removing the missing values: Process not necesary because we dont have missing values\n",
        "#df = df.dropna().reset_index(drop=True)\n",
        "#df.isnull().sum()"
      ]
    },
    {
      "cell_type": "code",
      "execution_count": null,
      "metadata": {
        "colab": {
          "base_uri": "https://localhost:8080/",
          "height": 624
        },
        "id": "in0HmeVwyFP8",
        "outputId": "e8fa316c-78dd-4cd0-ca17-dc4c8a2072d3"
      },
      "outputs": [
        {
          "output_type": "execute_result",
          "data": {
            "text/plain": [
              "                                               job_title  \\\n",
              "23     Data Scientist Cyber-Physical Systems (m/w) Ma...   \n",
              "105    Data Scientist (m/f) for quantitative genetic ...   \n",
              "150                                 Data Scientist (m/f)   \n",
              "151                                 Data Scientist (m/w)   \n",
              "173    Data Scientist Finance (w/m) / Frankfurt/Main ...   \n",
              "...                                                  ...   \n",
              "22047                               Data Scientist (m/w)   \n",
              "22059  Data Scientist - Analytic Specialist (w/m) - F...   \n",
              "22096                               Data Scientist (m/w)   \n",
              "22121    Data Scientist and Computational Linguist (m/f)   \n",
              "22146  Data Science (Senior) Consultant (m/w) Risk Ad...   \n",
              "\n",
              "                                        full_description  \\\n",
              "23     Spitzenleistung im Team - Mit Pioniergeist und...   \n",
              "105    We are looking to recruit - at the earliest po...   \n",
              "150    Development of complex, automated data analyti...   \n",
              "151    Jetzt Data Scientist (m/w) Unser international...   \n",
              "173    Sie haben ein abgeschlossenes Studium als Bach...   \n",
              "...                                                  ...   \n",
              "22047  Bewerben - Anstellung - Vollzeit - Ort - Duisb...   \n",
              "22059  Die globale EY-Organisation* ist einer der Mar...   \n",
              "22096  Als LEADER IN DIGITAL TRANS­FOR­MA­TION berate...   \n",
              "22121  for Reinsurance Development – Analytics Centra...   \n",
              "22146  Job Nummer: 20141 - Standort: Berlin, Düsseldo...   \n",
              "\n",
              "                                                 company  \\\n",
              "23                                  SCHUNK GmbH & Co. KG   \n",
              "105                                          KWS SAAT SE   \n",
              "150                                          QIAGEN GmbH   \n",
              "151                                          ING-DiBa AG   \n",
              "173    Ernst & Young GmbH Wirtschaftsprüfungsgesellsc...   \n",
              "...                                                  ...   \n",
              "22047                                    metapeople GmbH   \n",
              "22059  Ernst & Young GmbH Wirtschaftsprüfungsgesellsc...   \n",
              "22096                               Capgemini Consulting   \n",
              "22121        Münchener Rückversicherungs-Gesellschaft AG   \n",
              "22146                                           Deloitte   \n",
              "\n",
              "                                                location  \n",
              "23                                    Brackenheim-Hausen  \n",
              "105                                              Einbeck  \n",
              "150                                               Hilden  \n",
              "151                                    Frankfurt am Main  \n",
              "173                                 Frankfurt, Stuttgart  \n",
              "...                                                  ...  \n",
              "22047                                           Duisburg  \n",
              "22059                                  Frankfurt am Main  \n",
              "22096           Frankfurt am Main, Köln, München, Berlin  \n",
              "22121                                            München  \n",
              "22146  Berlin, Düsseldorf, Frankfurt, Hamburg, Münche...  \n",
              "\n",
              "[61 rows x 4 columns]"
            ],
            "text/html": [
              "\n",
              "  <div id=\"df-15491b8d-a869-4af8-be22-8e4465b0c8c2\">\n",
              "    <div class=\"colab-df-container\">\n",
              "      <div>\n",
              "<style scoped>\n",
              "    .dataframe tbody tr th:only-of-type {\n",
              "        vertical-align: middle;\n",
              "    }\n",
              "\n",
              "    .dataframe tbody tr th {\n",
              "        vertical-align: top;\n",
              "    }\n",
              "\n",
              "    .dataframe thead th {\n",
              "        text-align: right;\n",
              "    }\n",
              "</style>\n",
              "<table border=\"1\" class=\"dataframe\">\n",
              "  <thead>\n",
              "    <tr style=\"text-align: right;\">\n",
              "      <th></th>\n",
              "      <th>job_title</th>\n",
              "      <th>full_description</th>\n",
              "      <th>company</th>\n",
              "      <th>location</th>\n",
              "    </tr>\n",
              "  </thead>\n",
              "  <tbody>\n",
              "    <tr>\n",
              "      <th>23</th>\n",
              "      <td>Data Scientist Cyber-Physical Systems (m/w) Ma...</td>\n",
              "      <td>Spitzenleistung im Team - Mit Pioniergeist und...</td>\n",
              "      <td>SCHUNK GmbH &amp; Co. KG</td>\n",
              "      <td>Brackenheim-Hausen</td>\n",
              "    </tr>\n",
              "    <tr>\n",
              "      <th>105</th>\n",
              "      <td>Data Scientist (m/f) for quantitative genetic ...</td>\n",
              "      <td>We are looking to recruit - at the earliest po...</td>\n",
              "      <td>KWS SAAT SE</td>\n",
              "      <td>Einbeck</td>\n",
              "    </tr>\n",
              "    <tr>\n",
              "      <th>150</th>\n",
              "      <td>Data Scientist (m/f)</td>\n",
              "      <td>Development of complex, automated data analyti...</td>\n",
              "      <td>QIAGEN GmbH</td>\n",
              "      <td>Hilden</td>\n",
              "    </tr>\n",
              "    <tr>\n",
              "      <th>151</th>\n",
              "      <td>Data Scientist (m/w)</td>\n",
              "      <td>Jetzt Data Scientist (m/w) Unser international...</td>\n",
              "      <td>ING-DiBa AG</td>\n",
              "      <td>Frankfurt am Main</td>\n",
              "    </tr>\n",
              "    <tr>\n",
              "      <th>173</th>\n",
              "      <td>Data Scientist Finance (w/m) / Frankfurt/Main ...</td>\n",
              "      <td>Sie haben ein abgeschlossenes Studium als Bach...</td>\n",
              "      <td>Ernst &amp; Young GmbH Wirtschaftsprüfungsgesellsc...</td>\n",
              "      <td>Frankfurt, Stuttgart</td>\n",
              "    </tr>\n",
              "    <tr>\n",
              "      <th>...</th>\n",
              "      <td>...</td>\n",
              "      <td>...</td>\n",
              "      <td>...</td>\n",
              "      <td>...</td>\n",
              "    </tr>\n",
              "    <tr>\n",
              "      <th>22047</th>\n",
              "      <td>Data Scientist (m/w)</td>\n",
              "      <td>Bewerben - Anstellung - Vollzeit - Ort - Duisb...</td>\n",
              "      <td>metapeople GmbH</td>\n",
              "      <td>Duisburg</td>\n",
              "    </tr>\n",
              "    <tr>\n",
              "      <th>22059</th>\n",
              "      <td>Data Scientist - Analytic Specialist (w/m) - F...</td>\n",
              "      <td>Die globale EY-Organisation* ist einer der Mar...</td>\n",
              "      <td>Ernst &amp; Young GmbH Wirtschaftsprüfungsgesellsc...</td>\n",
              "      <td>Frankfurt am Main</td>\n",
              "    </tr>\n",
              "    <tr>\n",
              "      <th>22096</th>\n",
              "      <td>Data Scientist (m/w)</td>\n",
              "      <td>Als LEADER IN DIGITAL TRANS­FOR­MA­TION berate...</td>\n",
              "      <td>Capgemini Consulting</td>\n",
              "      <td>Frankfurt am Main, Köln, München, Berlin</td>\n",
              "    </tr>\n",
              "    <tr>\n",
              "      <th>22121</th>\n",
              "      <td>Data Scientist and Computational Linguist (m/f)</td>\n",
              "      <td>for Reinsurance Development – Analytics Centra...</td>\n",
              "      <td>Münchener Rückversicherungs-Gesellschaft AG</td>\n",
              "      <td>München</td>\n",
              "    </tr>\n",
              "    <tr>\n",
              "      <th>22146</th>\n",
              "      <td>Data Science (Senior) Consultant (m/w) Risk Ad...</td>\n",
              "      <td>Job Nummer: 20141 - Standort: Berlin, Düsseldo...</td>\n",
              "      <td>Deloitte</td>\n",
              "      <td>Berlin, Düsseldorf, Frankfurt, Hamburg, Münche...</td>\n",
              "    </tr>\n",
              "  </tbody>\n",
              "</table>\n",
              "<p>61 rows × 4 columns</p>\n",
              "</div>\n",
              "      <button class=\"colab-df-convert\" onclick=\"convertToInteractive('df-15491b8d-a869-4af8-be22-8e4465b0c8c2')\"\n",
              "              title=\"Convert this dataframe to an interactive table.\"\n",
              "              style=\"display:none;\">\n",
              "        \n",
              "  <svg xmlns=\"http://www.w3.org/2000/svg\" height=\"24px\"viewBox=\"0 0 24 24\"\n",
              "       width=\"24px\">\n",
              "    <path d=\"M0 0h24v24H0V0z\" fill=\"none\"/>\n",
              "    <path d=\"M18.56 5.44l.94 2.06.94-2.06 2.06-.94-2.06-.94-.94-2.06-.94 2.06-2.06.94zm-11 1L8.5 8.5l.94-2.06 2.06-.94-2.06-.94L8.5 2.5l-.94 2.06-2.06.94zm10 10l.94 2.06.94-2.06 2.06-.94-2.06-.94-.94-2.06-.94 2.06-2.06.94z\"/><path d=\"M17.41 7.96l-1.37-1.37c-.4-.4-.92-.59-1.43-.59-.52 0-1.04.2-1.43.59L10.3 9.45l-7.72 7.72c-.78.78-.78 2.05 0 2.83L4 21.41c.39.39.9.59 1.41.59.51 0 1.02-.2 1.41-.59l7.78-7.78 2.81-2.81c.8-.78.8-2.07 0-2.86zM5.41 20L4 18.59l7.72-7.72 1.47 1.35L5.41 20z\"/>\n",
              "  </svg>\n",
              "      </button>\n",
              "      \n",
              "  <style>\n",
              "    .colab-df-container {\n",
              "      display:flex;\n",
              "      flex-wrap:wrap;\n",
              "      gap: 12px;\n",
              "    }\n",
              "\n",
              "    .colab-df-convert {\n",
              "      background-color: #E8F0FE;\n",
              "      border: none;\n",
              "      border-radius: 50%;\n",
              "      cursor: pointer;\n",
              "      display: none;\n",
              "      fill: #1967D2;\n",
              "      height: 32px;\n",
              "      padding: 0 0 0 0;\n",
              "      width: 32px;\n",
              "    }\n",
              "\n",
              "    .colab-df-convert:hover {\n",
              "      background-color: #E2EBFA;\n",
              "      box-shadow: 0px 1px 2px rgba(60, 64, 67, 0.3), 0px 1px 3px 1px rgba(60, 64, 67, 0.15);\n",
              "      fill: #174EA6;\n",
              "    }\n",
              "\n",
              "    [theme=dark] .colab-df-convert {\n",
              "      background-color: #3B4455;\n",
              "      fill: #D2E3FC;\n",
              "    }\n",
              "\n",
              "    [theme=dark] .colab-df-convert:hover {\n",
              "      background-color: #434B5C;\n",
              "      box-shadow: 0px 1px 3px 1px rgba(0, 0, 0, 0.15);\n",
              "      filter: drop-shadow(0px 1px 2px rgba(0, 0, 0, 0.3));\n",
              "      fill: #FFFFFF;\n",
              "    }\n",
              "  </style>\n",
              "\n",
              "      <script>\n",
              "        const buttonEl =\n",
              "          document.querySelector('#df-15491b8d-a869-4af8-be22-8e4465b0c8c2 button.colab-df-convert');\n",
              "        buttonEl.style.display =\n",
              "          google.colab.kernel.accessAllowed ? 'block' : 'none';\n",
              "\n",
              "        async function convertToInteractive(key) {\n",
              "          const element = document.querySelector('#df-15491b8d-a869-4af8-be22-8e4465b0c8c2');\n",
              "          const dataTable =\n",
              "            await google.colab.kernel.invokeFunction('convertToInteractive',\n",
              "                                                     [key], {});\n",
              "          if (!dataTable) return;\n",
              "\n",
              "          const docLinkHtml = 'Like what you see? Visit the ' +\n",
              "            '<a target=\"_blank\" href=https://colab.research.google.com/notebooks/data_table.ipynb>data table notebook</a>'\n",
              "            + ' to learn more about interactive tables.';\n",
              "          element.innerHTML = '';\n",
              "          dataTable['output_type'] = 'display_data';\n",
              "          await google.colab.output.renderOutput(dataTable, element);\n",
              "          const docLink = document.createElement('div');\n",
              "          docLink.innerHTML = docLinkHtml;\n",
              "          element.appendChild(docLink);\n",
              "        }\n",
              "      </script>\n",
              "    </div>\n",
              "  </div>\n",
              "  "
            ]
          },
          "metadata": {},
          "execution_count": 12
        }
      ],
      "source": [
        "df[df['job_title'].str.match('Data Scien')]"
      ]
    },
    {
      "cell_type": "markdown",
      "metadata": {
        "id": "FgV28rXhyLZQ"
      },
      "source": [
        "There are duplicates that will be removed at the end of preprocessing: "
      ]
    },
    {
      "cell_type": "code",
      "execution_count": null,
      "metadata": {
        "colab": {
          "base_uri": "https://localhost:8080/",
          "height": 424
        },
        "id": "aJMJyE26yIfg",
        "outputId": "6caf6203-7630-48fa-c311-66fbfe6a9cc3"
      },
      "outputs": [
        {
          "output_type": "execute_result",
          "data": {
            "text/plain": [
              "                                               job_title  \\\n",
              "601                                 Web-Entwickler (m/w)   \n",
              "1407                              Developer (w/m) SAP MM   \n",
              "1536                               Systemingenieur (m/w)   \n",
              "2154                        Prüfverfahrensentwickler/-in   \n",
              "2197                    Produktingenieur Prüfköpfe (m/w)   \n",
              "...                                                  ...   \n",
              "22463      Elektroingenieur als Bauüberwacher Bahn (w/m)   \n",
              "22673                    Supplier Quality Engineer (m/w)   \n",
              "22743                       Ingenieur/in (TU/TH), Master   \n",
              "22907  Entwicklungsingenieur (m/w) Pfadplanung für au...   \n",
              "23153                 Entwicklungsingenieur/-in Hardware   \n",
              "\n",
              "                                        full_description  \\\n",
              "601    Dafür brauchen wir Deine Unterstützung als Web...   \n",
              "1407   Als Developer (w/m) SAP MM gestaltest du Proze...   \n",
              "1536   Bei BioNTech leistet jeder Großes! Denn als gr...   \n",
              "2154   Reutlingen * Feste Anstellung * Vollzeit - Wil...   \n",
              "2197   Als Produktingenieur sind Sie für die Umsetzun...   \n",
              "...                                                  ...   \n",
              "22463  Die Deutsche Bahn ist nicht nur einer der wich...   \n",
              "22673  The Supplier Quality Engineer will collaborate...   \n",
              "22743  Für den Dienstort Stuttgart suchen wir einen/e...   \n",
              "22907  Der Bertrandt-Konzern bietet seit über 40 Jahr...   \n",
              "23153  Schwäbisch Gmünd * Feste Anstellung * Vollzeit...   \n",
              "\n",
              "                                         company            location  \n",
              "601                                   DeepL GmbH                Köln  \n",
              "1407    Lidl Digital International GmbH & Co. KG  Leingarten, Berlin  \n",
              "1536                                 BioNTech AG               Mainz  \n",
              "2154                           Robert Bosch GmbH          Reutlingen  \n",
              "2197                   Baker Hughes a GE Company               Hürth  \n",
              "...                                          ...                 ...  \n",
              "22463                           Deutsche Bahn AG            Nürnberg  \n",
              "22673                  Baker Hughes a GE Company            Wunstorf  \n",
              "22743  BGHM Berufsgenossenschaft Holz und Metall           Stuttgart  \n",
              "22907                               Bertrandt AG   Frankfurt am Main  \n",
              "23153                          Robert Bosch GmbH    Schwäbisch Gmünd  \n",
              "\n",
              "[70 rows x 4 columns]"
            ],
            "text/html": [
              "\n",
              "  <div id=\"df-b25fc991-4efd-4cd2-8604-b100608c8578\">\n",
              "    <div class=\"colab-df-container\">\n",
              "      <div>\n",
              "<style scoped>\n",
              "    .dataframe tbody tr th:only-of-type {\n",
              "        vertical-align: middle;\n",
              "    }\n",
              "\n",
              "    .dataframe tbody tr th {\n",
              "        vertical-align: top;\n",
              "    }\n",
              "\n",
              "    .dataframe thead th {\n",
              "        text-align: right;\n",
              "    }\n",
              "</style>\n",
              "<table border=\"1\" class=\"dataframe\">\n",
              "  <thead>\n",
              "    <tr style=\"text-align: right;\">\n",
              "      <th></th>\n",
              "      <th>job_title</th>\n",
              "      <th>full_description</th>\n",
              "      <th>company</th>\n",
              "      <th>location</th>\n",
              "    </tr>\n",
              "  </thead>\n",
              "  <tbody>\n",
              "    <tr>\n",
              "      <th>601</th>\n",
              "      <td>Web-Entwickler (m/w)</td>\n",
              "      <td>Dafür brauchen wir Deine Unterstützung als Web...</td>\n",
              "      <td>DeepL GmbH</td>\n",
              "      <td>Köln</td>\n",
              "    </tr>\n",
              "    <tr>\n",
              "      <th>1407</th>\n",
              "      <td>Developer (w/m) SAP MM</td>\n",
              "      <td>Als Developer (w/m) SAP MM gestaltest du Proze...</td>\n",
              "      <td>Lidl Digital International GmbH &amp; Co. KG</td>\n",
              "      <td>Leingarten, Berlin</td>\n",
              "    </tr>\n",
              "    <tr>\n",
              "      <th>1536</th>\n",
              "      <td>Systemingenieur (m/w)</td>\n",
              "      <td>Bei BioNTech leistet jeder Großes! Denn als gr...</td>\n",
              "      <td>BioNTech AG</td>\n",
              "      <td>Mainz</td>\n",
              "    </tr>\n",
              "    <tr>\n",
              "      <th>2154</th>\n",
              "      <td>Prüfverfahrensentwickler/-in</td>\n",
              "      <td>Reutlingen * Feste Anstellung * Vollzeit - Wil...</td>\n",
              "      <td>Robert Bosch GmbH</td>\n",
              "      <td>Reutlingen</td>\n",
              "    </tr>\n",
              "    <tr>\n",
              "      <th>2197</th>\n",
              "      <td>Produktingenieur Prüfköpfe (m/w)</td>\n",
              "      <td>Als Produktingenieur sind Sie für die Umsetzun...</td>\n",
              "      <td>Baker Hughes a GE Company</td>\n",
              "      <td>Hürth</td>\n",
              "    </tr>\n",
              "    <tr>\n",
              "      <th>...</th>\n",
              "      <td>...</td>\n",
              "      <td>...</td>\n",
              "      <td>...</td>\n",
              "      <td>...</td>\n",
              "    </tr>\n",
              "    <tr>\n",
              "      <th>22463</th>\n",
              "      <td>Elektroingenieur als Bauüberwacher Bahn (w/m)</td>\n",
              "      <td>Die Deutsche Bahn ist nicht nur einer der wich...</td>\n",
              "      <td>Deutsche Bahn AG</td>\n",
              "      <td>Nürnberg</td>\n",
              "    </tr>\n",
              "    <tr>\n",
              "      <th>22673</th>\n",
              "      <td>Supplier Quality Engineer (m/w)</td>\n",
              "      <td>The Supplier Quality Engineer will collaborate...</td>\n",
              "      <td>Baker Hughes a GE Company</td>\n",
              "      <td>Wunstorf</td>\n",
              "    </tr>\n",
              "    <tr>\n",
              "      <th>22743</th>\n",
              "      <td>Ingenieur/in (TU/TH), Master</td>\n",
              "      <td>Für den Dienstort Stuttgart suchen wir einen/e...</td>\n",
              "      <td>BGHM Berufsgenossenschaft Holz und Metall</td>\n",
              "      <td>Stuttgart</td>\n",
              "    </tr>\n",
              "    <tr>\n",
              "      <th>22907</th>\n",
              "      <td>Entwicklungsingenieur (m/w) Pfadplanung für au...</td>\n",
              "      <td>Der Bertrandt-Konzern bietet seit über 40 Jahr...</td>\n",
              "      <td>Bertrandt AG</td>\n",
              "      <td>Frankfurt am Main</td>\n",
              "    </tr>\n",
              "    <tr>\n",
              "      <th>23153</th>\n",
              "      <td>Entwicklungsingenieur/-in Hardware</td>\n",
              "      <td>Schwäbisch Gmünd * Feste Anstellung * Vollzeit...</td>\n",
              "      <td>Robert Bosch GmbH</td>\n",
              "      <td>Schwäbisch Gmünd</td>\n",
              "    </tr>\n",
              "  </tbody>\n",
              "</table>\n",
              "<p>70 rows × 4 columns</p>\n",
              "</div>\n",
              "      <button class=\"colab-df-convert\" onclick=\"convertToInteractive('df-b25fc991-4efd-4cd2-8604-b100608c8578')\"\n",
              "              title=\"Convert this dataframe to an interactive table.\"\n",
              "              style=\"display:none;\">\n",
              "        \n",
              "  <svg xmlns=\"http://www.w3.org/2000/svg\" height=\"24px\"viewBox=\"0 0 24 24\"\n",
              "       width=\"24px\">\n",
              "    <path d=\"M0 0h24v24H0V0z\" fill=\"none\"/>\n",
              "    <path d=\"M18.56 5.44l.94 2.06.94-2.06 2.06-.94-2.06-.94-.94-2.06-.94 2.06-2.06.94zm-11 1L8.5 8.5l.94-2.06 2.06-.94-2.06-.94L8.5 2.5l-.94 2.06-2.06.94zm10 10l.94 2.06.94-2.06 2.06-.94-2.06-.94-.94-2.06-.94 2.06-2.06.94z\"/><path d=\"M17.41 7.96l-1.37-1.37c-.4-.4-.92-.59-1.43-.59-.52 0-1.04.2-1.43.59L10.3 9.45l-7.72 7.72c-.78.78-.78 2.05 0 2.83L4 21.41c.39.39.9.59 1.41.59.51 0 1.02-.2 1.41-.59l7.78-7.78 2.81-2.81c.8-.78.8-2.07 0-2.86zM5.41 20L4 18.59l7.72-7.72 1.47 1.35L5.41 20z\"/>\n",
              "  </svg>\n",
              "      </button>\n",
              "      \n",
              "  <style>\n",
              "    .colab-df-container {\n",
              "      display:flex;\n",
              "      flex-wrap:wrap;\n",
              "      gap: 12px;\n",
              "    }\n",
              "\n",
              "    .colab-df-convert {\n",
              "      background-color: #E8F0FE;\n",
              "      border: none;\n",
              "      border-radius: 50%;\n",
              "      cursor: pointer;\n",
              "      display: none;\n",
              "      fill: #1967D2;\n",
              "      height: 32px;\n",
              "      padding: 0 0 0 0;\n",
              "      width: 32px;\n",
              "    }\n",
              "\n",
              "    .colab-df-convert:hover {\n",
              "      background-color: #E2EBFA;\n",
              "      box-shadow: 0px 1px 2px rgba(60, 64, 67, 0.3), 0px 1px 3px 1px rgba(60, 64, 67, 0.15);\n",
              "      fill: #174EA6;\n",
              "    }\n",
              "\n",
              "    [theme=dark] .colab-df-convert {\n",
              "      background-color: #3B4455;\n",
              "      fill: #D2E3FC;\n",
              "    }\n",
              "\n",
              "    [theme=dark] .colab-df-convert:hover {\n",
              "      background-color: #434B5C;\n",
              "      box-shadow: 0px 1px 3px 1px rgba(0, 0, 0, 0.15);\n",
              "      filter: drop-shadow(0px 1px 2px rgba(0, 0, 0, 0.3));\n",
              "      fill: #FFFFFF;\n",
              "    }\n",
              "  </style>\n",
              "\n",
              "      <script>\n",
              "        const buttonEl =\n",
              "          document.querySelector('#df-b25fc991-4efd-4cd2-8604-b100608c8578 button.colab-df-convert');\n",
              "        buttonEl.style.display =\n",
              "          google.colab.kernel.accessAllowed ? 'block' : 'none';\n",
              "\n",
              "        async function convertToInteractive(key) {\n",
              "          const element = document.querySelector('#df-b25fc991-4efd-4cd2-8604-b100608c8578');\n",
              "          const dataTable =\n",
              "            await google.colab.kernel.invokeFunction('convertToInteractive',\n",
              "                                                     [key], {});\n",
              "          if (!dataTable) return;\n",
              "\n",
              "          const docLinkHtml = 'Like what you see? Visit the ' +\n",
              "            '<a target=\"_blank\" href=https://colab.research.google.com/notebooks/data_table.ipynb>data table notebook</a>'\n",
              "            + ' to learn more about interactive tables.';\n",
              "          element.innerHTML = '';\n",
              "          dataTable['output_type'] = 'display_data';\n",
              "          await google.colab.output.renderOutput(dataTable, element);\n",
              "          const docLink = document.createElement('div');\n",
              "          docLink.innerHTML = docLinkHtml;\n",
              "          element.appendChild(docLink);\n",
              "        }\n",
              "      </script>\n",
              "    </div>\n",
              "  </div>\n",
              "  "
            ]
          },
          "metadata": {},
          "execution_count": 13
        }
      ],
      "source": [
        "df[df.duplicated()]"
      ]
    },
    {
      "cell_type": "code",
      "source": [
        "df['job_full'] = df.job_title.str.cat(df.full_description, sep =\" \")"
      ],
      "metadata": {
        "id": "dO-qozhbwQOJ"
      },
      "execution_count": null,
      "outputs": []
    },
    {
      "cell_type": "code",
      "source": [
        "df"
      ],
      "metadata": {
        "colab": {
          "base_uri": "https://localhost:8080/",
          "height": 641
        },
        "id": "dMlTrFjSyUcX",
        "outputId": "e004d116-4a5e-4f55-913b-d549962a64a7"
      },
      "execution_count": null,
      "outputs": [
        {
          "output_type": "execute_result",
          "data": {
            "text/plain": [
              "                                               job_title  \\\n",
              "0      Senior Testmanager/Qualitätsmanager (m/w) Shif...   \n",
              "1      Junior Java Entwickler (m/w) in spannenden Ent...   \n",
              "2      (Senior)Technical Consultant (m/w) Testautomat...   \n",
              "3      Einsteiger (w/m) Digitalisierung und Data Anal...   \n",
              "4      Projektmanager / Managing Consultant (m/w) Cus...   \n",
              "...                                                  ...   \n",
              "23477       Technischer Fachberater (m/w) im Innendienst   \n",
              "23478  Wirtschaftsingenieur als Referent im Vertrieb ...   \n",
              "23479                                   IT Fachkraft m/w   \n",
              "23480  (Junior) Projektingenieur Sensorik und Kommuni...   \n",
              "23481      Bauingenieur Konstruktiver Ingenieurbau (w/m)   \n",
              "\n",
              "                                        full_description  \\\n",
              "0      Zum weiteren Ausbau unseres Teams, suchen wir ...   \n",
              "1      Erfahrungen im Umgang mit objektorientierten P...   \n",
              "2      DBS-8346-SR - Einsatzort: deutschlandweit - Wi...   \n",
              "3      Die globale EY-Organisation* ist einer der Mar...   \n",
              "4      Idealerweise über drei Jahre praktische Erfahr...   \n",
              "...                                                  ...   \n",
              "23477  Sie haben eine kaufmännische bzw. technische A...   \n",
              "23478  Die Deutsche Bahn ist nicht nur einer der wich...   \n",
              "23479  Standort: Heilbad Heiligenstadt (37308), Thüri...   \n",
              "23480  Für unseren Geschäftsbereich Verteidigung & Si...   \n",
              "23481  Die Deutsche Bahn ist nicht nur einer der wich...   \n",
              "\n",
              "                                                 company  \\\n",
              "0                              NTT DATA Deutschland GmbH   \n",
              "1                              NTT DATA Deutschland GmbH   \n",
              "2                              NTT DATA Deutschland GmbH   \n",
              "3      Ernst & Young GmbH Wirtschaftsprüfungsgesellsc...   \n",
              "4                              NTT DATA Deutschland GmbH   \n",
              "...                                                  ...   \n",
              "23477                                 Rala GmbH & Co. KG   \n",
              "23478                                   Deutsche Bahn AG   \n",
              "23479                                              Magna   \n",
              "23480   IABG Industrieanlagen - Betriebsgesellschaft mbH   \n",
              "23481                                   Deutsche Bahn AG   \n",
              "\n",
              "                                                location  \\\n",
              "0                                        deutschlandweit   \n",
              "1      Frankfurt a.M., Köln, München, Stuttgart, deut...   \n",
              "2                                        deutschlandweit   \n",
              "3                                        Deutschlandweit   \n",
              "4         Frankfurt a.M., Köln, München, deutschlandweit   \n",
              "...                                                  ...   \n",
              "23477                                       Ludwigshafen   \n",
              "23478                                             Berlin   \n",
              "23479                              Heilbad Heiligenstadt   \n",
              "23480                     Ottobrunn bei München, Koblenz   \n",
              "23481                                          Stuttgart   \n",
              "\n",
              "                                                job_full  \n",
              "0      Senior Testmanager/Qualitätsmanager (m/w) Shif...  \n",
              "1      Junior Java Entwickler (m/w) in spannenden Ent...  \n",
              "2      (Senior)Technical Consultant (m/w) Testautomat...  \n",
              "3      Einsteiger (w/m) Digitalisierung und Data Anal...  \n",
              "4      Projektmanager / Managing Consultant (m/w) Cus...  \n",
              "...                                                  ...  \n",
              "23477  Technischer Fachberater (m/w) im Innendienst S...  \n",
              "23478  Wirtschaftsingenieur als Referent im Vertrieb ...  \n",
              "23479  IT Fachkraft m/w Standort: Heilbad Heiligensta...  \n",
              "23480  (Junior) Projektingenieur Sensorik und Kommuni...  \n",
              "23481  Bauingenieur Konstruktiver Ingenieurbau (w/m) ...  \n",
              "\n",
              "[23482 rows x 5 columns]"
            ],
            "text/html": [
              "\n",
              "  <div id=\"df-b16dccf9-0813-45b9-9510-de3c9ecb7e65\">\n",
              "    <div class=\"colab-df-container\">\n",
              "      <div>\n",
              "<style scoped>\n",
              "    .dataframe tbody tr th:only-of-type {\n",
              "        vertical-align: middle;\n",
              "    }\n",
              "\n",
              "    .dataframe tbody tr th {\n",
              "        vertical-align: top;\n",
              "    }\n",
              "\n",
              "    .dataframe thead th {\n",
              "        text-align: right;\n",
              "    }\n",
              "</style>\n",
              "<table border=\"1\" class=\"dataframe\">\n",
              "  <thead>\n",
              "    <tr style=\"text-align: right;\">\n",
              "      <th></th>\n",
              "      <th>job_title</th>\n",
              "      <th>full_description</th>\n",
              "      <th>company</th>\n",
              "      <th>location</th>\n",
              "      <th>job_full</th>\n",
              "    </tr>\n",
              "  </thead>\n",
              "  <tbody>\n",
              "    <tr>\n",
              "      <th>0</th>\n",
              "      <td>Senior Testmanager/Qualitätsmanager (m/w) Shif...</td>\n",
              "      <td>Zum weiteren Ausbau unseres Teams, suchen wir ...</td>\n",
              "      <td>NTT DATA Deutschland GmbH</td>\n",
              "      <td>deutschlandweit</td>\n",
              "      <td>Senior Testmanager/Qualitätsmanager (m/w) Shif...</td>\n",
              "    </tr>\n",
              "    <tr>\n",
              "      <th>1</th>\n",
              "      <td>Junior Java Entwickler (m/w) in spannenden Ent...</td>\n",
              "      <td>Erfahrungen im Umgang mit objektorientierten P...</td>\n",
              "      <td>NTT DATA Deutschland GmbH</td>\n",
              "      <td>Frankfurt a.M., Köln, München, Stuttgart, deut...</td>\n",
              "      <td>Junior Java Entwickler (m/w) in spannenden Ent...</td>\n",
              "    </tr>\n",
              "    <tr>\n",
              "      <th>2</th>\n",
              "      <td>(Senior)Technical Consultant (m/w) Testautomat...</td>\n",
              "      <td>DBS-8346-SR - Einsatzort: deutschlandweit - Wi...</td>\n",
              "      <td>NTT DATA Deutschland GmbH</td>\n",
              "      <td>deutschlandweit</td>\n",
              "      <td>(Senior)Technical Consultant (m/w) Testautomat...</td>\n",
              "    </tr>\n",
              "    <tr>\n",
              "      <th>3</th>\n",
              "      <td>Einsteiger (w/m) Digitalisierung und Data Anal...</td>\n",
              "      <td>Die globale EY-Organisation* ist einer der Mar...</td>\n",
              "      <td>Ernst &amp; Young GmbH Wirtschaftsprüfungsgesellsc...</td>\n",
              "      <td>Deutschlandweit</td>\n",
              "      <td>Einsteiger (w/m) Digitalisierung und Data Anal...</td>\n",
              "    </tr>\n",
              "    <tr>\n",
              "      <th>4</th>\n",
              "      <td>Projektmanager / Managing Consultant (m/w) Cus...</td>\n",
              "      <td>Idealerweise über drei Jahre praktische Erfahr...</td>\n",
              "      <td>NTT DATA Deutschland GmbH</td>\n",
              "      <td>Frankfurt a.M., Köln, München, deutschlandweit</td>\n",
              "      <td>Projektmanager / Managing Consultant (m/w) Cus...</td>\n",
              "    </tr>\n",
              "    <tr>\n",
              "      <th>...</th>\n",
              "      <td>...</td>\n",
              "      <td>...</td>\n",
              "      <td>...</td>\n",
              "      <td>...</td>\n",
              "      <td>...</td>\n",
              "    </tr>\n",
              "    <tr>\n",
              "      <th>23477</th>\n",
              "      <td>Technischer Fachberater (m/w) im Innendienst</td>\n",
              "      <td>Sie haben eine kaufmännische bzw. technische A...</td>\n",
              "      <td>Rala GmbH &amp; Co. KG</td>\n",
              "      <td>Ludwigshafen</td>\n",
              "      <td>Technischer Fachberater (m/w) im Innendienst S...</td>\n",
              "    </tr>\n",
              "    <tr>\n",
              "      <th>23478</th>\n",
              "      <td>Wirtschaftsingenieur als Referent im Vertrieb ...</td>\n",
              "      <td>Die Deutsche Bahn ist nicht nur einer der wich...</td>\n",
              "      <td>Deutsche Bahn AG</td>\n",
              "      <td>Berlin</td>\n",
              "      <td>Wirtschaftsingenieur als Referent im Vertrieb ...</td>\n",
              "    </tr>\n",
              "    <tr>\n",
              "      <th>23479</th>\n",
              "      <td>IT Fachkraft m/w</td>\n",
              "      <td>Standort: Heilbad Heiligenstadt (37308), Thüri...</td>\n",
              "      <td>Magna</td>\n",
              "      <td>Heilbad Heiligenstadt</td>\n",
              "      <td>IT Fachkraft m/w Standort: Heilbad Heiligensta...</td>\n",
              "    </tr>\n",
              "    <tr>\n",
              "      <th>23480</th>\n",
              "      <td>(Junior) Projektingenieur Sensorik und Kommuni...</td>\n",
              "      <td>Für unseren Geschäftsbereich Verteidigung &amp; Si...</td>\n",
              "      <td>IABG Industrieanlagen - Betriebsgesellschaft mbH</td>\n",
              "      <td>Ottobrunn bei München, Koblenz</td>\n",
              "      <td>(Junior) Projektingenieur Sensorik und Kommuni...</td>\n",
              "    </tr>\n",
              "    <tr>\n",
              "      <th>23481</th>\n",
              "      <td>Bauingenieur Konstruktiver Ingenieurbau (w/m)</td>\n",
              "      <td>Die Deutsche Bahn ist nicht nur einer der wich...</td>\n",
              "      <td>Deutsche Bahn AG</td>\n",
              "      <td>Stuttgart</td>\n",
              "      <td>Bauingenieur Konstruktiver Ingenieurbau (w/m) ...</td>\n",
              "    </tr>\n",
              "  </tbody>\n",
              "</table>\n",
              "<p>23482 rows × 5 columns</p>\n",
              "</div>\n",
              "      <button class=\"colab-df-convert\" onclick=\"convertToInteractive('df-b16dccf9-0813-45b9-9510-de3c9ecb7e65')\"\n",
              "              title=\"Convert this dataframe to an interactive table.\"\n",
              "              style=\"display:none;\">\n",
              "        \n",
              "  <svg xmlns=\"http://www.w3.org/2000/svg\" height=\"24px\"viewBox=\"0 0 24 24\"\n",
              "       width=\"24px\">\n",
              "    <path d=\"M0 0h24v24H0V0z\" fill=\"none\"/>\n",
              "    <path d=\"M18.56 5.44l.94 2.06.94-2.06 2.06-.94-2.06-.94-.94-2.06-.94 2.06-2.06.94zm-11 1L8.5 8.5l.94-2.06 2.06-.94-2.06-.94L8.5 2.5l-.94 2.06-2.06.94zm10 10l.94 2.06.94-2.06 2.06-.94-2.06-.94-.94-2.06-.94 2.06-2.06.94z\"/><path d=\"M17.41 7.96l-1.37-1.37c-.4-.4-.92-.59-1.43-.59-.52 0-1.04.2-1.43.59L10.3 9.45l-7.72 7.72c-.78.78-.78 2.05 0 2.83L4 21.41c.39.39.9.59 1.41.59.51 0 1.02-.2 1.41-.59l7.78-7.78 2.81-2.81c.8-.78.8-2.07 0-2.86zM5.41 20L4 18.59l7.72-7.72 1.47 1.35L5.41 20z\"/>\n",
              "  </svg>\n",
              "      </button>\n",
              "      \n",
              "  <style>\n",
              "    .colab-df-container {\n",
              "      display:flex;\n",
              "      flex-wrap:wrap;\n",
              "      gap: 12px;\n",
              "    }\n",
              "\n",
              "    .colab-df-convert {\n",
              "      background-color: #E8F0FE;\n",
              "      border: none;\n",
              "      border-radius: 50%;\n",
              "      cursor: pointer;\n",
              "      display: none;\n",
              "      fill: #1967D2;\n",
              "      height: 32px;\n",
              "      padding: 0 0 0 0;\n",
              "      width: 32px;\n",
              "    }\n",
              "\n",
              "    .colab-df-convert:hover {\n",
              "      background-color: #E2EBFA;\n",
              "      box-shadow: 0px 1px 2px rgba(60, 64, 67, 0.3), 0px 1px 3px 1px rgba(60, 64, 67, 0.15);\n",
              "      fill: #174EA6;\n",
              "    }\n",
              "\n",
              "    [theme=dark] .colab-df-convert {\n",
              "      background-color: #3B4455;\n",
              "      fill: #D2E3FC;\n",
              "    }\n",
              "\n",
              "    [theme=dark] .colab-df-convert:hover {\n",
              "      background-color: #434B5C;\n",
              "      box-shadow: 0px 1px 3px 1px rgba(0, 0, 0, 0.15);\n",
              "      filter: drop-shadow(0px 1px 2px rgba(0, 0, 0, 0.3));\n",
              "      fill: #FFFFFF;\n",
              "    }\n",
              "  </style>\n",
              "\n",
              "      <script>\n",
              "        const buttonEl =\n",
              "          document.querySelector('#df-b16dccf9-0813-45b9-9510-de3c9ecb7e65 button.colab-df-convert');\n",
              "        buttonEl.style.display =\n",
              "          google.colab.kernel.accessAllowed ? 'block' : 'none';\n",
              "\n",
              "        async function convertToInteractive(key) {\n",
              "          const element = document.querySelector('#df-b16dccf9-0813-45b9-9510-de3c9ecb7e65');\n",
              "          const dataTable =\n",
              "            await google.colab.kernel.invokeFunction('convertToInteractive',\n",
              "                                                     [key], {});\n",
              "          if (!dataTable) return;\n",
              "\n",
              "          const docLinkHtml = 'Like what you see? Visit the ' +\n",
              "            '<a target=\"_blank\" href=https://colab.research.google.com/notebooks/data_table.ipynb>data table notebook</a>'\n",
              "            + ' to learn more about interactive tables.';\n",
              "          element.innerHTML = '';\n",
              "          dataTable['output_type'] = 'display_data';\n",
              "          await google.colab.output.renderOutput(dataTable, element);\n",
              "          const docLink = document.createElement('div');\n",
              "          docLink.innerHTML = docLinkHtml;\n",
              "          element.appendChild(docLink);\n",
              "        }\n",
              "      </script>\n",
              "    </div>\n",
              "  </div>\n",
              "  "
            ]
          },
          "metadata": {},
          "execution_count": 16
        }
      ]
    },
    {
      "cell_type": "markdown",
      "metadata": {
        "id": "aF8NZ28BOfr8"
      },
      "source": [
        "## Data Preprocessing"
      ]
    },
    {
      "cell_type": "code",
      "execution_count": null,
      "metadata": {
        "id": "QflEv75EVdzj"
      },
      "outputs": [],
      "source": [
        "import re  # For preprocessing\n",
        "import pandas as pd  # For data handling\n",
        "from time import time  # To time our operations\n",
        "from collections import defaultdict  # For word frequency\n",
        "\n",
        "import spacy  # For preprocessing\n",
        "\n",
        "import logging  # Setting up the loggings to monitor gensim\n",
        "logging.basicConfig(format=\"%(levelname)s - %(asctime)s: %(message)s\", datefmt= '%H:%M:%S', level=logging.INFO)"
      ]
    },
    {
      "cell_type": "markdown",
      "metadata": {
        "id": "OS09pv2PPe2L"
      },
      "source": [
        "We are lemmatizing and removing the stopwords and non-alphabetic characters for each line of dialogue."
      ]
    },
    {
      "cell_type": "code",
      "execution_count": null,
      "metadata": {
        "colab": {
          "base_uri": "https://localhost:8080/"
        },
        "id": "MOXLhKB6XxR5",
        "outputId": "76c25dfb-0001-4000-85a0-dead25c82cf9"
      },
      "outputs": [
        {
          "output_type": "stream",
          "name": "stdout",
          "text": [
            "\u001b[38;5;2m✔ Download and installation successful\u001b[0m\n",
            "You can now load the package via spacy.load('de_core_news_sm')\n",
            "\u001b[38;5;2m✔ Download and installation successful\u001b[0m\n",
            "You can now load the package via spacy.load('en_core_web_sm')\n",
            "Die ganze Stadt ist ein Startup: Shenzhen ist das Silicon Valley für Hardware-Firmen\n",
            "Die VERB ROOT\n",
            "ganze NOUN compound\n",
            "Stadt PROPN dobj\n",
            "ist ADP dobj\n",
            "ein PROPN compound\n",
            "Startup PROPN dobj\n",
            ": PUNCT punct\n",
            "Shenzhen PROPN nsubj\n",
            "ist VERB nmod\n",
            "das PROPN compound\n",
            "Silicon PROPN compound\n",
            "Valley PROPN dobj\n",
            "für NOUN compound\n",
            "Hardware PROPN compound\n",
            "- PUNCT punct\n",
            "Firmen PROPN nsubj\n"
          ]
        }
      ],
      "source": [
        "# https://spacy.io/models/de\n",
        "from spacy.lang.de.examples import sentences \n",
        "import spacy.cli\n",
        "spacy.cli.download(\"de_core_news_sm\")\n",
        "spacy.cli.download(\"en_core_web_sm\")\n",
        "nlp = spacy.load(\"en_core_web_sm\")\n",
        "\n",
        "\n",
        "## just some example code to understand what sentences does\n",
        "doc = nlp(sentences[0])\n",
        "print(doc.text)\n",
        "for token in doc:\n",
        "    print(token.text, token.pos_, token.dep_)"
      ]
    },
    {
      "cell_type": "markdown",
      "metadata": {
        "id": "XXO7pcJ6xVBQ"
      },
      "source": [
        "Lemmatizes and removes stop words: "
      ]
    },
    {
      "cell_type": "code",
      "execution_count": null,
      "metadata": {
        "id": "6y5nXW1GQe_9"
      },
      "outputs": [],
      "source": [
        "def cleaning(doc):\n",
        "    # Lemmatizes and removes stopwords\n",
        "    # doc needs to be a spacy Doc object\n",
        "    txt = [token.lemma_ for token in doc if not token.is_stop]\n",
        "    # Word2Vec uses context words to learn the vector representation of a target word,\n",
        "    # if a sentence is only one or two words long,\n",
        "    # the benefit for the training is very small\n",
        "    if len(txt) > 2:\n",
        "        return ' '.join(txt)"
      ]
    },
    {
      "cell_type": "markdown",
      "metadata": {
        "id": "0nraY7cQQnpY"
      },
      "source": [
        "Removes non-alphabetic characters ans makes every word written with lower capitals: "
      ]
    },
    {
      "cell_type": "code",
      "source": [
        "brief_cleaning = (re.sub(\"[^A-Za-z']+\", ' ', str(row)).lower() for row in df['job_full'])"
      ],
      "metadata": {
        "id": "F5__yYNLVOWB"
      },
      "execution_count": null,
      "outputs": []
    },
    {
      "cell_type": "markdown",
      "metadata": {
        "id": "OIcKKX3aRFc6"
      },
      "source": [
        "Taking advantage of spaCy .pipe() attribute to speed-up the cleaning process and applies the cleaning function as well as the variable brief_cleaning:"
      ]
    },
    {
      "cell_type": "code",
      "execution_count": null,
      "metadata": {
        "colab": {
          "base_uri": "https://localhost:8080/"
        },
        "id": "cQED_lR3RKl1",
        "outputId": "e3cea297-c0e0-46d8-bcb5-3f4e5b730f2e"
      },
      "outputs": [
        {
          "output_type": "stream",
          "name": "stdout",
          "text": [
            "Time to clean up everything: 1.92 mins\n"
          ]
        }
      ],
      "source": [
        "t = time()\n",
        "\n",
        "txt = [cleaning(doc) for doc in nlp.pipe(brief_cleaning, batch_size=5000)]\n",
        "\n",
        "print('Time to clean up everything: {} mins'.format(round((time() - t) / 60, 2)))"
      ]
    },
    {
      "cell_type": "markdown",
      "metadata": {
        "id": "nFyhjbEDYZ3W"
      },
      "source": [
        "Put the results in a DataFrame to remove missing values and duplicates:"
      ]
    },
    {
      "cell_type": "code",
      "execution_count": null,
      "metadata": {
        "colab": {
          "base_uri": "https://localhost:8080/"
        },
        "id": "gJ09GnDyYazx",
        "outputId": "f203ce9c-b88b-4144-a07e-ac581334a3a5"
      },
      "outputs": [
        {
          "output_type": "execute_result",
          "data": {
            "text/plain": [
              "(23150, 1)"
            ]
          },
          "metadata": {},
          "execution_count": 22
        }
      ],
      "source": [
        "df_clean = pd.DataFrame({'clean': txt})\n",
        "df_clean = df_clean.dropna().drop_duplicates()\n",
        "df_clean.shape"
      ]
    },
    {
      "cell_type": "code",
      "execution_count": null,
      "metadata": {
        "colab": {
          "base_uri": "https://localhost:8080/",
          "height": 206
        },
        "id": "qYdEeCYNe9Ob",
        "outputId": "8f984e47-f560-49bf-eb11-02ee2d7124fa"
      },
      "outputs": [
        {
          "output_type": "execute_result",
          "data": {
            "text/plain": [
              "                                               clean\n",
              "0  senior testmanager qualit tsmanager m w shift ...\n",
              "1  junior java entwickler m w spannenden enterpri...\n",
              "2    senior technical consultant m w testautomati...\n",
              "3  einsteiger w m digitalisierung und data analyt...\n",
              "4  projektmanager manage consultant m w customer ..."
            ],
            "text/html": [
              "\n",
              "  <div id=\"df-c5d54c7a-f699-4278-8c4c-083f314a488f\">\n",
              "    <div class=\"colab-df-container\">\n",
              "      <div>\n",
              "<style scoped>\n",
              "    .dataframe tbody tr th:only-of-type {\n",
              "        vertical-align: middle;\n",
              "    }\n",
              "\n",
              "    .dataframe tbody tr th {\n",
              "        vertical-align: top;\n",
              "    }\n",
              "\n",
              "    .dataframe thead th {\n",
              "        text-align: right;\n",
              "    }\n",
              "</style>\n",
              "<table border=\"1\" class=\"dataframe\">\n",
              "  <thead>\n",
              "    <tr style=\"text-align: right;\">\n",
              "      <th></th>\n",
              "      <th>clean</th>\n",
              "    </tr>\n",
              "  </thead>\n",
              "  <tbody>\n",
              "    <tr>\n",
              "      <th>0</th>\n",
              "      <td>senior testmanager qualit tsmanager m w shift ...</td>\n",
              "    </tr>\n",
              "    <tr>\n",
              "      <th>1</th>\n",
              "      <td>junior java entwickler m w spannenden enterpri...</td>\n",
              "    </tr>\n",
              "    <tr>\n",
              "      <th>2</th>\n",
              "      <td>senior technical consultant m w testautomati...</td>\n",
              "    </tr>\n",
              "    <tr>\n",
              "      <th>3</th>\n",
              "      <td>einsteiger w m digitalisierung und data analyt...</td>\n",
              "    </tr>\n",
              "    <tr>\n",
              "      <th>4</th>\n",
              "      <td>projektmanager manage consultant m w customer ...</td>\n",
              "    </tr>\n",
              "  </tbody>\n",
              "</table>\n",
              "</div>\n",
              "      <button class=\"colab-df-convert\" onclick=\"convertToInteractive('df-c5d54c7a-f699-4278-8c4c-083f314a488f')\"\n",
              "              title=\"Convert this dataframe to an interactive table.\"\n",
              "              style=\"display:none;\">\n",
              "        \n",
              "  <svg xmlns=\"http://www.w3.org/2000/svg\" height=\"24px\"viewBox=\"0 0 24 24\"\n",
              "       width=\"24px\">\n",
              "    <path d=\"M0 0h24v24H0V0z\" fill=\"none\"/>\n",
              "    <path d=\"M18.56 5.44l.94 2.06.94-2.06 2.06-.94-2.06-.94-.94-2.06-.94 2.06-2.06.94zm-11 1L8.5 8.5l.94-2.06 2.06-.94-2.06-.94L8.5 2.5l-.94 2.06-2.06.94zm10 10l.94 2.06.94-2.06 2.06-.94-2.06-.94-.94-2.06-.94 2.06-2.06.94z\"/><path d=\"M17.41 7.96l-1.37-1.37c-.4-.4-.92-.59-1.43-.59-.52 0-1.04.2-1.43.59L10.3 9.45l-7.72 7.72c-.78.78-.78 2.05 0 2.83L4 21.41c.39.39.9.59 1.41.59.51 0 1.02-.2 1.41-.59l7.78-7.78 2.81-2.81c.8-.78.8-2.07 0-2.86zM5.41 20L4 18.59l7.72-7.72 1.47 1.35L5.41 20z\"/>\n",
              "  </svg>\n",
              "      </button>\n",
              "      \n",
              "  <style>\n",
              "    .colab-df-container {\n",
              "      display:flex;\n",
              "      flex-wrap:wrap;\n",
              "      gap: 12px;\n",
              "    }\n",
              "\n",
              "    .colab-df-convert {\n",
              "      background-color: #E8F0FE;\n",
              "      border: none;\n",
              "      border-radius: 50%;\n",
              "      cursor: pointer;\n",
              "      display: none;\n",
              "      fill: #1967D2;\n",
              "      height: 32px;\n",
              "      padding: 0 0 0 0;\n",
              "      width: 32px;\n",
              "    }\n",
              "\n",
              "    .colab-df-convert:hover {\n",
              "      background-color: #E2EBFA;\n",
              "      box-shadow: 0px 1px 2px rgba(60, 64, 67, 0.3), 0px 1px 3px 1px rgba(60, 64, 67, 0.15);\n",
              "      fill: #174EA6;\n",
              "    }\n",
              "\n",
              "    [theme=dark] .colab-df-convert {\n",
              "      background-color: #3B4455;\n",
              "      fill: #D2E3FC;\n",
              "    }\n",
              "\n",
              "    [theme=dark] .colab-df-convert:hover {\n",
              "      background-color: #434B5C;\n",
              "      box-shadow: 0px 1px 3px 1px rgba(0, 0, 0, 0.15);\n",
              "      filter: drop-shadow(0px 1px 2px rgba(0, 0, 0, 0.3));\n",
              "      fill: #FFFFFF;\n",
              "    }\n",
              "  </style>\n",
              "\n",
              "      <script>\n",
              "        const buttonEl =\n",
              "          document.querySelector('#df-c5d54c7a-f699-4278-8c4c-083f314a488f button.colab-df-convert');\n",
              "        buttonEl.style.display =\n",
              "          google.colab.kernel.accessAllowed ? 'block' : 'none';\n",
              "\n",
              "        async function convertToInteractive(key) {\n",
              "          const element = document.querySelector('#df-c5d54c7a-f699-4278-8c4c-083f314a488f');\n",
              "          const dataTable =\n",
              "            await google.colab.kernel.invokeFunction('convertToInteractive',\n",
              "                                                     [key], {});\n",
              "          if (!dataTable) return;\n",
              "\n",
              "          const docLinkHtml = 'Like what you see? Visit the ' +\n",
              "            '<a target=\"_blank\" href=https://colab.research.google.com/notebooks/data_table.ipynb>data table notebook</a>'\n",
              "            + ' to learn more about interactive tables.';\n",
              "          element.innerHTML = '';\n",
              "          dataTable['output_type'] = 'display_data';\n",
              "          await google.colab.output.renderOutput(dataTable, element);\n",
              "          const docLink = document.createElement('div');\n",
              "          docLink.innerHTML = docLinkHtml;\n",
              "          element.appendChild(docLink);\n",
              "        }\n",
              "      </script>\n",
              "    </div>\n",
              "  </div>\n",
              "  "
            ]
          },
          "metadata": {},
          "execution_count": 23
        }
      ],
      "source": [
        "df_clean.head()"
      ]
    },
    {
      "cell_type": "markdown",
      "metadata": {
        "id": "AzFvJzuO0foI"
      },
      "source": [
        "Adding Bigrams: "
      ]
    },
    {
      "cell_type": "code",
      "execution_count": null,
      "metadata": {
        "id": "wAxerE3QmBw0"
      },
      "outputs": [],
      "source": [
        "from gensim.models.phrases import Phrases, Phraser\n",
        "sent = [row.split() for row in df_clean['clean']]"
      ]
    },
    {
      "cell_type": "code",
      "execution_count": null,
      "metadata": {
        "id": "Ya2gvBpzmLu7"
      },
      "outputs": [],
      "source": [
        "phrases = Phrases(sent, min_count=20, progress_per=10000)"
      ]
    },
    {
      "cell_type": "code",
      "execution_count": null,
      "metadata": {
        "id": "eYHEdn11mbzX"
      },
      "outputs": [],
      "source": [
        "bigram = Phraser(phrases)"
      ]
    },
    {
      "cell_type": "code",
      "execution_count": null,
      "metadata": {
        "id": "6X9mMKM8mPQa"
      },
      "outputs": [],
      "source": [
        "sentences = bigram[sent]"
      ]
    },
    {
      "cell_type": "code",
      "execution_count": null,
      "metadata": {
        "colab": {
          "base_uri": "https://localhost:8080/"
        },
        "id": "cfcUL5kumupT",
        "outputId": "ab085d82-3a22-4d12-b7ef-724ce861cbbb"
      },
      "outputs": [
        {
          "output_type": "execute_result",
          "data": {
            "text/plain": [
              "31846"
            ]
          },
          "metadata": {},
          "execution_count": 32
        }
      ],
      "source": [
        "word_freq = defaultdict(int)\n",
        "for sent in sentences:\n",
        "    for i in sent:\n",
        "        word_freq[i] += 1\n",
        "len(word_freq)"
      ]
    },
    {
      "cell_type": "code",
      "execution_count": null,
      "metadata": {
        "colab": {
          "base_uri": "https://localhost:8080/"
        },
        "id": "xFo1ONsDm9id",
        "outputId": "3ff21517-f211-4288-d93e-e5cf6812ee04"
      },
      "outputs": [
        {
          "output_type": "execute_result",
          "data": {
            "text/plain": [
              "['m', 'w', 'und', 'f_r', 'der', 'die', 'sie', 'al', 'mit', 'wir']"
            ]
          },
          "metadata": {},
          "execution_count": 33
        }
      ],
      "source": [
        "sorted(word_freq, key=word_freq.get, reverse=True)[:10]"
      ]
    },
    {
      "cell_type": "code",
      "execution_count": null,
      "metadata": {
        "id": "PyYAu-aztHsB"
      },
      "outputs": [],
      "source": [
        "# Data Science terms list\n",
        "data_scientist = ['python', 'r', 'sql', 'hadoop', 'spark', 'java', 'tableau', 'analytics'\n",
        "              'scala', 'aws', 'c', 'c++', 'matlab', 'tensorflow',\n",
        "              'nosql', 'scikit', 'machine learning', 'statistic',\n",
        "              'analysis', 'computer science', 'ai', 'deep learning',\n",
        "              'nlp', 'natural language processing', 'neural network', 'mathematic',\n",
        "              'database', 'jquery', 'git', 'json',\n",
        "              'java', 'api', 'analytic', 'empathy', 'collaborate', 'test']"
      ]
    },
    {
      "cell_type": "markdown",
      "metadata": {
        "id": "dWkeRlHJEe88"
      },
      "source": [
        "## Model training\n",
        "Gensim Word2Vec Implementation"
      ]
    },
    {
      "cell_type": "code",
      "execution_count": null,
      "metadata": {
        "id": "NIQrpESfEGZb"
      },
      "outputs": [],
      "source": [
        "import multiprocessing\n",
        "from gensim.models import Word2Vec"
      ]
    },
    {
      "cell_type": "code",
      "execution_count": null,
      "metadata": {
        "id": "wztp4ePDEm7g"
      },
      "outputs": [],
      "source": [
        "cores = multiprocessing.cpu_count()"
      ]
    },
    {
      "cell_type": "code",
      "execution_count": null,
      "metadata": {
        "id": "pygXOrptEqia"
      },
      "outputs": [],
      "source": [
        "w2v_model = Word2Vec(min_count=20,\n",
        "                     window=5,\n",
        "                     size=300,\n",
        "                     sample=6e-5, \n",
        "                     alpha=0.03, \n",
        "                     min_alpha=0.0007, \n",
        "                     negative=20,\n",
        "                     workers=cores-1,\n",
        "                     sg=1)"
      ]
    },
    {
      "cell_type": "markdown",
      "metadata": {
        "id": "emRBI9pZEu9p"
      },
      "source": [
        "###Building the Vocabulary Table"
      ]
    },
    {
      "cell_type": "code",
      "execution_count": null,
      "metadata": {
        "colab": {
          "base_uri": "https://localhost:8080/"
        },
        "id": "mKjinOvBEyE1",
        "outputId": "59480df7-dfbf-4822-a8e1-6cf7e8593f5e"
      },
      "outputs": [
        {
          "output_type": "stream",
          "name": "stdout",
          "text": [
            "Time to build vocab: 0.04 mins\n"
          ]
        }
      ],
      "source": [
        "t = time()\n",
        "\n",
        "w2v_model.build_vocab(sentences, progress_per=10000)\n",
        "\n",
        "print('Time to build vocab: {} mins'.format(round((time() - t) / 60, 2)))"
      ]
    },
    {
      "cell_type": "code",
      "execution_count": null,
      "metadata": {
        "colab": {
          "base_uri": "https://localhost:8080/"
        },
        "id": "-L0L8fm-JzX2",
        "outputId": "7c84c932-c2cb-43c0-eebc-ea9c9b1a4682"
      },
      "outputs": [
        {
          "output_type": "stream",
          "name": "stdout",
          "text": [
            "Time to train the model: 3.07 mins\n"
          ]
        }
      ],
      "source": [
        "t = time()\n",
        "\n",
        "w2v_model.train(sentences, total_examples=w2v_model.corpus_count, epochs=30, report_delay=1)\n",
        "\n",
        "print('Time to train the model: {} mins'.format(round((time() - t) / 60, 2)))\n",
        "\n"
      ]
    },
    {
      "cell_type": "code",
      "execution_count": null,
      "metadata": {
        "id": "AJBuJrRuE5y_"
      },
      "outputs": [],
      "source": [
        "w2v_model.init_sims(replace=True)"
      ]
    },
    {
      "cell_type": "markdown",
      "metadata": {
        "id": "JZUu4S5JE9BQ"
      },
      "source": [
        "## Explore the model\n",
        "(Most similar)"
      ]
    },
    {
      "cell_type": "code",
      "source": [
        "w2v_model.wv.vocab[\"data_scientist\"].count"
      ],
      "metadata": {
        "colab": {
          "base_uri": "https://localhost:8080/"
        },
        "id": "O9pCchEdSfA7",
        "outputId": "ae8412bd-fb4f-4c88-b7ef-d352a9312087"
      },
      "execution_count": null,
      "outputs": [
        {
          "output_type": "execute_result",
          "data": {
            "text/plain": [
              "175"
            ]
          },
          "metadata": {},
          "execution_count": 152
        }
      ]
    },
    {
      "cell_type": "code",
      "source": [
        "w2v_model.wv.vocab[\"data_science\"].count"
      ],
      "metadata": {
        "colab": {
          "base_uri": "https://localhost:8080/"
        },
        "id": "UWEvdPbpTP2X",
        "outputId": "3e76046e-0c74-4302-d635-452d0d60e210"
      },
      "execution_count": null,
      "outputs": [
        {
          "output_type": "execute_result",
          "data": {
            "text/plain": [
              "65"
            ]
          },
          "metadata": {},
          "execution_count": 153
        }
      ]
    },
    {
      "cell_type": "code",
      "execution_count": null,
      "metadata": {
        "colab": {
          "base_uri": "https://localhost:8080/"
        },
        "id": "Bk-X5gqIFA5G",
        "outputId": "c15f2356-e25e-4367-f35e-0b5d10aff2e9"
      },
      "outputs": [
        {
          "output_type": "execute_result",
          "data": {
            "text/plain": [
              "[('machine_learn', 0.5126784443855286),\n",
              " ('machine_learning', 0.49116313457489014),\n",
              " ('data_mining', 0.4613892734050751),\n",
              " ('predictive', 0.4574835002422333),\n",
              " ('advanced_analytic', 0.45326805114746094),\n",
              " ('analytic', 0.45289289951324463),\n",
              " ('artificial_intelligence', 0.44095084071159363),\n",
              " ('ai', 0.4202194809913635),\n",
              " ('datum_analytic', 0.4157238006591797),\n",
              " ('datum', 0.41369402408599854)]"
            ]
          },
          "metadata": {},
          "execution_count": 154
        }
      ],
      "source": [
        "w2v_model.wv.most_similar(positive=[\"data_science\", \"data_scientist\"], topn=10)"
      ]
    },
    {
      "cell_type": "code",
      "execution_count": null,
      "metadata": {
        "colab": {
          "base_uri": "https://localhost:8080/"
        },
        "id": "YPUud_2qNGH8",
        "outputId": "8b929a2d-2d24-416c-b98c-9aa8510f6698"
      },
      "outputs": [
        {
          "output_type": "execute_result",
          "data": {
            "text/plain": [
              "[('machine_learn', 0.4978030025959015),\n",
              " ('advanced_analytic', 0.49234214425086975),\n",
              " ('strong', 0.48144668340682983),\n",
              " ('predictive', 0.479225754737854),\n",
              " ('artificial_intelligence', 0.47267836332321167),\n",
              " ('machine_learning', 0.4684576988220215),\n",
              " ('use', 0.46536749601364136),\n",
              " ('different', 0.4617690443992615),\n",
              " ('analytic', 0.46013525128364563),\n",
              " ('internship', 0.45683473348617554)]"
            ]
          },
          "metadata": {},
          "execution_count": 155
        }
      ],
      "source": [
        "w2v_model.wv.most_similar(positive=[\"data_science\", \"data_scientist\", \"skill\", \"requirement\"], topn=10)"
      ]
    },
    {
      "cell_type": "code",
      "source": [
        "w2v_model.wv.most_similar(positive=[\"data_analyst\"], topn=10)"
      ],
      "metadata": {
        "colab": {
          "base_uri": "https://localhost:8080/"
        },
        "id": "EZcNTa__057U",
        "outputId": "f955505f-3217-4d21-f646-a1276afe7b0a"
      },
      "execution_count": null,
      "outputs": [
        {
          "output_type": "execute_result",
          "data": {
            "text/plain": [
              "[('seo', 0.4062853455543518),\n",
              " ('analyst', 0.38921141624450684),\n",
              " ('steuerberatung', 0.38635897636413574),\n",
              " ('offshore', 0.3732295036315918),\n",
              " ('advisory_c', 0.3661351501941681),\n",
              " ('auditor', 0.3604670763015747),\n",
              " ('statista', 0.35256314277648926),\n",
              " ('datum', 0.35002273321151733),\n",
              " ('datenbanken', 0.349307656288147),\n",
              " ('idea', 0.34754830598831177)]"
            ]
          },
          "metadata": {},
          "execution_count": 156
        }
      ]
    },
    {
      "cell_type": "markdown",
      "source": [
        "##Visualizations"
      ],
      "metadata": {
        "id": "pdLtG3ZloR2v"
      }
    },
    {
      "cell_type": "code",
      "source": [
        "import numpy as np\n",
        "import matplotlib.pyplot as plt\n",
        "%matplotlib inline\n",
        " \n",
        "import seaborn as sns\n",
        "sns.set_style(\"darkgrid\")\n",
        "\n",
        "from sklearn.decomposition import PCA\n",
        "from sklearn.manifold import TSNE\n",
        "import re \n",
        "import pandas as pd \n",
        "from time import time\n",
        "from collections import defaultdict"
      ],
      "metadata": {
        "id": "yPoRkUfPodM4"
      },
      "execution_count": null,
      "outputs": []
    },
    {
      "cell_type": "markdown",
      "source": [
        "####To make the visualizations more relevant, we will look at the relationships \n",
        "between a query word (in red), its most similar words in the model (in blue), and other words from the vocabulary (in green)."
      ],
      "metadata": {
        "id": "hhu_C58IoyhV"
      }
    },
    {
      "cell_type": "code",
      "source": [
        "def tsnescatterplot(model, word, list_names):\n",
        "    \"\"\" Plot in seaborn the results from the t-SNE dimensionality reduction algorithm of the vectors of a query word,\n",
        "    its list of most similar words, and a list of words.\n",
        "    \"\"\"\n",
        "    arrays = np.empty((0, 300), dtype='f')\n",
        "    word_labels = [word]\n",
        "    color_list  = ['red']\n",
        "\n",
        "    # adds the vector of the query word\n",
        "    arrays = np.append(arrays, model.wv.__getitem__([word]), axis=0)\n",
        "    \n",
        "    # gets list of most similar words\n",
        "    close_words = model.wv.most_similar([word])\n",
        "    \n",
        "    # adds the vector for each of the closest words to the array\n",
        "    for wrd_score in close_words:\n",
        "        wrd_vector = model.wv.__getitem__([wrd_score[0]])\n",
        "        word_labels.append(wrd_score[0])\n",
        "        color_list.append('blue')\n",
        "        arrays = np.append(arrays, wrd_vector, axis=0)\n",
        "    \n",
        "    # adds the vector for each of the words from list_names to the array\n",
        "    for wrd in list_names:\n",
        "        wrd_vector = model.wv.__getitem__([wrd])\n",
        "        word_labels.append(wrd)\n",
        "        color_list.append('green')\n",
        "        arrays = np.append(arrays, wrd_vector, axis=0)\n",
        "        \n",
        "    # Reduces the dimensionality from 300 to 50 dimensions with PCA\n",
        "    reduc = PCA(n_components=10).fit_transform(arrays)\n",
        "    \n",
        "    # Finds t-SNE coordinates for 2 dimensions\n",
        "    np.set_printoptions(suppress=True)\n",
        "    \n",
        "    Y = TSNE(n_components=2, random_state=0, perplexity=15).fit_transform(reduc)\n",
        "    \n",
        "    # Sets everything up to plot\n",
        "    df = pd.DataFrame({'x': [x for x in Y[:, 0]],\n",
        "                       'y': [y for y in Y[:, 1]],\n",
        "                       'words': word_labels,\n",
        "                       'color': color_list})\n",
        "    \n",
        "    fig, _ = plt.subplots()\n",
        "    fig.set_size_inches(9, 9)\n",
        "    \n",
        "    # Basic plot\n",
        "    p1 = sns.regplot(data=df,\n",
        "                     x=\"x\",\n",
        "                     y=\"y\",\n",
        "                     fit_reg=False,\n",
        "                     marker=\"o\",\n",
        "                     scatter_kws={'s': 40,\n",
        "                                  'facecolors': df['color']\n",
        "                                 }\n",
        "                    )\n",
        "    \n",
        "    # Adds annotations one by one with a loop\n",
        "    for line in range(0, df.shape[0]):\n",
        "         p1.text(df[\"x\"][line],\n",
        "                 df['y'][line],\n",
        "                 '  ' + df[\"words\"][line].title(),\n",
        "                 horizontalalignment='left',\n",
        "                 verticalalignment='bottom', size='medium',\n",
        "                 color=df['color'][line],\n",
        "                 weight='normal'\n",
        "                ).set_size(15)\n",
        "\n",
        "    \n",
        "    plt.xlim(Y[:, 0].min()-50, Y[:, 0].max()+50)\n",
        "    plt.ylim(Y[:, 1].min()-50, Y[:, 1].max()+50)\n",
        "            \n",
        "    plt.title('t-SNE visualization for {}'.format(word.title()))"
      ],
      "metadata": {
        "id": "597ncJdzpPWv"
      },
      "execution_count": null,
      "outputs": []
    },
    {
      "cell_type": "markdown",
      "source": [
        "10 Most similar words vs. 8 Random words:"
      ],
      "metadata": {
        "id": "bu4hbgiZpf54"
      }
    },
    {
      "cell_type": "code",
      "source": [
        "tsnescatterplot(w2v_model, 'data_scientist', ['predictive', 'offer', 'audit', 'change', 'challenge', 'seek', 'insight', 'strengthen'])"
      ],
      "metadata": {
        "colab": {
          "base_uri": "https://localhost:8080/",
          "height": 638
        },
        "id": "5IeFHtO1KKsj",
        "outputId": "43c9c74c-6355-43be-afe8-803366cad1a7"
      },
      "execution_count": null,
      "outputs": [
        {
          "output_type": "stream",
          "name": "stderr",
          "text": [
            "/usr/local/lib/python3.7/dist-packages/sklearn/manifold/_t_sne.py:783: FutureWarning: The default initialization in TSNE will change from 'random' to 'pca' in 1.2.\n",
            "  FutureWarning,\n",
            "/usr/local/lib/python3.7/dist-packages/sklearn/manifold/_t_sne.py:793: FutureWarning: The default learning rate in TSNE will change from 200.0 to 'auto' in 1.2.\n",
            "  FutureWarning,\n"
          ]
        },
        {
          "output_type": "display_data",
          "data": {
            "text/plain": [
              "<Figure size 648x648 with 1 Axes>"
            ],
            "image/png": "[encoded data removed]"
          },
          "metadata": {}
        }
      ]
    },
    {
      "cell_type": "code",
      "source": [
        "tsnescatterplot(w2v_model, \"data_scientist\", [t[0] for t in w2v_model.wv.most_similar(positive=[\"data_analyst\", \"data_analytic\"], topn=10)])\n",
        "\n"
      ],
      "metadata": {
        "colab": {
          "base_uri": "https://localhost:8080/",
          "height": 638
        },
        "id": "efXKU9jc0nXU",
        "outputId": "7345e8f8-4061-432f-f561-3a1cc09a7f38"
      },
      "execution_count": null,
      "outputs": [
        {
          "output_type": "stream",
          "name": "stderr",
          "text": [
            "/usr/local/lib/python3.7/dist-packages/sklearn/manifold/_t_sne.py:783: FutureWarning: The default initialization in TSNE will change from 'random' to 'pca' in 1.2.\n",
            "  FutureWarning,\n",
            "/usr/local/lib/python3.7/dist-packages/sklearn/manifold/_t_sne.py:793: FutureWarning: The default learning rate in TSNE will change from 200.0 to 'auto' in 1.2.\n",
            "  FutureWarning,\n"
          ]
        },
        {
          "output_type": "display_data",
          "data": {
            "text/plain": [
              "<Figure size 648x648 with 1 Axes>"
            ],
            "image/png": "[encoded data removed]"
          },
          "metadata": {}
        }
      ]
    },
    {
      "cell_type": "markdown",
      "source": [
        "## Find most wanted skills"
      ],
      "metadata": {
        "id": "XcgdP6nD6SZV"
      }
    },
    {
      "cell_type": "code",
      "source": [
        "# Data Science terms list\n",
        "data_scientist = ['predictive', 'python', 'r', 'sql', 'hadoop', 'spark', 'java', 'tableau', 'analytics'\n",
        "              'scala', 'aws', 'c', 'c++', 'matlab', 'tensorflow', 'deep_learn'\n",
        "              'nosql', 'scikit', 'machine_learning', 'statistic', 'Statistik'\n",
        "              'analysis', 'computer science', 'ai','artificial_intelligence', 'deep learning',\n",
        "              'nlp', 'natural_language_processing', 'neural_network', 'mathematic',\n",
        "              'database', 'jquery', 'git', 'json',\n",
        "              'java', 'api', 'analytic', 'empathy', 'collaborate', 'test', 'predictive', 'data_mining',  'reporting', \n",
        "              'iot', 'computer_vision', \"advanced_analytic\", \"hybris\", \"sap_hybris\", \"machine_learn\", \"ai\", \"artificial_intelligence\", \"advanced_analytic\", \"machine_learning\", \"data_mining\", \"statistik\", \"big_data\",\n",
        "              \"big_datum\", \"autonomous_driving\", \"softwaredeveloper\", \"database\", \"computer_vision\", \"bachelor_science\", \"statistik\", \"sas\" ]"
      ],
      "metadata": {
        "id": "q_1pZ-sZ6xbZ"
      },
      "execution_count": null,
      "outputs": []
    },
    {
      "cell_type": "code",
      "source": [
        "data_analyst = ['predictive', 'python', 'r', 'sql', 'hadoop', 'spark', 'java', 'tableau', 'analytics'\n",
        "              'scala', 'aws', 'c', 'c++', 'matlab', 'tensorflow', 'deep_learn'\n",
        "              'nosql', 'scikit', 'machine_learning', 'statistic', 'Statistik'\n",
        "              'analysis', 'computer science', 'ai','artificial_intelligence', 'deep learning',\n",
        "              'nlp', 'natural_language_processing', 'neural_network', 'mathematic',\n",
        "              'database', 'jquery', 'git', 'json',\n",
        "              'java', 'api', 'analytic', 'empathy', 'collaborate', 'test', 'predictive', 'data_mining',  'reporting', \n",
        "              'iot', 'computer_vision', \"advanced_analytic\", \"hybris\", \"sap_hybris\", \"machine_learn\", \"ai\", \"artificial_intelligence\", \"advanced_analytic\", \"machine_learning\", \"data_mining\", \"statistik\", \"big_data\",\n",
        "              \"big_datum\", \"autonomous_driving\", \"softwaredeveloper\", \"database\", \"computer_vision\", \"bachelor_science\",\"robotic\"\n",
        "              'java', 'api', 'analytic', 'empathy', 'collaborate', 'test', 'predictive', 'data_mining',  'reporting', \n",
        "              'iot', 'computer_vision', \"advanced_analytic\", \"analysis\", \"report\", \"research\", \"seo\", \"big_datum\", \"digitalen_transformation\", \"html_css\",\"kpmg\", \"big_data\", \"hybris\", \"sap_hybris\", \"busines_intelligence\", \"sas\"]"
      ],
      "metadata": {
        "id": "_nzK5YfUY25p"
      },
      "execution_count": null,
      "outputs": []
    },
    {
      "cell_type": "code",
      "source": [
        "business_analyst = ['predictive', 'python', 'r', 'sql', 'hadoop', 'spark', 'java', 'tableau', 'analytics'\n",
        "              'scala', 'aws', 'c', 'c++', 'matlab', 'tensorflow', 'deep_learn'\n",
        "              'nosql', 'scikit', 'machine_learning', 'statistic', 'Statistik'\n",
        "              'analysis', 'computer science', 'ai','artificial_intelligence', 'deep learning',\n",
        "              'nlp', 'natural_language_processing', 'neural_network', 'mathematic',\n",
        "              'database', 'jquery', 'git', 'json',\n",
        "              'java', 'api', 'analytic', 'empathy', 'collaborate', 'test', 'predictive', 'data_mining',  'reporting', \n",
        "              'iot', 'computer_vision', \"advanced_analytic\", \"hybris\", \"sap_hybris\", \"machine_learn\", \"ai\", \"artificial_intelligence\", \"advanced_analytic\", \"machine_learning\", \"data_mining\", \"statistik\", \"big_data\",\n",
        "              \"big_datum\", \"autonomous_driving\", \"softwaredeveloper\", \"database\", \"computer_vision\", \"bachelor_science\",\"robotic\"\n",
        "              'java', 'api', 'analytic', 'empathy', 'collaborate', 'test', 'predictive', 'data_mining',  'reporting', \n",
        "              'iot', 'computer_vision', \"advanced_analytic\", \"analysis\", \"report\", \"research\", \"seo\", \"big_datum\", \"digitalen_transformation\", \"html_css\",\"kpmg\", \"big_data\", \"hybris\", \"sap_hybris\", \"busines_intelligence\"\n",
        "              \"datum_warehouse\", \"projekterfahrung\", \"data_warehouse\", \"sap\", \"mm\", \"softwaredeveloper\", \"sap_fi\", \"etl\", \"seo\", \"sap_bw\", \"datum_analytic\", \"hybris\", \"data_analytic\", \"abap_entwickler\", \"scrum_master\", \n",
        "              \"java_jee\", \"scm\", \"nav\", \"warehouse\", \"data_mining\", \"crm\", \"user_experience\", \"sap_hcm\", \"ui\", \"abap\", \"ms_sql\", \"mdm\", \"sas\"]"
      ],
      "metadata": {
        "id": "KeEMdZyneoIA"
      },
      "execution_count": null,
      "outputs": []
    },
    {
      "cell_type": "code",
      "source": [
        "# Calling DataFrame constructor on list\n",
        "list_most_similar = list(w2v_model.wv.most_similar(positive=[\"data_science\", \"data_scientist\"], topn=200))"
      ],
      "metadata": {
        "id": "_0T4Ergt6u0g"
      },
      "execution_count": null,
      "outputs": []
    },
    {
      "cell_type": "code",
      "source": [
        "list_most_similar_bi = list(w2v_model.wv.most_similar(positive=[\"business_analyst\", \"business_analysten\", \"business_intelligence\"], topn=200))"
      ],
      "metadata": {
        "id": "sR0F0bBteugv"
      },
      "execution_count": null,
      "outputs": []
    },
    {
      "cell_type": "code",
      "source": [
        "list_most_similar_analyst = list(w2v_model.wv.most_similar(positive=[\"data_analyst\", \"data_analytic\"], topn=200))"
      ],
      "metadata": {
        "id": "9jCcN9D3cP54"
      },
      "execution_count": null,
      "outputs": []
    },
    {
      "cell_type": "code",
      "source": [
        "#list_most_similar"
      ],
      "metadata": {
        "id": "M5OpFCQ2Ap_g"
      },
      "execution_count": null,
      "outputs": []
    },
    {
      "cell_type": "code",
      "source": [
        "skills_datascience = []\n",
        "for item in list_most_similar: \n",
        "  if item[0] in data_scientist: \n",
        "    skills_datascience.append(item)\n",
        "skills_datascience"
      ],
      "metadata": {
        "colab": {
          "base_uri": "https://localhost:8080/"
        },
        "id": "th5aqdUK-3ur",
        "outputId": "c5b929c5-c4e0-4346-9fa3-3ed2a24ec59d"
      },
      "execution_count": null,
      "outputs": [
        {
          "output_type": "execute_result",
          "data": {
            "text/plain": [
              "[('machine_learn', 0.5126784443855286),\n",
              " ('machine_learning', 0.49116313457489014),\n",
              " ('data_mining', 0.4613892734050751),\n",
              " ('predictive', 0.4574835002422333),\n",
              " ('advanced_analytic', 0.45326805114746094),\n",
              " ('analytic', 0.45289289951324463),\n",
              " ('artificial_intelligence', 0.44095084071159363),\n",
              " ('ai', 0.4202194809913635),\n",
              " ('statistik', 0.4095563292503357),\n",
              " ('big_datum', 0.38804906606674194),\n",
              " ('big_data', 0.3534114360809326),\n",
              " ('softwaredeveloper', 0.32471245527267456),\n",
              " ('computer_vision', 0.31301766633987427),\n",
              " ('database', 0.29915282130241394),\n",
              " ('autonomous_driving', 0.2840184271335602),\n",
              " ('sas', 0.28109806776046753)]"
            ]
          },
          "metadata": {},
          "execution_count": 168
        }
      ]
    },
    {
      "cell_type": "code",
      "source": [
        "skills_analyst = []\n",
        "for item in list_most_similar_analyst: \n",
        "  if item[0] in data_analyst: \n",
        "    skills_analyst.append(item)\n",
        "skills_analyst"
      ],
      "metadata": {
        "colab": {
          "base_uri": "https://localhost:8080/"
        },
        "id": "jzutRkVQdyvF",
        "outputId": "b03bea07-2ab2-458a-dbdc-c7f13bfd5bf9"
      },
      "execution_count": null,
      "outputs": [
        {
          "output_type": "execute_result",
          "data": {
            "text/plain": [
              "[('artificial_intelligence', 0.40064194798469543),\n",
              " ('seo', 0.3977927267551422),\n",
              " ('statistik', 0.38489797711372375),\n",
              " ('analytic', 0.37723875045776367),\n",
              " ('data_mining', 0.35933738946914673),\n",
              " ('predictive', 0.3593060374259949),\n",
              " ('big_datum', 0.3392043709754944),\n",
              " ('ai', 0.3313019275665283),\n",
              " ('machine_learn', 0.32835254073143005),\n",
              " ('report', 0.3201271891593933),\n",
              " ('html_css', 0.30558404326438904),\n",
              " ('analysis', 0.29967746138572693),\n",
              " ('reporting', 0.29588720202445984),\n",
              " ('advanced_analytic', 0.2887738347053528),\n",
              " ('computer_vision', 0.2814595699310303),\n",
              " ('machine_learning', 0.27886781096458435)]"
            ]
          },
          "metadata": {},
          "execution_count": 169
        }
      ]
    },
    {
      "cell_type": "code",
      "source": [
        "skills_bi = []\n",
        "for item in list_most_similar_bi: \n",
        "  if item[0] in business_analyst: \n",
        "    skills_bi.append(item)\n",
        "skills_bi"
      ],
      "metadata": {
        "colab": {
          "base_uri": "https://localhost:8080/"
        },
        "id": "9L5RZSewgx4k",
        "outputId": "0309e74d-ff9a-4591-de3a-329f75e2d4a8"
      },
      "execution_count": null,
      "outputs": [
        {
          "output_type": "execute_result",
          "data": {
            "text/plain": [
              "[('data_warehouse', 0.4673776626586914),\n",
              " ('analytic', 0.4487149119377136),\n",
              " ('sap', 0.4277411699295044),\n",
              " ('sap_fi', 0.39597243070602417),\n",
              " ('datum_analytic', 0.3897566795349121),\n",
              " ('nav', 0.3794471025466919),\n",
              " ('java', 0.37354886531829834),\n",
              " ('etl', 0.3715692162513733),\n",
              " ('scrum_master', 0.3608629107475281),\n",
              " ('projekterfahrung', 0.36003488302230835),\n",
              " ('seo', 0.3530060648918152),\n",
              " ('mm', 0.3489418625831604),\n",
              " ('softwaredeveloper', 0.3484516143798828),\n",
              " ('ui', 0.3468100428581238),\n",
              " ('crm', 0.34386083483695984),\n",
              " ('advanced_analytic', 0.3418036699295044),\n",
              " ('predictive', 0.3375847637653351),\n",
              " ('scm', 0.3317260146141052),\n",
              " ('machine_learn', 0.3289346694946289),\n",
              " ('hybris', 0.3282107710838318),\n",
              " ('abap_entwickler', 0.32498711347579956),\n",
              " ('big_datum', 0.3236924409866333),\n",
              " ('reporting', 0.32355615496635437),\n",
              " ('report', 0.3220048248767853),\n",
              " ('data_analytic', 0.32115018367767334),\n",
              " ('user_experience', 0.3207763731479645),\n",
              " ('sap_bw', 0.3195381462574005),\n",
              " ('data_mining', 0.31682389974594116),\n",
              " ('artificial_intelligence', 0.31593436002731323),\n",
              " ('warehouse', 0.3156382441520691),\n",
              " ('sas', 0.3113488554954529),\n",
              " ('statistik', 0.29612138867378235),\n",
              " ('abap', 0.28833815455436707),\n",
              " ('machine_learning', 0.28574463725090027)]"
            ]
          },
          "metadata": {},
          "execution_count": 170
        }
      ]
    },
    {
      "cell_type": "markdown",
      "source": [
        "##WORD CLOUD"
      ],
      "metadata": {
        "id": "JADkInPhHn-_"
      }
    },
    {
      "cell_type": "code",
      "source": [
        "from wordcloud import WordCloud, STOPWORDS, ImageColorGenerator\n",
        "import matplotlib.pyplot as plt"
      ],
      "metadata": {
        "id": "WJsg0bVlHTiJ"
      },
      "execution_count": null,
      "outputs": []
    },
    {
      "cell_type": "code",
      "source": [
        "# Start with one review:\n",
        "text = df.job_full[0]\n",
        "\n",
        "# Create and generate a word cloud image:\n",
        "wordcloud = WordCloud().generate(text)\n",
        "\n",
        "# Display the generated image:\n",
        "plt.imshow(wordcloud, interpolation='bilinear')\n",
        "plt.axis(\"off\")\n",
        "plt.show()"
      ],
      "metadata": {
        "colab": {
          "base_uri": "https://localhost:8080/",
          "height": 198
        },
        "id": "5hTrL_UTHV_R",
        "outputId": "cbb672ef-7bb9-4184-993b-8bbde7d051e6"
      },
      "execution_count": null,
      "outputs": [
        {
          "output_type": "display_data",
          "data": {
            "text/plain": [
              "<Figure size 432x288 with 1 Axes>"
            ],
            "image/png": "[encoded data removed]"
          },
          "metadata": {}
        }
      ]
    },
    {
      "cell_type": "code",
      "source": [
        "# for all rows of job_full: \n",
        "text = \" \".join(review for review in df.job_full)\n",
        "\n",
        "# Create stopword list:\n",
        "stopwords = set(STOPWORDS)\n",
        "\n",
        "# Generate a word cloud image\n",
        "wordcloud = WordCloud(stopwords=stopwords, background_color=\"white\").generate(text)\n",
        "\n",
        "# Display the generated image:\n",
        "# the matplotlib way:\n",
        "plt.imshow(wordcloud, interpolation='bilinear')\n",
        "plt.axis(\"off\")\n",
        "plt.show()"
      ],
      "metadata": {
        "colab": {
          "base_uri": "https://localhost:8080/",
          "height": 198
        },
        "id": "JDrsH_tzHbdo",
        "outputId": "adff2838-6fe2-4933-c102-f8c56997b1de"
      },
      "execution_count": null,
      "outputs": [
        {
          "output_type": "display_data",
          "data": {
            "text/plain": [
              "<Figure size 432x288 with 1 Axes>"
            ],
            "image/png": "[encoded data removed]"
          },
          "metadata": {}
        }
      ]
    }
  ],
  "metadata": {
    "colab": {
      "provenance": [],
      "collapsed_sections": [
        "emRBI9pZEu9p",
        "JZUu4S5JE9BQ",
        "XcgdP6nD6SZV"
      ]
    },
    "kernelspec": {
      "display_name": "Python 3",
      "name": "python3"
    },
    "language_info": {
      "name": "python"
    }
  },
  "nbformat": 4,
  "nbformat_minor": 0
}