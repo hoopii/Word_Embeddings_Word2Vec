{
  "cells": [
    {
      "cell_type": "markdown",
      "metadata": {
        "id": "4YD7odyn-Crc"
      },
      "source": [
        "## Use Case / Steps / Ressources\n"
      ]
    },
    {
      "cell_type": "markdown",
      "metadata": {
        "id": "mbMwBR59wa04"
      },
      "source": [
        "Use case: a company owns a job portal and has many job postings from other companies who wanna hire candidates. An important stakeholder asks for insights regarding data jobs, especially data scientists, data analysts and business intelligence jobs. Your task is to do analysis on these data and feedback insights to the business. "
      ]
    },
    {
      "cell_type": "markdown",
      "metadata": {
        "id": "XXkl19qw95Jz"
      },
      "source": [
        "Basic Steps to perform\n",
        "\n",
        "- Perform proper analysis on the data \n",
        "- Generate Word Cloud \n",
        "- Apply NLP standard methods on the data to preprocess it\n",
        "- Generate Word2Vec embeddings \n",
        "- Try similarity functions of the word2vec\n",
        "- Visulaize some embeddings \n"
      ]
    },
    {
      "cell_type": "markdown",
      "metadata": {
        "id": "no1sUveEwqAd"
      },
      "source": [
        "## Load Data"
      ]
    },
    {
      "cell_type": "code",
      "execution_count": 41,
      "metadata": {
        "id": "pCY1bb4U7_8r"
      },
      "outputs": [],
      "source": [
        "import gensim"
      ]
    },
    {
      "cell_type": "code",
      "execution_count": 42,
      "metadata": {
        "id": "b5QYkcwm6e5Q"
      },
      "outputs": [],
      "source": [
        "import pandas as pd\n",
        "\n",
        "url = 'https://drive.google.com/file/d/16EGubjXaeDwTH7sc6FnuQj7EI9ZfRYNL/view?usp=sharing' \n",
        "path = 'https://drive.google.com/uc?export=download&id='+url.split('/')[-2]\n",
        "df = pd.read_csv(path, sep = '\\t')"
      ]
    },
    {
      "cell_type": "code",
      "source": [
        "df"
      ],
      "metadata": {
        "colab": {
          "base_uri": "https://localhost:8080/",
          "height": 905
        },
        "id": "PdmZ-6Gl0U6g",
        "outputId": "0a4f1dda-7fb1-4507-fd26-ba8b583ef1a7"
      },
      "execution_count": 43,
      "outputs": [
        {
          "output_type": "execute_result",
          "data": {
            "text/plain": [
              "       Unnamed: 0                                          job_title  \\\n",
              "0               0  Senior Testmanager/Qualitätsmanager (m/w) Shif...   \n",
              "1               1  Junior Java Entwickler (m/w) in spannenden Ent...   \n",
              "2               2  (Senior)Technical Consultant (m/w) Testautomat...   \n",
              "3               3  Einsteiger (w/m) Digitalisierung und Data Anal...   \n",
              "4               4  Projektmanager / Managing Consultant (m/w) Cus...   \n",
              "...           ...                                                ...   \n",
              "23477       23477       Technischer Fachberater (m/w) im Innendienst   \n",
              "23478       23478  Wirtschaftsingenieur als Referent im Vertrieb ...   \n",
              "23479       23479                                   IT Fachkraft m/w   \n",
              "23480       23480  (Junior) Projektingenieur Sensorik und Kommuni...   \n",
              "23481       23481      Bauingenieur Konstruktiver Ingenieurbau (w/m)   \n",
              "\n",
              "                                        full_description  \\\n",
              "0      Zum weiteren Ausbau unseres Teams, suchen wir ...   \n",
              "1      Erfahrungen im Umgang mit objektorientierten P...   \n",
              "2      DBS-8346-SR - Einsatzort: deutschlandweit - Wi...   \n",
              "3      Die globale EY-Organisation* ist einer der Mar...   \n",
              "4      Idealerweise über drei Jahre praktische Erfahr...   \n",
              "...                                                  ...   \n",
              "23477  Sie haben eine kaufmännische bzw. technische A...   \n",
              "23478  Die Deutsche Bahn ist nicht nur einer der wich...   \n",
              "23479  Standort: Heilbad Heiligenstadt (37308), Thüri...   \n",
              "23480  Für unseren Geschäftsbereich Verteidigung & Si...   \n",
              "23481  Die Deutsche Bahn ist nicht nur einer der wich...   \n",
              "\n",
              "                                                 company  \\\n",
              "0                              NTT DATA Deutschland GmbH   \n",
              "1                              NTT DATA Deutschland GmbH   \n",
              "2                              NTT DATA Deutschland GmbH   \n",
              "3      Ernst & Young GmbH Wirtschaftsprüfungsgesellsc...   \n",
              "4                              NTT DATA Deutschland GmbH   \n",
              "...                                                  ...   \n",
              "23477                                 Rala GmbH & Co. KG   \n",
              "23478                                   Deutsche Bahn AG   \n",
              "23479                                              Magna   \n",
              "23480   IABG Industrieanlagen - Betriebsgesellschaft mbH   \n",
              "23481                                   Deutsche Bahn AG   \n",
              "\n",
              "                                                location  \n",
              "0                                        deutschlandweit  \n",
              "1      Frankfurt a.M., Köln, München, Stuttgart, deut...  \n",
              "2                                        deutschlandweit  \n",
              "3                                        Deutschlandweit  \n",
              "4         Frankfurt a.M., Köln, München, deutschlandweit  \n",
              "...                                                  ...  \n",
              "23477                                       Ludwigshafen  \n",
              "23478                                             Berlin  \n",
              "23479                              Heilbad Heiligenstadt  \n",
              "23480                     Ottobrunn bei München, Koblenz  \n",
              "23481                                          Stuttgart  \n",
              "\n",
              "[23482 rows x 5 columns]"
            ],
            "text/html": [
              "\n",
              "  <div id=\"df-83a66f9f-3d8d-4676-a948-bb8608994533\">\n",
              "    <div class=\"colab-df-container\">\n",
              "      <div>\n",
              "<style scoped>\n",
              "    .dataframe tbody tr th:only-of-type {\n",
              "        vertical-align: middle;\n",
              "    }\n",
              "\n",
              "    .dataframe tbody tr th {\n",
              "        vertical-align: top;\n",
              "    }\n",
              "\n",
              "    .dataframe thead th {\n",
              "        text-align: right;\n",
              "    }\n",
              "</style>\n",
              "<table border=\"1\" class=\"dataframe\">\n",
              "  <thead>\n",
              "    <tr style=\"text-align: right;\">\n",
              "      <th></th>\n",
              "      <th>Unnamed: 0</th>\n",
              "      <th>job_title</th>\n",
              "      <th>full_description</th>\n",
              "      <th>company</th>\n",
              "      <th>location</th>\n",
              "    </tr>\n",
              "  </thead>\n",
              "  <tbody>\n",
              "    <tr>\n",
              "      <th>0</th>\n",
              "      <td>0</td>\n",
              "      <td>Senior Testmanager/Qualitätsmanager (m/w) Shif...</td>\n",
              "      <td>Zum weiteren Ausbau unseres Teams, suchen wir ...</td>\n",
              "      <td>NTT DATA Deutschland GmbH</td>\n",
              "      <td>deutschlandweit</td>\n",
              "    </tr>\n",
              "    <tr>\n",
              "      <th>1</th>\n",
              "      <td>1</td>\n",
              "      <td>Junior Java Entwickler (m/w) in spannenden Ent...</td>\n",
              "      <td>Erfahrungen im Umgang mit objektorientierten P...</td>\n",
              "      <td>NTT DATA Deutschland GmbH</td>\n",
              "      <td>Frankfurt a.M., Köln, München, Stuttgart, deut...</td>\n",
              "    </tr>\n",
              "    <tr>\n",
              "      <th>2</th>\n",
              "      <td>2</td>\n",
              "      <td>(Senior)Technical Consultant (m/w) Testautomat...</td>\n",
              "      <td>DBS-8346-SR - Einsatzort: deutschlandweit - Wi...</td>\n",
              "      <td>NTT DATA Deutschland GmbH</td>\n",
              "      <td>deutschlandweit</td>\n",
              "    </tr>\n",
              "    <tr>\n",
              "      <th>3</th>\n",
              "      <td>3</td>\n",
              "      <td>Einsteiger (w/m) Digitalisierung und Data Anal...</td>\n",
              "      <td>Die globale EY-Organisation* ist einer der Mar...</td>\n",
              "      <td>Ernst &amp; Young GmbH Wirtschaftsprüfungsgesellsc...</td>\n",
              "      <td>Deutschlandweit</td>\n",
              "    </tr>\n",
              "    <tr>\n",
              "      <th>4</th>\n",
              "      <td>4</td>\n",
              "      <td>Projektmanager / Managing Consultant (m/w) Cus...</td>\n",
              "      <td>Idealerweise über drei Jahre praktische Erfahr...</td>\n",
              "      <td>NTT DATA Deutschland GmbH</td>\n",
              "      <td>Frankfurt a.M., Köln, München, deutschlandweit</td>\n",
              "    </tr>\n",
              "    <tr>\n",
              "      <th>...</th>\n",
              "      <td>...</td>\n",
              "      <td>...</td>\n",
              "      <td>...</td>\n",
              "      <td>...</td>\n",
              "      <td>...</td>\n",
              "    </tr>\n",
              "    <tr>\n",
              "      <th>23477</th>\n",
              "      <td>23477</td>\n",
              "      <td>Technischer Fachberater (m/w) im Innendienst</td>\n",
              "      <td>Sie haben eine kaufmännische bzw. technische A...</td>\n",
              "      <td>Rala GmbH &amp; Co. KG</td>\n",
              "      <td>Ludwigshafen</td>\n",
              "    </tr>\n",
              "    <tr>\n",
              "      <th>23478</th>\n",
              "      <td>23478</td>\n",
              "      <td>Wirtschaftsingenieur als Referent im Vertrieb ...</td>\n",
              "      <td>Die Deutsche Bahn ist nicht nur einer der wich...</td>\n",
              "      <td>Deutsche Bahn AG</td>\n",
              "      <td>Berlin</td>\n",
              "    </tr>\n",
              "    <tr>\n",
              "      <th>23479</th>\n",
              "      <td>23479</td>\n",
              "      <td>IT Fachkraft m/w</td>\n",
              "      <td>Standort: Heilbad Heiligenstadt (37308), Thüri...</td>\n",
              "      <td>Magna</td>\n",
              "      <td>Heilbad Heiligenstadt</td>\n",
              "    </tr>\n",
              "    <tr>\n",
              "      <th>23480</th>\n",
              "      <td>23480</td>\n",
              "      <td>(Junior) Projektingenieur Sensorik und Kommuni...</td>\n",
              "      <td>Für unseren Geschäftsbereich Verteidigung &amp; Si...</td>\n",
              "      <td>IABG Industrieanlagen - Betriebsgesellschaft mbH</td>\n",
              "      <td>Ottobrunn bei München, Koblenz</td>\n",
              "    </tr>\n",
              "    <tr>\n",
              "      <th>23481</th>\n",
              "      <td>23481</td>\n",
              "      <td>Bauingenieur Konstruktiver Ingenieurbau (w/m)</td>\n",
              "      <td>Die Deutsche Bahn ist nicht nur einer der wich...</td>\n",
              "      <td>Deutsche Bahn AG</td>\n",
              "      <td>Stuttgart</td>\n",
              "    </tr>\n",
              "  </tbody>\n",
              "</table>\n",
              "<p>23482 rows × 5 columns</p>\n",
              "</div>\n",
              "      <button class=\"colab-df-convert\" onclick=\"convertToInteractive('df-83a66f9f-3d8d-4676-a948-bb8608994533')\"\n",
              "              title=\"Convert this dataframe to an interactive table.\"\n",
              "              style=\"display:none;\">\n",
              "        \n",
              "  <svg xmlns=\"http://www.w3.org/2000/svg\" height=\"24px\"viewBox=\"0 0 24 24\"\n",
              "       width=\"24px\">\n",
              "    <path d=\"M0 0h24v24H0V0z\" fill=\"none\"/>\n",
              "    <path d=\"M18.56 5.44l.94 2.06.94-2.06 2.06-.94-2.06-.94-.94-2.06-.94 2.06-2.06.94zm-11 1L8.5 8.5l.94-2.06 2.06-.94-2.06-.94L8.5 2.5l-.94 2.06-2.06.94zm10 10l.94 2.06.94-2.06 2.06-.94-2.06-.94-.94-2.06-.94 2.06-2.06.94z\"/><path d=\"M17.41 7.96l-1.37-1.37c-.4-.4-.92-.59-1.43-.59-.52 0-1.04.2-1.43.59L10.3 9.45l-7.72 7.72c-.78.78-.78 2.05 0 2.83L4 21.41c.39.39.9.59 1.41.59.51 0 1.02-.2 1.41-.59l7.78-7.78 2.81-2.81c.8-.78.8-2.07 0-2.86zM5.41 20L4 18.59l7.72-7.72 1.47 1.35L5.41 20z\"/>\n",
              "  </svg>\n",
              "      </button>\n",
              "      \n",
              "  <style>\n",
              "    .colab-df-container {\n",
              "      display:flex;\n",
              "      flex-wrap:wrap;\n",
              "      gap: 12px;\n",
              "    }\n",
              "\n",
              "    .colab-df-convert {\n",
              "      background-color: #E8F0FE;\n",
              "      border: none;\n",
              "      border-radius: 50%;\n",
              "      cursor: pointer;\n",
              "      display: none;\n",
              "      fill: #1967D2;\n",
              "      height: 32px;\n",
              "      padding: 0 0 0 0;\n",
              "      width: 32px;\n",
              "    }\n",
              "\n",
              "    .colab-df-convert:hover {\n",
              "      background-color: #E2EBFA;\n",
              "      box-shadow: 0px 1px 2px rgba(60, 64, 67, 0.3), 0px 1px 3px 1px rgba(60, 64, 67, 0.15);\n",
              "      fill: #174EA6;\n",
              "    }\n",
              "\n",
              "    [theme=dark] .colab-df-convert {\n",
              "      background-color: #3B4455;\n",
              "      fill: #D2E3FC;\n",
              "    }\n",
              "\n",
              "    [theme=dark] .colab-df-convert:hover {\n",
              "      background-color: #434B5C;\n",
              "      box-shadow: 0px 1px 3px 1px rgba(0, 0, 0, 0.15);\n",
              "      filter: drop-shadow(0px 1px 2px rgba(0, 0, 0, 0.3));\n",
              "      fill: #FFFFFF;\n",
              "    }\n",
              "  </style>\n",
              "\n",
              "      <script>\n",
              "        const buttonEl =\n",
              "          document.querySelector('#df-83a66f9f-3d8d-4676-a948-bb8608994533 button.colab-df-convert');\n",
              "        buttonEl.style.display =\n",
              "          google.colab.kernel.accessAllowed ? 'block' : 'none';\n",
              "\n",
              "        async function convertToInteractive(key) {\n",
              "          const element = document.querySelector('#df-83a66f9f-3d8d-4676-a948-bb8608994533');\n",
              "          const dataTable =\n",
              "            await google.colab.kernel.invokeFunction('convertToInteractive',\n",
              "                                                     [key], {});\n",
              "          if (!dataTable) return;\n",
              "\n",
              "          const docLinkHtml = 'Like what you see? Visit the ' +\n",
              "            '<a target=\"_blank\" href=https://colab.research.google.com/notebooks/data_table.ipynb>data table notebook</a>'\n",
              "            + ' to learn more about interactive tables.';\n",
              "          element.innerHTML = '';\n",
              "          dataTable['output_type'] = 'display_data';\n",
              "          await google.colab.output.renderOutput(dataTable, element);\n",
              "          const docLink = document.createElement('div');\n",
              "          docLink.innerHTML = docLinkHtml;\n",
              "          element.appendChild(docLink);\n",
              "        }\n",
              "      </script>\n",
              "    </div>\n",
              "  </div>\n",
              "  "
            ]
          },
          "metadata": {},
          "execution_count": 43
        }
      ]
    },
    {
      "cell_type": "code",
      "execution_count": 44,
      "metadata": {
        "colab": {
          "base_uri": "https://localhost:8080/"
        },
        "id": "SQPG-xdY74c7",
        "outputId": "d9f7932d-8be9-4929-8312-d0a7e78b5345"
      },
      "outputs": [
        {
          "output_type": "execute_result",
          "data": {
            "text/plain": [
              "Index(['Unnamed: 0', 'job_title', 'full_description', 'company', 'location'], dtype='object')"
            ]
          },
          "metadata": {},
          "execution_count": 44
        }
      ],
      "source": [
        "df.columns"
      ]
    },
    {
      "cell_type": "code",
      "execution_count": 45,
      "metadata": {
        "id": "ad5L-Nod7gwS"
      },
      "outputs": [],
      "source": [
        "df = df[['job_title', 'full_description', 'company', 'location']]"
      ]
    },
    {
      "cell_type": "markdown",
      "metadata": {
        "id": "7Xtycp9wOaYG"
      },
      "source": [
        "## Data Exploration"
      ]
    },
    {
      "cell_type": "code",
      "execution_count": 46,
      "metadata": {
        "colab": {
          "base_uri": "https://localhost:8080/"
        },
        "id": "Fxs8FssbNPQg",
        "outputId": "9f12a89a-4bcc-4261-dd86-1c6969df2b1e"
      },
      "outputs": [
        {
          "output_type": "execute_result",
          "data": {
            "text/plain": [
              "(23482, 4)"
            ]
          },
          "metadata": {},
          "execution_count": 46
        }
      ],
      "source": [
        "df.shape"
      ]
    },
    {
      "cell_type": "code",
      "execution_count": 47,
      "metadata": {
        "colab": {
          "base_uri": "https://localhost:8080/",
          "height": 496
        },
        "id": "PLylaF6FNS_0",
        "outputId": "ed8daaa1-084f-4405-d950-49a8ca2866b3"
      },
      "outputs": [
        {
          "output_type": "execute_result",
          "data": {
            "text/plain": [
              "                                           job_title  \\\n",
              "0  Senior Testmanager/Qualitätsmanager (m/w) Shif...   \n",
              "1  Junior Java Entwickler (m/w) in spannenden Ent...   \n",
              "2  (Senior)Technical Consultant (m/w) Testautomat...   \n",
              "3  Einsteiger (w/m) Digitalisierung und Data Anal...   \n",
              "4  Projektmanager / Managing Consultant (m/w) Cus...   \n",
              "\n",
              "                                    full_description  \\\n",
              "0  Zum weiteren Ausbau unseres Teams, suchen wir ...   \n",
              "1  Erfahrungen im Umgang mit objektorientierten P...   \n",
              "2  DBS-8346-SR - Einsatzort: deutschlandweit - Wi...   \n",
              "3  Die globale EY-Organisation* ist einer der Mar...   \n",
              "4  Idealerweise über drei Jahre praktische Erfahr...   \n",
              "\n",
              "                                             company  \\\n",
              "0                          NTT DATA Deutschland GmbH   \n",
              "1                          NTT DATA Deutschland GmbH   \n",
              "2                          NTT DATA Deutschland GmbH   \n",
              "3  Ernst & Young GmbH Wirtschaftsprüfungsgesellsc...   \n",
              "4                          NTT DATA Deutschland GmbH   \n",
              "\n",
              "                                            location  \n",
              "0                                    deutschlandweit  \n",
              "1  Frankfurt a.M., Köln, München, Stuttgart, deut...  \n",
              "2                                    deutschlandweit  \n",
              "3                                    Deutschlandweit  \n",
              "4     Frankfurt a.M., Köln, München, deutschlandweit  "
            ],
            "text/html": [
              "\n",
              "  <div id=\"df-d5d1a557-9aeb-47fa-96d1-11b665b6c897\">\n",
              "    <div class=\"colab-df-container\">\n",
              "      <div>\n",
              "<style scoped>\n",
              "    .dataframe tbody tr th:only-of-type {\n",
              "        vertical-align: middle;\n",
              "    }\n",
              "\n",
              "    .dataframe tbody tr th {\n",
              "        vertical-align: top;\n",
              "    }\n",
              "\n",
              "    .dataframe thead th {\n",
              "        text-align: right;\n",
              "    }\n",
              "</style>\n",
              "<table border=\"1\" class=\"dataframe\">\n",
              "  <thead>\n",
              "    <tr style=\"text-align: right;\">\n",
              "      <th></th>\n",
              "      <th>job_title</th>\n",
              "      <th>full_description</th>\n",
              "      <th>company</th>\n",
              "      <th>location</th>\n",
              "    </tr>\n",
              "  </thead>\n",
              "  <tbody>\n",
              "    <tr>\n",
              "      <th>0</th>\n",
              "      <td>Senior Testmanager/Qualitätsmanager (m/w) Shif...</td>\n",
              "      <td>Zum weiteren Ausbau unseres Teams, suchen wir ...</td>\n",
              "      <td>NTT DATA Deutschland GmbH</td>\n",
              "      <td>deutschlandweit</td>\n",
              "    </tr>\n",
              "    <tr>\n",
              "      <th>1</th>\n",
              "      <td>Junior Java Entwickler (m/w) in spannenden Ent...</td>\n",
              "      <td>Erfahrungen im Umgang mit objektorientierten P...</td>\n",
              "      <td>NTT DATA Deutschland GmbH</td>\n",
              "      <td>Frankfurt a.M., Köln, München, Stuttgart, deut...</td>\n",
              "    </tr>\n",
              "    <tr>\n",
              "      <th>2</th>\n",
              "      <td>(Senior)Technical Consultant (m/w) Testautomat...</td>\n",
              "      <td>DBS-8346-SR - Einsatzort: deutschlandweit - Wi...</td>\n",
              "      <td>NTT DATA Deutschland GmbH</td>\n",
              "      <td>deutschlandweit</td>\n",
              "    </tr>\n",
              "    <tr>\n",
              "      <th>3</th>\n",
              "      <td>Einsteiger (w/m) Digitalisierung und Data Anal...</td>\n",
              "      <td>Die globale EY-Organisation* ist einer der Mar...</td>\n",
              "      <td>Ernst &amp; Young GmbH Wirtschaftsprüfungsgesellsc...</td>\n",
              "      <td>Deutschlandweit</td>\n",
              "    </tr>\n",
              "    <tr>\n",
              "      <th>4</th>\n",
              "      <td>Projektmanager / Managing Consultant (m/w) Cus...</td>\n",
              "      <td>Idealerweise über drei Jahre praktische Erfahr...</td>\n",
              "      <td>NTT DATA Deutschland GmbH</td>\n",
              "      <td>Frankfurt a.M., Köln, München, deutschlandweit</td>\n",
              "    </tr>\n",
              "  </tbody>\n",
              "</table>\n",
              "</div>\n",
              "      <button class=\"colab-df-convert\" onclick=\"convertToInteractive('df-d5d1a557-9aeb-47fa-96d1-11b665b6c897')\"\n",
              "              title=\"Convert this dataframe to an interactive table.\"\n",
              "              style=\"display:none;\">\n",
              "        \n",
              "  <svg xmlns=\"http://www.w3.org/2000/svg\" height=\"24px\"viewBox=\"0 0 24 24\"\n",
              "       width=\"24px\">\n",
              "    <path d=\"M0 0h24v24H0V0z\" fill=\"none\"/>\n",
              "    <path d=\"M18.56 5.44l.94 2.06.94-2.06 2.06-.94-2.06-.94-.94-2.06-.94 2.06-2.06.94zm-11 1L8.5 8.5l.94-2.06 2.06-.94-2.06-.94L8.5 2.5l-.94 2.06-2.06.94zm10 10l.94 2.06.94-2.06 2.06-.94-2.06-.94-.94-2.06-.94 2.06-2.06.94z\"/><path d=\"M17.41 7.96l-1.37-1.37c-.4-.4-.92-.59-1.43-.59-.52 0-1.04.2-1.43.59L10.3 9.45l-7.72 7.72c-.78.78-.78 2.05 0 2.83L4 21.41c.39.39.9.59 1.41.59.51 0 1.02-.2 1.41-.59l7.78-7.78 2.81-2.81c.8-.78.8-2.07 0-2.86zM5.41 20L4 18.59l7.72-7.72 1.47 1.35L5.41 20z\"/>\n",
              "  </svg>\n",
              "      </button>\n",
              "      \n",
              "  <style>\n",
              "    .colab-df-container {\n",
              "      display:flex;\n",
              "      flex-wrap:wrap;\n",
              "      gap: 12px;\n",
              "    }\n",
              "\n",
              "    .colab-df-convert {\n",
              "      background-color: #E8F0FE;\n",
              "      border: none;\n",
              "      border-radius: 50%;\n",
              "      cursor: pointer;\n",
              "      display: none;\n",
              "      fill: #1967D2;\n",
              "      height: 32px;\n",
              "      padding: 0 0 0 0;\n",
              "      width: 32px;\n",
              "    }\n",
              "\n",
              "    .colab-df-convert:hover {\n",
              "      background-color: #E2EBFA;\n",
              "      box-shadow: 0px 1px 2px rgba(60, 64, 67, 0.3), 0px 1px 3px 1px rgba(60, 64, 67, 0.15);\n",
              "      fill: #174EA6;\n",
              "    }\n",
              "\n",
              "    [theme=dark] .colab-df-convert {\n",
              "      background-color: #3B4455;\n",
              "      fill: #D2E3FC;\n",
              "    }\n",
              "\n",
              "    [theme=dark] .colab-df-convert:hover {\n",
              "      background-color: #434B5C;\n",
              "      box-shadow: 0px 1px 3px 1px rgba(0, 0, 0, 0.15);\n",
              "      filter: drop-shadow(0px 1px 2px rgba(0, 0, 0, 0.3));\n",
              "      fill: #FFFFFF;\n",
              "    }\n",
              "  </style>\n",
              "\n",
              "      <script>\n",
              "        const buttonEl =\n",
              "          document.querySelector('#df-d5d1a557-9aeb-47fa-96d1-11b665b6c897 button.colab-df-convert');\n",
              "        buttonEl.style.display =\n",
              "          google.colab.kernel.accessAllowed ? 'block' : 'none';\n",
              "\n",
              "        async function convertToInteractive(key) {\n",
              "          const element = document.querySelector('#df-d5d1a557-9aeb-47fa-96d1-11b665b6c897');\n",
              "          const dataTable =\n",
              "            await google.colab.kernel.invokeFunction('convertToInteractive',\n",
              "                                                     [key], {});\n",
              "          if (!dataTable) return;\n",
              "\n",
              "          const docLinkHtml = 'Like what you see? Visit the ' +\n",
              "            '<a target=\"_blank\" href=https://colab.research.google.com/notebooks/data_table.ipynb>data table notebook</a>'\n",
              "            + ' to learn more about interactive tables.';\n",
              "          element.innerHTML = '';\n",
              "          dataTable['output_type'] = 'display_data';\n",
              "          await google.colab.output.renderOutput(dataTable, element);\n",
              "          const docLink = document.createElement('div');\n",
              "          docLink.innerHTML = docLinkHtml;\n",
              "          element.appendChild(docLink);\n",
              "        }\n",
              "      </script>\n",
              "    </div>\n",
              "  </div>\n",
              "  "
            ]
          },
          "metadata": {},
          "execution_count": 47
        }
      ],
      "source": [
        "df.head()"
      ]
    },
    {
      "cell_type": "code",
      "execution_count": 48,
      "metadata": {
        "id": "cEtZhhu4Nf4k"
      },
      "outputs": [],
      "source": [
        "#from google.colab import files\n",
        "#df.to_csv('df.csv')\n",
        "#files.download('df.csv')"
      ]
    },
    {
      "cell_type": "code",
      "execution_count": 49,
      "metadata": {
        "colab": {
          "base_uri": "https://localhost:8080/"
        },
        "id": "-SXWRzd0OGlK",
        "outputId": "99a6278e-dbee-44b1-d81b-9ab71c31d216"
      },
      "outputs": [
        {
          "output_type": "execute_result",
          "data": {
            "text/plain": [
              "job_title           0\n",
              "full_description    0\n",
              "company             0\n",
              "location            0\n",
              "dtype: int64"
            ]
          },
          "metadata": {},
          "execution_count": 49
        }
      ],
      "source": [
        "df.isnull().sum()"
      ]
    },
    {
      "cell_type": "code",
      "execution_count": 50,
      "metadata": {
        "id": "jTo-hEpzOM0H"
      },
      "outputs": [],
      "source": [
        "#Removing the missing values: Process not necesary because we dont have missing values\n",
        "#df = df.dropna().reset_index(drop=True)\n",
        "#df.isnull().sum()"
      ]
    },
    {
      "cell_type": "code",
      "execution_count": 51,
      "metadata": {
        "colab": {
          "base_uri": "https://localhost:8080/",
          "height": 1000
        },
        "id": "in0HmeVwyFP8",
        "outputId": "8cbb068f-3a2e-4940-e08f-54b3abc6f40c"
      },
      "outputs": [
        {
          "output_type": "execute_result",
          "data": {
            "text/plain": [
              "                                               job_title  \\\n",
              "23     Data Scientist Cyber-Physical Systems (m/w) Ma...   \n",
              "91                     Data Governance Manager IoT (m/w)   \n",
              "100                                  DATA ENGINEER (M/F)   \n",
              "102         DATA SCIENTIST (m/w) für HAMBURG und MÜNCHEN   \n",
              "105    Data Scientist (m/f) for quantitative genetic ...   \n",
              "...                                                  ...   \n",
              "22096                               Data Scientist (m/w)   \n",
              "22121    Data Scientist and Computational Linguist (m/f)   \n",
              "22146  Data Science (Senior) Consultant (m/w) Risk Ad...   \n",
              "22400               Data Engineer / Data Architect (w/m)   \n",
              "22909                     Data Application Manager (m/w)   \n",
              "\n",
              "                                        full_description  \\\n",
              "23     Spitzenleistung im Team - Mit Pioniergeist und...   \n",
              "91     Verantwortlich für die Einführung und Umsetzun...   \n",
              "100    We are looking for a savvy Data Engineer to jo...   \n",
              "102    Für unseren Hamburger und Münchener Standort s...   \n",
              "105    We are looking to recruit - at the earliest po...   \n",
              "...                                                  ...   \n",
              "22096  Als LEADER IN DIGITAL TRANS­FOR­MA­TION berate...   \n",
              "22121  for Reinsurance Development – Analytics Centra...   \n",
              "22146  Job Nummer: 20141 - Standort: Berlin, Düsseldo...   \n",
              "22400  Advisory - C-102009 - Deine Aufgaben * Innovat...   \n",
              "22909  Publicis Media ist das weltweit zweitgrößte Me...   \n",
              "\n",
              "                                           company  \\\n",
              "23                            SCHUNK GmbH & Co. KG   \n",
              "91                             Deutsche Telekom AG   \n",
              "100                        Deutsche Post DHL Group   \n",
              "102                              SDG consulting AG   \n",
              "105                                    KWS SAAT SE   \n",
              "...                                            ...   \n",
              "22096                         Capgemini Consulting   \n",
              "22121  Münchener Rückversicherungs-Gesellschaft AG   \n",
              "22146                                     Deloitte   \n",
              "22400                                          PwC   \n",
              "22909                          Publicis Media GmbH   \n",
              "\n",
              "                                                location  \n",
              "23                                    Brackenheim-Hausen  \n",
              "91                                                Berlin  \n",
              "100                                                 Bonn  \n",
              "102                                     München, Hamburg  \n",
              "105                                              Einbeck  \n",
              "...                                                  ...  \n",
              "22096           Frankfurt am Main, Köln, München, Berlin  \n",
              "22121                                            München  \n",
              "22146  Berlin, Düsseldorf, Frankfurt, Hamburg, Münche...  \n",
              "22400  Düsseldorf, Frankfurt am Main, Hamburg, Münche...  \n",
              "22909                                         Düsseldorf  \n",
              "\n",
              "[166 rows x 4 columns]"
            ],
            "text/html": [
              "\n",
              "  <div id=\"df-49b90379-5a41-4e2a-9f72-d7bb272ce2de\">\n",
              "    <div class=\"colab-df-container\">\n",
              "      <div>\n",
              "<style scoped>\n",
              "    .dataframe tbody tr th:only-of-type {\n",
              "        vertical-align: middle;\n",
              "    }\n",
              "\n",
              "    .dataframe tbody tr th {\n",
              "        vertical-align: top;\n",
              "    }\n",
              "\n",
              "    .dataframe thead th {\n",
              "        text-align: right;\n",
              "    }\n",
              "</style>\n",
              "<table border=\"1\" class=\"dataframe\">\n",
              "  <thead>\n",
              "    <tr style=\"text-align: right;\">\n",
              "      <th></th>\n",
              "      <th>job_title</th>\n",
              "      <th>full_description</th>\n",
              "      <th>company</th>\n",
              "      <th>location</th>\n",
              "    </tr>\n",
              "  </thead>\n",
              "  <tbody>\n",
              "    <tr>\n",
              "      <th>23</th>\n",
              "      <td>Data Scientist Cyber-Physical Systems (m/w) Ma...</td>\n",
              "      <td>Spitzenleistung im Team - Mit Pioniergeist und...</td>\n",
              "      <td>SCHUNK GmbH &amp; Co. KG</td>\n",
              "      <td>Brackenheim-Hausen</td>\n",
              "    </tr>\n",
              "    <tr>\n",
              "      <th>91</th>\n",
              "      <td>Data Governance Manager IoT (m/w)</td>\n",
              "      <td>Verantwortlich für die Einführung und Umsetzun...</td>\n",
              "      <td>Deutsche Telekom AG</td>\n",
              "      <td>Berlin</td>\n",
              "    </tr>\n",
              "    <tr>\n",
              "      <th>100</th>\n",
              "      <td>DATA ENGINEER (M/F)</td>\n",
              "      <td>We are looking for a savvy Data Engineer to jo...</td>\n",
              "      <td>Deutsche Post DHL Group</td>\n",
              "      <td>Bonn</td>\n",
              "    </tr>\n",
              "    <tr>\n",
              "      <th>102</th>\n",
              "      <td>DATA SCIENTIST (m/w) für HAMBURG und MÜNCHEN</td>\n",
              "      <td>Für unseren Hamburger und Münchener Standort s...</td>\n",
              "      <td>SDG consulting AG</td>\n",
              "      <td>München, Hamburg</td>\n",
              "    </tr>\n",
              "    <tr>\n",
              "      <th>105</th>\n",
              "      <td>Data Scientist (m/f) for quantitative genetic ...</td>\n",
              "      <td>We are looking to recruit - at the earliest po...</td>\n",
              "      <td>KWS SAAT SE</td>\n",
              "      <td>Einbeck</td>\n",
              "    </tr>\n",
              "    <tr>\n",
              "      <th>...</th>\n",
              "      <td>...</td>\n",
              "      <td>...</td>\n",
              "      <td>...</td>\n",
              "      <td>...</td>\n",
              "    </tr>\n",
              "    <tr>\n",
              "      <th>22096</th>\n",
              "      <td>Data Scientist (m/w)</td>\n",
              "      <td>Als LEADER IN DIGITAL TRANS­FOR­MA­TION berate...</td>\n",
              "      <td>Capgemini Consulting</td>\n",
              "      <td>Frankfurt am Main, Köln, München, Berlin</td>\n",
              "    </tr>\n",
              "    <tr>\n",
              "      <th>22121</th>\n",
              "      <td>Data Scientist and Computational Linguist (m/f)</td>\n",
              "      <td>for Reinsurance Development – Analytics Centra...</td>\n",
              "      <td>Münchener Rückversicherungs-Gesellschaft AG</td>\n",
              "      <td>München</td>\n",
              "    </tr>\n",
              "    <tr>\n",
              "      <th>22146</th>\n",
              "      <td>Data Science (Senior) Consultant (m/w) Risk Ad...</td>\n",
              "      <td>Job Nummer: 20141 - Standort: Berlin, Düsseldo...</td>\n",
              "      <td>Deloitte</td>\n",
              "      <td>Berlin, Düsseldorf, Frankfurt, Hamburg, Münche...</td>\n",
              "    </tr>\n",
              "    <tr>\n",
              "      <th>22400</th>\n",
              "      <td>Data Engineer / Data Architect (w/m)</td>\n",
              "      <td>Advisory - C-102009 - Deine Aufgaben * Innovat...</td>\n",
              "      <td>PwC</td>\n",
              "      <td>Düsseldorf, Frankfurt am Main, Hamburg, Münche...</td>\n",
              "    </tr>\n",
              "    <tr>\n",
              "      <th>22909</th>\n",
              "      <td>Data Application Manager (m/w)</td>\n",
              "      <td>Publicis Media ist das weltweit zweitgrößte Me...</td>\n",
              "      <td>Publicis Media GmbH</td>\n",
              "      <td>Düsseldorf</td>\n",
              "    </tr>\n",
              "  </tbody>\n",
              "</table>\n",
              "<p>166 rows × 4 columns</p>\n",
              "</div>\n",
              "      <button class=\"colab-df-convert\" onclick=\"convertToInteractive('df-49b90379-5a41-4e2a-9f72-d7bb272ce2de')\"\n",
              "              title=\"Convert this dataframe to an interactive table.\"\n",
              "              style=\"display:none;\">\n",
              "        \n",
              "  <svg xmlns=\"http://www.w3.org/2000/svg\" height=\"24px\"viewBox=\"0 0 24 24\"\n",
              "       width=\"24px\">\n",
              "    <path d=\"M0 0h24v24H0V0z\" fill=\"none\"/>\n",
              "    <path d=\"M18.56 5.44l.94 2.06.94-2.06 2.06-.94-2.06-.94-.94-2.06-.94 2.06-2.06.94zm-11 1L8.5 8.5l.94-2.06 2.06-.94-2.06-.94L8.5 2.5l-.94 2.06-2.06.94zm10 10l.94 2.06.94-2.06 2.06-.94-2.06-.94-.94-2.06-.94 2.06-2.06.94z\"/><path d=\"M17.41 7.96l-1.37-1.37c-.4-.4-.92-.59-1.43-.59-.52 0-1.04.2-1.43.59L10.3 9.45l-7.72 7.72c-.78.78-.78 2.05 0 2.83L4 21.41c.39.39.9.59 1.41.59.51 0 1.02-.2 1.41-.59l7.78-7.78 2.81-2.81c.8-.78.8-2.07 0-2.86zM5.41 20L4 18.59l7.72-7.72 1.47 1.35L5.41 20z\"/>\n",
              "  </svg>\n",
              "      </button>\n",
              "      \n",
              "  <style>\n",
              "    .colab-df-container {\n",
              "      display:flex;\n",
              "      flex-wrap:wrap;\n",
              "      gap: 12px;\n",
              "    }\n",
              "\n",
              "    .colab-df-convert {\n",
              "      background-color: #E8F0FE;\n",
              "      border: none;\n",
              "      border-radius: 50%;\n",
              "      cursor: pointer;\n",
              "      display: none;\n",
              "      fill: #1967D2;\n",
              "      height: 32px;\n",
              "      padding: 0 0 0 0;\n",
              "      width: 32px;\n",
              "    }\n",
              "\n",
              "    .colab-df-convert:hover {\n",
              "      background-color: #E2EBFA;\n",
              "      box-shadow: 0px 1px 2px rgba(60, 64, 67, 0.3), 0px 1px 3px 1px rgba(60, 64, 67, 0.15);\n",
              "      fill: #174EA6;\n",
              "    }\n",
              "\n",
              "    [theme=dark] .colab-df-convert {\n",
              "      background-color: #3B4455;\n",
              "      fill: #D2E3FC;\n",
              "    }\n",
              "\n",
              "    [theme=dark] .colab-df-convert:hover {\n",
              "      background-color: #434B5C;\n",
              "      box-shadow: 0px 1px 3px 1px rgba(0, 0, 0, 0.15);\n",
              "      filter: drop-shadow(0px 1px 2px rgba(0, 0, 0, 0.3));\n",
              "      fill: #FFFFFF;\n",
              "    }\n",
              "  </style>\n",
              "\n",
              "      <script>\n",
              "        const buttonEl =\n",
              "          document.querySelector('#df-49b90379-5a41-4e2a-9f72-d7bb272ce2de button.colab-df-convert');\n",
              "        buttonEl.style.display =\n",
              "          google.colab.kernel.accessAllowed ? 'block' : 'none';\n",
              "\n",
              "        async function convertToInteractive(key) {\n",
              "          const element = document.querySelector('#df-49b90379-5a41-4e2a-9f72-d7bb272ce2de');\n",
              "          const dataTable =\n",
              "            await google.colab.kernel.invokeFunction('convertToInteractive',\n",
              "                                                     [key], {});\n",
              "          if (!dataTable) return;\n",
              "\n",
              "          const docLinkHtml = 'Like what you see? Visit the ' +\n",
              "            '<a target=\"_blank\" href=https://colab.research.google.com/notebooks/data_table.ipynb>data table notebook</a>'\n",
              "            + ' to learn more about interactive tables.';\n",
              "          element.innerHTML = '';\n",
              "          dataTable['output_type'] = 'display_data';\n",
              "          await google.colab.output.renderOutput(dataTable, element);\n",
              "          const docLink = document.createElement('div');\n",
              "          docLink.innerHTML = docLinkHtml;\n",
              "          element.appendChild(docLink);\n",
              "        }\n",
              "      </script>\n",
              "    </div>\n",
              "  </div>\n",
              "  "
            ]
          },
          "metadata": {},
          "execution_count": 51
        }
      ],
      "source": [
        "df[df['job_title'].str.match('Data', case=False)]"
      ]
    },
    {
      "cell_type": "markdown",
      "metadata": {
        "id": "FgV28rXhyLZQ"
      },
      "source": [
        "There are duplicates that will be removed at the end of preprocessing: "
      ]
    },
    {
      "cell_type": "code",
      "execution_count": 52,
      "metadata": {
        "colab": {
          "base_uri": "https://localhost:8080/",
          "height": 852
        },
        "id": "aJMJyE26yIfg",
        "outputId": "5db41f8c-a095-46ce-9b56-ba73792252f5"
      },
      "outputs": [
        {
          "output_type": "execute_result",
          "data": {
            "text/plain": [
              "                                               job_title  \\\n",
              "601                                 Web-Entwickler (m/w)   \n",
              "1407                              Developer (w/m) SAP MM   \n",
              "1536                               Systemingenieur (m/w)   \n",
              "2154                        Prüfverfahrensentwickler/-in   \n",
              "2197                    Produktingenieur Prüfköpfe (m/w)   \n",
              "...                                                  ...   \n",
              "22463      Elektroingenieur als Bauüberwacher Bahn (w/m)   \n",
              "22673                    Supplier Quality Engineer (m/w)   \n",
              "22743                       Ingenieur/in (TU/TH), Master   \n",
              "22907  Entwicklungsingenieur (m/w) Pfadplanung für au...   \n",
              "23153                 Entwicklungsingenieur/-in Hardware   \n",
              "\n",
              "                                        full_description  \\\n",
              "601    Dafür brauchen wir Deine Unterstützung als Web...   \n",
              "1407   Als Developer (w/m) SAP MM gestaltest du Proze...   \n",
              "1536   Bei BioNTech leistet jeder Großes! Denn als gr...   \n",
              "2154   Reutlingen * Feste Anstellung * Vollzeit - Wil...   \n",
              "2197   Als Produktingenieur sind Sie für die Umsetzun...   \n",
              "...                                                  ...   \n",
              "22463  Die Deutsche Bahn ist nicht nur einer der wich...   \n",
              "22673  The Supplier Quality Engineer will collaborate...   \n",
              "22743  Für den Dienstort Stuttgart suchen wir einen/e...   \n",
              "22907  Der Bertrandt-Konzern bietet seit über 40 Jahr...   \n",
              "23153  Schwäbisch Gmünd * Feste Anstellung * Vollzeit...   \n",
              "\n",
              "                                         company            location  \n",
              "601                                   DeepL GmbH                Köln  \n",
              "1407    Lidl Digital International GmbH & Co. KG  Leingarten, Berlin  \n",
              "1536                                 BioNTech AG               Mainz  \n",
              "2154                           Robert Bosch GmbH          Reutlingen  \n",
              "2197                   Baker Hughes a GE Company               Hürth  \n",
              "...                                          ...                 ...  \n",
              "22463                           Deutsche Bahn AG            Nürnberg  \n",
              "22673                  Baker Hughes a GE Company            Wunstorf  \n",
              "22743  BGHM Berufsgenossenschaft Holz und Metall           Stuttgart  \n",
              "22907                               Bertrandt AG   Frankfurt am Main  \n",
              "23153                          Robert Bosch GmbH    Schwäbisch Gmünd  \n",
              "\n",
              "[70 rows x 4 columns]"
            ],
            "text/html": [
              "\n",
              "  <div id=\"df-fe8440b0-e56d-4f73-8bdf-b2b85df38640\">\n",
              "    <div class=\"colab-df-container\">\n",
              "      <div>\n",
              "<style scoped>\n",
              "    .dataframe tbody tr th:only-of-type {\n",
              "        vertical-align: middle;\n",
              "    }\n",
              "\n",
              "    .dataframe tbody tr th {\n",
              "        vertical-align: top;\n",
              "    }\n",
              "\n",
              "    .dataframe thead th {\n",
              "        text-align: right;\n",
              "    }\n",
              "</style>\n",
              "<table border=\"1\" class=\"dataframe\">\n",
              "  <thead>\n",
              "    <tr style=\"text-align: right;\">\n",
              "      <th></th>\n",
              "      <th>job_title</th>\n",
              "      <th>full_description</th>\n",
              "      <th>company</th>\n",
              "      <th>location</th>\n",
              "    </tr>\n",
              "  </thead>\n",
              "  <tbody>\n",
              "    <tr>\n",
              "      <th>601</th>\n",
              "      <td>Web-Entwickler (m/w)</td>\n",
              "      <td>Dafür brauchen wir Deine Unterstützung als Web...</td>\n",
              "      <td>DeepL GmbH</td>\n",
              "      <td>Köln</td>\n",
              "    </tr>\n",
              "    <tr>\n",
              "      <th>1407</th>\n",
              "      <td>Developer (w/m) SAP MM</td>\n",
              "      <td>Als Developer (w/m) SAP MM gestaltest du Proze...</td>\n",
              "      <td>Lidl Digital International GmbH &amp; Co. KG</td>\n",
              "      <td>Leingarten, Berlin</td>\n",
              "    </tr>\n",
              "    <tr>\n",
              "      <th>1536</th>\n",
              "      <td>Systemingenieur (m/w)</td>\n",
              "      <td>Bei BioNTech leistet jeder Großes! Denn als gr...</td>\n",
              "      <td>BioNTech AG</td>\n",
              "      <td>Mainz</td>\n",
              "    </tr>\n",
              "    <tr>\n",
              "      <th>2154</th>\n",
              "      <td>Prüfverfahrensentwickler/-in</td>\n",
              "      <td>Reutlingen * Feste Anstellung * Vollzeit - Wil...</td>\n",
              "      <td>Robert Bosch GmbH</td>\n",
              "      <td>Reutlingen</td>\n",
              "    </tr>\n",
              "    <tr>\n",
              "      <th>2197</th>\n",
              "      <td>Produktingenieur Prüfköpfe (m/w)</td>\n",
              "      <td>Als Produktingenieur sind Sie für die Umsetzun...</td>\n",
              "      <td>Baker Hughes a GE Company</td>\n",
              "      <td>Hürth</td>\n",
              "    </tr>\n",
              "    <tr>\n",
              "      <th>...</th>\n",
              "      <td>...</td>\n",
              "      <td>...</td>\n",
              "      <td>...</td>\n",
              "      <td>...</td>\n",
              "    </tr>\n",
              "    <tr>\n",
              "      <th>22463</th>\n",
              "      <td>Elektroingenieur als Bauüberwacher Bahn (w/m)</td>\n",
              "      <td>Die Deutsche Bahn ist nicht nur einer der wich...</td>\n",
              "      <td>Deutsche Bahn AG</td>\n",
              "      <td>Nürnberg</td>\n",
              "    </tr>\n",
              "    <tr>\n",
              "      <th>22673</th>\n",
              "      <td>Supplier Quality Engineer (m/w)</td>\n",
              "      <td>The Supplier Quality Engineer will collaborate...</td>\n",
              "      <td>Baker Hughes a GE Company</td>\n",
              "      <td>Wunstorf</td>\n",
              "    </tr>\n",
              "    <tr>\n",
              "      <th>22743</th>\n",
              "      <td>Ingenieur/in (TU/TH), Master</td>\n",
              "      <td>Für den Dienstort Stuttgart suchen wir einen/e...</td>\n",
              "      <td>BGHM Berufsgenossenschaft Holz und Metall</td>\n",
              "      <td>Stuttgart</td>\n",
              "    </tr>\n",
              "    <tr>\n",
              "      <th>22907</th>\n",
              "      <td>Entwicklungsingenieur (m/w) Pfadplanung für au...</td>\n",
              "      <td>Der Bertrandt-Konzern bietet seit über 40 Jahr...</td>\n",
              "      <td>Bertrandt AG</td>\n",
              "      <td>Frankfurt am Main</td>\n",
              "    </tr>\n",
              "    <tr>\n",
              "      <th>23153</th>\n",
              "      <td>Entwicklungsingenieur/-in Hardware</td>\n",
              "      <td>Schwäbisch Gmünd * Feste Anstellung * Vollzeit...</td>\n",
              "      <td>Robert Bosch GmbH</td>\n",
              "      <td>Schwäbisch Gmünd</td>\n",
              "    </tr>\n",
              "  </tbody>\n",
              "</table>\n",
              "<p>70 rows × 4 columns</p>\n",
              "</div>\n",
              "      <button class=\"colab-df-convert\" onclick=\"convertToInteractive('df-fe8440b0-e56d-4f73-8bdf-b2b85df38640')\"\n",
              "              title=\"Convert this dataframe to an interactive table.\"\n",
              "              style=\"display:none;\">\n",
              "        \n",
              "  <svg xmlns=\"http://www.w3.org/2000/svg\" height=\"24px\"viewBox=\"0 0 24 24\"\n",
              "       width=\"24px\">\n",
              "    <path d=\"M0 0h24v24H0V0z\" fill=\"none\"/>\n",
              "    <path d=\"M18.56 5.44l.94 2.06.94-2.06 2.06-.94-2.06-.94-.94-2.06-.94 2.06-2.06.94zm-11 1L8.5 8.5l.94-2.06 2.06-.94-2.06-.94L8.5 2.5l-.94 2.06-2.06.94zm10 10l.94 2.06.94-2.06 2.06-.94-2.06-.94-.94-2.06-.94 2.06-2.06.94z\"/><path d=\"M17.41 7.96l-1.37-1.37c-.4-.4-.92-.59-1.43-.59-.52 0-1.04.2-1.43.59L10.3 9.45l-7.72 7.72c-.78.78-.78 2.05 0 2.83L4 21.41c.39.39.9.59 1.41.59.51 0 1.02-.2 1.41-.59l7.78-7.78 2.81-2.81c.8-.78.8-2.07 0-2.86zM5.41 20L4 18.59l7.72-7.72 1.47 1.35L5.41 20z\"/>\n",
              "  </svg>\n",
              "      </button>\n",
              "      \n",
              "  <style>\n",
              "    .colab-df-container {\n",
              "      display:flex;\n",
              "      flex-wrap:wrap;\n",
              "      gap: 12px;\n",
              "    }\n",
              "\n",
              "    .colab-df-convert {\n",
              "      background-color: #E8F0FE;\n",
              "      border: none;\n",
              "      border-radius: 50%;\n",
              "      cursor: pointer;\n",
              "      display: none;\n",
              "      fill: #1967D2;\n",
              "      height: 32px;\n",
              "      padding: 0 0 0 0;\n",
              "      width: 32px;\n",
              "    }\n",
              "\n",
              "    .colab-df-convert:hover {\n",
              "      background-color: #E2EBFA;\n",
              "      box-shadow: 0px 1px 2px rgba(60, 64, 67, 0.3), 0px 1px 3px 1px rgba(60, 64, 67, 0.15);\n",
              "      fill: #174EA6;\n",
              "    }\n",
              "\n",
              "    [theme=dark] .colab-df-convert {\n",
              "      background-color: #3B4455;\n",
              "      fill: #D2E3FC;\n",
              "    }\n",
              "\n",
              "    [theme=dark] .colab-df-convert:hover {\n",
              "      background-color: #434B5C;\n",
              "      box-shadow: 0px 1px 3px 1px rgba(0, 0, 0, 0.15);\n",
              "      filter: drop-shadow(0px 1px 2px rgba(0, 0, 0, 0.3));\n",
              "      fill: #FFFFFF;\n",
              "    }\n",
              "  </style>\n",
              "\n",
              "      <script>\n",
              "        const buttonEl =\n",
              "          document.querySelector('#df-fe8440b0-e56d-4f73-8bdf-b2b85df38640 button.colab-df-convert');\n",
              "        buttonEl.style.display =\n",
              "          google.colab.kernel.accessAllowed ? 'block' : 'none';\n",
              "\n",
              "        async function convertToInteractive(key) {\n",
              "          const element = document.querySelector('#df-fe8440b0-e56d-4f73-8bdf-b2b85df38640');\n",
              "          const dataTable =\n",
              "            await google.colab.kernel.invokeFunction('convertToInteractive',\n",
              "                                                     [key], {});\n",
              "          if (!dataTable) return;\n",
              "\n",
              "          const docLinkHtml = 'Like what you see? Visit the ' +\n",
              "            '<a target=\"_blank\" href=https://colab.research.google.com/notebooks/data_table.ipynb>data table notebook</a>'\n",
              "            + ' to learn more about interactive tables.';\n",
              "          element.innerHTML = '';\n",
              "          dataTable['output_type'] = 'display_data';\n",
              "          await google.colab.output.renderOutput(dataTable, element);\n",
              "          const docLink = document.createElement('div');\n",
              "          docLink.innerHTML = docLinkHtml;\n",
              "          element.appendChild(docLink);\n",
              "        }\n",
              "      </script>\n",
              "    </div>\n",
              "  </div>\n",
              "  "
            ]
          },
          "metadata": {},
          "execution_count": 52
        }
      ],
      "source": [
        "df[df.duplicated()]"
      ]
    },
    {
      "cell_type": "code",
      "source": [
        "# for word embeddings we will use a concatenated column that combines job title and job descriptions\n",
        "df['job_full'] = df.job_title.str.cat(df.full_description, sep =\" \")"
      ],
      "metadata": {
        "id": "dO-qozhbwQOJ"
      },
      "execution_count": 53,
      "outputs": []
    },
    {
      "cell_type": "code",
      "source": [
        "df"
      ],
      "metadata": {
        "colab": {
          "base_uri": "https://localhost:8080/",
          "height": 887
        },
        "id": "dMlTrFjSyUcX",
        "outputId": "e6869a8b-088a-4c87-e4c2-7a5c84f0108d"
      },
      "execution_count": 54,
      "outputs": [
        {
          "output_type": "execute_result",
          "data": {
            "text/plain": [
              "                                               job_title  \\\n",
              "0      Senior Testmanager/Qualitätsmanager (m/w) Shif...   \n",
              "1      Junior Java Entwickler (m/w) in spannenden Ent...   \n",
              "2      (Senior)Technical Consultant (m/w) Testautomat...   \n",
              "3      Einsteiger (w/m) Digitalisierung und Data Anal...   \n",
              "4      Projektmanager / Managing Consultant (m/w) Cus...   \n",
              "...                                                  ...   \n",
              "23477       Technischer Fachberater (m/w) im Innendienst   \n",
              "23478  Wirtschaftsingenieur als Referent im Vertrieb ...   \n",
              "23479                                   IT Fachkraft m/w   \n",
              "23480  (Junior) Projektingenieur Sensorik und Kommuni...   \n",
              "23481      Bauingenieur Konstruktiver Ingenieurbau (w/m)   \n",
              "\n",
              "                                        full_description  \\\n",
              "0      Zum weiteren Ausbau unseres Teams, suchen wir ...   \n",
              "1      Erfahrungen im Umgang mit objektorientierten P...   \n",
              "2      DBS-8346-SR - Einsatzort: deutschlandweit - Wi...   \n",
              "3      Die globale EY-Organisation* ist einer der Mar...   \n",
              "4      Idealerweise über drei Jahre praktische Erfahr...   \n",
              "...                                                  ...   \n",
              "23477  Sie haben eine kaufmännische bzw. technische A...   \n",
              "23478  Die Deutsche Bahn ist nicht nur einer der wich...   \n",
              "23479  Standort: Heilbad Heiligenstadt (37308), Thüri...   \n",
              "23480  Für unseren Geschäftsbereich Verteidigung & Si...   \n",
              "23481  Die Deutsche Bahn ist nicht nur einer der wich...   \n",
              "\n",
              "                                                 company  \\\n",
              "0                              NTT DATA Deutschland GmbH   \n",
              "1                              NTT DATA Deutschland GmbH   \n",
              "2                              NTT DATA Deutschland GmbH   \n",
              "3      Ernst & Young GmbH Wirtschaftsprüfungsgesellsc...   \n",
              "4                              NTT DATA Deutschland GmbH   \n",
              "...                                                  ...   \n",
              "23477                                 Rala GmbH & Co. KG   \n",
              "23478                                   Deutsche Bahn AG   \n",
              "23479                                              Magna   \n",
              "23480   IABG Industrieanlagen - Betriebsgesellschaft mbH   \n",
              "23481                                   Deutsche Bahn AG   \n",
              "\n",
              "                                                location  \\\n",
              "0                                        deutschlandweit   \n",
              "1      Frankfurt a.M., Köln, München, Stuttgart, deut...   \n",
              "2                                        deutschlandweit   \n",
              "3                                        Deutschlandweit   \n",
              "4         Frankfurt a.M., Köln, München, deutschlandweit   \n",
              "...                                                  ...   \n",
              "23477                                       Ludwigshafen   \n",
              "23478                                             Berlin   \n",
              "23479                              Heilbad Heiligenstadt   \n",
              "23480                     Ottobrunn bei München, Koblenz   \n",
              "23481                                          Stuttgart   \n",
              "\n",
              "                                                job_full  \n",
              "0      Senior Testmanager/Qualitätsmanager (m/w) Shif...  \n",
              "1      Junior Java Entwickler (m/w) in spannenden Ent...  \n",
              "2      (Senior)Technical Consultant (m/w) Testautomat...  \n",
              "3      Einsteiger (w/m) Digitalisierung und Data Anal...  \n",
              "4      Projektmanager / Managing Consultant (m/w) Cus...  \n",
              "...                                                  ...  \n",
              "23477  Technischer Fachberater (m/w) im Innendienst S...  \n",
              "23478  Wirtschaftsingenieur als Referent im Vertrieb ...  \n",
              "23479  IT Fachkraft m/w Standort: Heilbad Heiligensta...  \n",
              "23480  (Junior) Projektingenieur Sensorik und Kommuni...  \n",
              "23481  Bauingenieur Konstruktiver Ingenieurbau (w/m) ...  \n",
              "\n",
              "[23482 rows x 5 columns]"
            ],
            "text/html": [
              "\n",
              "  <div id=\"df-0e416fa0-1520-4873-8ccd-8a7d9e3a7fdb\">\n",
              "    <div class=\"colab-df-container\">\n",
              "      <div>\n",
              "<style scoped>\n",
              "    .dataframe tbody tr th:only-of-type {\n",
              "        vertical-align: middle;\n",
              "    }\n",
              "\n",
              "    .dataframe tbody tr th {\n",
              "        vertical-align: top;\n",
              "    }\n",
              "\n",
              "    .dataframe thead th {\n",
              "        text-align: right;\n",
              "    }\n",
              "</style>\n",
              "<table border=\"1\" class=\"dataframe\">\n",
              "  <thead>\n",
              "    <tr style=\"text-align: right;\">\n",
              "      <th></th>\n",
              "      <th>job_title</th>\n",
              "      <th>full_description</th>\n",
              "      <th>company</th>\n",
              "      <th>location</th>\n",
              "      <th>job_full</th>\n",
              "    </tr>\n",
              "  </thead>\n",
              "  <tbody>\n",
              "    <tr>\n",
              "      <th>0</th>\n",
              "      <td>Senior Testmanager/Qualitätsmanager (m/w) Shif...</td>\n",
              "      <td>Zum weiteren Ausbau unseres Teams, suchen wir ...</td>\n",
              "      <td>NTT DATA Deutschland GmbH</td>\n",
              "      <td>deutschlandweit</td>\n",
              "      <td>Senior Testmanager/Qualitätsmanager (m/w) Shif...</td>\n",
              "    </tr>\n",
              "    <tr>\n",
              "      <th>1</th>\n",
              "      <td>Junior Java Entwickler (m/w) in spannenden Ent...</td>\n",
              "      <td>Erfahrungen im Umgang mit objektorientierten P...</td>\n",
              "      <td>NTT DATA Deutschland GmbH</td>\n",
              "      <td>Frankfurt a.M., Köln, München, Stuttgart, deut...</td>\n",
              "      <td>Junior Java Entwickler (m/w) in spannenden Ent...</td>\n",
              "    </tr>\n",
              "    <tr>\n",
              "      <th>2</th>\n",
              "      <td>(Senior)Technical Consultant (m/w) Testautomat...</td>\n",
              "      <td>DBS-8346-SR - Einsatzort: deutschlandweit - Wi...</td>\n",
              "      <td>NTT DATA Deutschland GmbH</td>\n",
              "      <td>deutschlandweit</td>\n",
              "      <td>(Senior)Technical Consultant (m/w) Testautomat...</td>\n",
              "    </tr>\n",
              "    <tr>\n",
              "      <th>3</th>\n",
              "      <td>Einsteiger (w/m) Digitalisierung und Data Anal...</td>\n",
              "      <td>Die globale EY-Organisation* ist einer der Mar...</td>\n",
              "      <td>Ernst &amp; Young GmbH Wirtschaftsprüfungsgesellsc...</td>\n",
              "      <td>Deutschlandweit</td>\n",
              "      <td>Einsteiger (w/m) Digitalisierung und Data Anal...</td>\n",
              "    </tr>\n",
              "    <tr>\n",
              "      <th>4</th>\n",
              "      <td>Projektmanager / Managing Consultant (m/w) Cus...</td>\n",
              "      <td>Idealerweise über drei Jahre praktische Erfahr...</td>\n",
              "      <td>NTT DATA Deutschland GmbH</td>\n",
              "      <td>Frankfurt a.M., Köln, München, deutschlandweit</td>\n",
              "      <td>Projektmanager / Managing Consultant (m/w) Cus...</td>\n",
              "    </tr>\n",
              "    <tr>\n",
              "      <th>...</th>\n",
              "      <td>...</td>\n",
              "      <td>...</td>\n",
              "      <td>...</td>\n",
              "      <td>...</td>\n",
              "      <td>...</td>\n",
              "    </tr>\n",
              "    <tr>\n",
              "      <th>23477</th>\n",
              "      <td>Technischer Fachberater (m/w) im Innendienst</td>\n",
              "      <td>Sie haben eine kaufmännische bzw. technische A...</td>\n",
              "      <td>Rala GmbH &amp; Co. KG</td>\n",
              "      <td>Ludwigshafen</td>\n",
              "      <td>Technischer Fachberater (m/w) im Innendienst S...</td>\n",
              "    </tr>\n",
              "    <tr>\n",
              "      <th>23478</th>\n",
              "      <td>Wirtschaftsingenieur als Referent im Vertrieb ...</td>\n",
              "      <td>Die Deutsche Bahn ist nicht nur einer der wich...</td>\n",
              "      <td>Deutsche Bahn AG</td>\n",
              "      <td>Berlin</td>\n",
              "      <td>Wirtschaftsingenieur als Referent im Vertrieb ...</td>\n",
              "    </tr>\n",
              "    <tr>\n",
              "      <th>23479</th>\n",
              "      <td>IT Fachkraft m/w</td>\n",
              "      <td>Standort: Heilbad Heiligenstadt (37308), Thüri...</td>\n",
              "      <td>Magna</td>\n",
              "      <td>Heilbad Heiligenstadt</td>\n",
              "      <td>IT Fachkraft m/w Standort: Heilbad Heiligensta...</td>\n",
              "    </tr>\n",
              "    <tr>\n",
              "      <th>23480</th>\n",
              "      <td>(Junior) Projektingenieur Sensorik und Kommuni...</td>\n",
              "      <td>Für unseren Geschäftsbereich Verteidigung &amp; Si...</td>\n",
              "      <td>IABG Industrieanlagen - Betriebsgesellschaft mbH</td>\n",
              "      <td>Ottobrunn bei München, Koblenz</td>\n",
              "      <td>(Junior) Projektingenieur Sensorik und Kommuni...</td>\n",
              "    </tr>\n",
              "    <tr>\n",
              "      <th>23481</th>\n",
              "      <td>Bauingenieur Konstruktiver Ingenieurbau (w/m)</td>\n",
              "      <td>Die Deutsche Bahn ist nicht nur einer der wich...</td>\n",
              "      <td>Deutsche Bahn AG</td>\n",
              "      <td>Stuttgart</td>\n",
              "      <td>Bauingenieur Konstruktiver Ingenieurbau (w/m) ...</td>\n",
              "    </tr>\n",
              "  </tbody>\n",
              "</table>\n",
              "<p>23482 rows × 5 columns</p>\n",
              "</div>\n",
              "      <button class=\"colab-df-convert\" onclick=\"convertToInteractive('df-0e416fa0-1520-4873-8ccd-8a7d9e3a7fdb')\"\n",
              "              title=\"Convert this dataframe to an interactive table.\"\n",
              "              style=\"display:none;\">\n",
              "        \n",
              "  <svg xmlns=\"http://www.w3.org/2000/svg\" height=\"24px\"viewBox=\"0 0 24 24\"\n",
              "       width=\"24px\">\n",
              "    <path d=\"M0 0h24v24H0V0z\" fill=\"none\"/>\n",
              "    <path d=\"M18.56 5.44l.94 2.06.94-2.06 2.06-.94-2.06-.94-.94-2.06-.94 2.06-2.06.94zm-11 1L8.5 8.5l.94-2.06 2.06-.94-2.06-.94L8.5 2.5l-.94 2.06-2.06.94zm10 10l.94 2.06.94-2.06 2.06-.94-2.06-.94-.94-2.06-.94 2.06-2.06.94z\"/><path d=\"M17.41 7.96l-1.37-1.37c-.4-.4-.92-.59-1.43-.59-.52 0-1.04.2-1.43.59L10.3 9.45l-7.72 7.72c-.78.78-.78 2.05 0 2.83L4 21.41c.39.39.9.59 1.41.59.51 0 1.02-.2 1.41-.59l7.78-7.78 2.81-2.81c.8-.78.8-2.07 0-2.86zM5.41 20L4 18.59l7.72-7.72 1.47 1.35L5.41 20z\"/>\n",
              "  </svg>\n",
              "      </button>\n",
              "      \n",
              "  <style>\n",
              "    .colab-df-container {\n",
              "      display:flex;\n",
              "      flex-wrap:wrap;\n",
              "      gap: 12px;\n",
              "    }\n",
              "\n",
              "    .colab-df-convert {\n",
              "      background-color: #E8F0FE;\n",
              "      border: none;\n",
              "      border-radius: 50%;\n",
              "      cursor: pointer;\n",
              "      display: none;\n",
              "      fill: #1967D2;\n",
              "      height: 32px;\n",
              "      padding: 0 0 0 0;\n",
              "      width: 32px;\n",
              "    }\n",
              "\n",
              "    .colab-df-convert:hover {\n",
              "      background-color: #E2EBFA;\n",
              "      box-shadow: 0px 1px 2px rgba(60, 64, 67, 0.3), 0px 1px 3px 1px rgba(60, 64, 67, 0.15);\n",
              "      fill: #174EA6;\n",
              "    }\n",
              "\n",
              "    [theme=dark] .colab-df-convert {\n",
              "      background-color: #3B4455;\n",
              "      fill: #D2E3FC;\n",
              "    }\n",
              "\n",
              "    [theme=dark] .colab-df-convert:hover {\n",
              "      background-color: #434B5C;\n",
              "      box-shadow: 0px 1px 3px 1px rgba(0, 0, 0, 0.15);\n",
              "      filter: drop-shadow(0px 1px 2px rgba(0, 0, 0, 0.3));\n",
              "      fill: #FFFFFF;\n",
              "    }\n",
              "  </style>\n",
              "\n",
              "      <script>\n",
              "        const buttonEl =\n",
              "          document.querySelector('#df-0e416fa0-1520-4873-8ccd-8a7d9e3a7fdb button.colab-df-convert');\n",
              "        buttonEl.style.display =\n",
              "          google.colab.kernel.accessAllowed ? 'block' : 'none';\n",
              "\n",
              "        async function convertToInteractive(key) {\n",
              "          const element = document.querySelector('#df-0e416fa0-1520-4873-8ccd-8a7d9e3a7fdb');\n",
              "          const dataTable =\n",
              "            await google.colab.kernel.invokeFunction('convertToInteractive',\n",
              "                                                     [key], {});\n",
              "          if (!dataTable) return;\n",
              "\n",
              "          const docLinkHtml = 'Like what you see? Visit the ' +\n",
              "            '<a target=\"_blank\" href=https://colab.research.google.com/notebooks/data_table.ipynb>data table notebook</a>'\n",
              "            + ' to learn more about interactive tables.';\n",
              "          element.innerHTML = '';\n",
              "          dataTable['output_type'] = 'display_data';\n",
              "          await google.colab.output.renderOutput(dataTable, element);\n",
              "          const docLink = document.createElement('div');\n",
              "          docLink.innerHTML = docLinkHtml;\n",
              "          element.appendChild(docLink);\n",
              "        }\n",
              "      </script>\n",
              "    </div>\n",
              "  </div>\n",
              "  "
            ]
          },
          "metadata": {},
          "execution_count": 54
        }
      ]
    },
    {
      "cell_type": "markdown",
      "metadata": {
        "id": "aF8NZ28BOfr8"
      },
      "source": [
        "## Data Preprocessing"
      ]
    },
    {
      "cell_type": "code",
      "execution_count": 55,
      "metadata": {
        "id": "QflEv75EVdzj"
      },
      "outputs": [],
      "source": [
        "import re  # For preprocessing\n",
        "import pandas as pd  # For data handling\n",
        "from time import time  # To time our operations\n",
        "from collections import defaultdict  # For word frequency\n",
        "\n",
        "import spacy  # For preprocessing\n",
        "\n",
        "import logging  # Setting up the loggings to monitor gensim\n",
        "logging.basicConfig(format=\"%(levelname)s - %(asctime)s: %(message)s\", datefmt= '%H:%M:%S', level=logging.INFO)"
      ]
    },
    {
      "cell_type": "markdown",
      "metadata": {
        "id": "OS09pv2PPe2L"
      },
      "source": [
        "We are lemmatizing and removing the stopwords and non-alphabetic characters for each line of dialogue."
      ]
    },
    {
      "cell_type": "code",
      "execution_count": 56,
      "metadata": {
        "colab": {
          "base_uri": "https://localhost:8080/"
        },
        "id": "MOXLhKB6XxR5",
        "outputId": "98c45263-bc5f-4676-8dfc-d62a3a627095"
      },
      "outputs": [
        {
          "output_type": "stream",
          "name": "stdout",
          "text": [
            "\u001b[38;5;2m✔ Download and installation successful\u001b[0m\n",
            "You can now load the package via spacy.load('de_core_news_sm')\n",
            "\u001b[38;5;2m✔ Download and installation successful\u001b[0m\n",
            "You can now load the package via spacy.load('en_core_web_sm')\n",
            "Die ganze Stadt ist ein Startup: Shenzhen ist das Silicon Valley für Hardware-Firmen\n",
            "Die VERB ROOT\n",
            "ganze NOUN compound\n",
            "Stadt PROPN dobj\n",
            "ist ADP dobj\n",
            "ein PROPN compound\n",
            "Startup PROPN dobj\n",
            ": PUNCT punct\n",
            "Shenzhen PROPN nsubj\n",
            "ist VERB nmod\n",
            "das PROPN compound\n",
            "Silicon PROPN compound\n",
            "Valley PROPN dobj\n",
            "für NOUN compound\n",
            "Hardware PROPN compound\n",
            "- PUNCT punct\n",
            "Firmen PROPN nsubj\n"
          ]
        }
      ],
      "source": [
        "# https://spacy.io/models/de\n",
        "from spacy.lang.de.examples import sentences \n",
        "import spacy.cli\n",
        "spacy.cli.download(\"de_core_news_sm\")\n",
        "spacy.cli.download(\"en_core_web_sm\")\n",
        "nlp = spacy.load(\"en_core_web_sm\")\n",
        "\n",
        "\n",
        "## just some example code to understand what sentences does\n",
        "doc = nlp(sentences[0])\n",
        "print(doc.text)\n",
        "for token in doc:\n",
        "    print(token.text, token.pos_, token.dep_)"
      ]
    },
    {
      "cell_type": "markdown",
      "metadata": {
        "id": "XXO7pcJ6xVBQ"
      },
      "source": [
        "Lemmatizes and removes stop words: "
      ]
    },
    {
      "cell_type": "code",
      "execution_count": 57,
      "metadata": {
        "id": "6y5nXW1GQe_9"
      },
      "outputs": [],
      "source": [
        "def cleaning(doc):\n",
        "    # Lemmatizes and removes stopwords\n",
        "    # doc needs to be a spacy Doc object\n",
        "    txt = [token.lemma_ for token in doc if not token.is_stop]\n",
        "    # Word2Vec uses context words to learn the vector representation of a target word,\n",
        "    # if a sentence is only one or two words long,\n",
        "    # the benefit for the training is very small\n",
        "    if len(txt) > 2:\n",
        "        return ' '.join(txt)"
      ]
    },
    {
      "cell_type": "markdown",
      "metadata": {
        "id": "0nraY7cQQnpY"
      },
      "source": [
        "Removes non-alphabetic characters ans makes every word written with lower capitals: "
      ]
    },
    {
      "cell_type": "code",
      "source": [
        "brief_cleaning = (re.sub(\"[^A-Za-z']+\", ' ', str(row)).lower() for row in df['job_full'])"
      ],
      "metadata": {
        "id": "F5__yYNLVOWB"
      },
      "execution_count": 58,
      "outputs": []
    },
    {
      "cell_type": "markdown",
      "metadata": {
        "id": "OIcKKX3aRFc6"
      },
      "source": [
        "Taking advantage of spaCy .pipe() attribute to speed-up the cleaning process and applies the cleaning function as well as the variable brief_cleaning:"
      ]
    },
    {
      "cell_type": "code",
      "execution_count": 59,
      "metadata": {
        "colab": {
          "base_uri": "https://localhost:8080/"
        },
        "id": "cQED_lR3RKl1",
        "outputId": "99d2d673-2dc6-4faf-e386-9b7cee5cc606"
      },
      "outputs": [
        {
          "output_type": "stream",
          "name": "stdout",
          "text": [
            "Time to clean up everything: 1.9 mins\n"
          ]
        }
      ],
      "source": [
        "t = time()\n",
        "\n",
        "txt = [cleaning(doc) for doc in nlp.pipe(brief_cleaning, batch_size=5000)]\n",
        "\n",
        "print('Time to clean up everything: {} mins'.format(round((time() - t) / 60, 2)))"
      ]
    },
    {
      "cell_type": "markdown",
      "metadata": {
        "id": "nFyhjbEDYZ3W"
      },
      "source": [
        "Put the results in a DataFrame to remove missing values and duplicates:"
      ]
    },
    {
      "cell_type": "code",
      "execution_count": 60,
      "metadata": {
        "colab": {
          "base_uri": "https://localhost:8080/"
        },
        "id": "gJ09GnDyYazx",
        "outputId": "05e07a24-9dd9-46f1-f71d-7fdf0f7d8ee0"
      },
      "outputs": [
        {
          "output_type": "execute_result",
          "data": {
            "text/plain": [
              "(23150, 1)"
            ]
          },
          "metadata": {},
          "execution_count": 60
        }
      ],
      "source": [
        "df_clean = pd.DataFrame({'clean': txt}) \n",
        "df_clean = df_clean.dropna().drop_duplicates()\n",
        "df_clean.shape"
      ]
    },
    {
      "cell_type": "code",
      "execution_count": 61,
      "metadata": {
        "colab": {
          "base_uri": "https://localhost:8080/",
          "height": 531
        },
        "id": "qYdEeCYNe9Ob",
        "outputId": "1bc66135-f8d6-4eba-9d7c-309612405656"
      },
      "outputs": [
        {
          "output_type": "execute_result",
          "data": {
            "text/plain": [
              "                                               clean\n",
              "0  senior testmanager qualit tsmanager m w shift ...\n",
              "1  junior java entwickler m w spannenden enterpri...\n",
              "2    senior technical consultant m w testautomati...\n",
              "3  einsteiger w m digitalisierung und data analyt...\n",
              "4  projektmanager manage consultant m w customer ..."
            ],
            "text/html": [
              "\n",
              "  <div id=\"df-5a80bf5a-2a17-4347-b04b-bbbd3c47f28f\">\n",
              "    <div class=\"colab-df-container\">\n",
              "      <div>\n",
              "<style scoped>\n",
              "    .dataframe tbody tr th:only-of-type {\n",
              "        vertical-align: middle;\n",
              "    }\n",
              "\n",
              "    .dataframe tbody tr th {\n",
              "        vertical-align: top;\n",
              "    }\n",
              "\n",
              "    .dataframe thead th {\n",
              "        text-align: right;\n",
              "    }\n",
              "</style>\n",
              "<table border=\"1\" class=\"dataframe\">\n",
              "  <thead>\n",
              "    <tr style=\"text-align: right;\">\n",
              "      <th></th>\n",
              "      <th>clean</th>\n",
              "    </tr>\n",
              "  </thead>\n",
              "  <tbody>\n",
              "    <tr>\n",
              "      <th>0</th>\n",
              "      <td>senior testmanager qualit tsmanager m w shift ...</td>\n",
              "    </tr>\n",
              "    <tr>\n",
              "      <th>1</th>\n",
              "      <td>junior java entwickler m w spannenden enterpri...</td>\n",
              "    </tr>\n",
              "    <tr>\n",
              "      <th>2</th>\n",
              "      <td>senior technical consultant m w testautomati...</td>\n",
              "    </tr>\n",
              "    <tr>\n",
              "      <th>3</th>\n",
              "      <td>einsteiger w m digitalisierung und data analyt...</td>\n",
              "    </tr>\n",
              "    <tr>\n",
              "      <th>4</th>\n",
              "      <td>projektmanager manage consultant m w customer ...</td>\n",
              "    </tr>\n",
              "  </tbody>\n",
              "</table>\n",
              "</div>\n",
              "      <button class=\"colab-df-convert\" onclick=\"convertToInteractive('df-5a80bf5a-2a17-4347-b04b-bbbd3c47f28f')\"\n",
              "              title=\"Convert this dataframe to an interactive table.\"\n",
              "              style=\"display:none;\">\n",
              "        \n",
              "  <svg xmlns=\"http://www.w3.org/2000/svg\" height=\"24px\"viewBox=\"0 0 24 24\"\n",
              "       width=\"24px\">\n",
              "    <path d=\"M0 0h24v24H0V0z\" fill=\"none\"/>\n",
              "    <path d=\"M18.56 5.44l.94 2.06.94-2.06 2.06-.94-2.06-.94-.94-2.06-.94 2.06-2.06.94zm-11 1L8.5 8.5l.94-2.06 2.06-.94-2.06-.94L8.5 2.5l-.94 2.06-2.06.94zm10 10l.94 2.06.94-2.06 2.06-.94-2.06-.94-.94-2.06-.94 2.06-2.06.94z\"/><path d=\"M17.41 7.96l-1.37-1.37c-.4-.4-.92-.59-1.43-.59-.52 0-1.04.2-1.43.59L10.3 9.45l-7.72 7.72c-.78.78-.78 2.05 0 2.83L4 21.41c.39.39.9.59 1.41.59.51 0 1.02-.2 1.41-.59l7.78-7.78 2.81-2.81c.8-.78.8-2.07 0-2.86zM5.41 20L4 18.59l7.72-7.72 1.47 1.35L5.41 20z\"/>\n",
              "  </svg>\n",
              "      </button>\n",
              "      \n",
              "  <style>\n",
              "    .colab-df-container {\n",
              "      display:flex;\n",
              "      flex-wrap:wrap;\n",
              "      gap: 12px;\n",
              "    }\n",
              "\n",
              "    .colab-df-convert {\n",
              "      background-color: #E8F0FE;\n",
              "      border: none;\n",
              "      border-radius: 50%;\n",
              "      cursor: pointer;\n",
              "      display: none;\n",
              "      fill: #1967D2;\n",
              "      height: 32px;\n",
              "      padding: 0 0 0 0;\n",
              "      width: 32px;\n",
              "    }\n",
              "\n",
              "    .colab-df-convert:hover {\n",
              "      background-color: #E2EBFA;\n",
              "      box-shadow: 0px 1px 2px rgba(60, 64, 67, 0.3), 0px 1px 3px 1px rgba(60, 64, 67, 0.15);\n",
              "      fill: #174EA6;\n",
              "    }\n",
              "\n",
              "    [theme=dark] .colab-df-convert {\n",
              "      background-color: #3B4455;\n",
              "      fill: #D2E3FC;\n",
              "    }\n",
              "\n",
              "    [theme=dark] .colab-df-convert:hover {\n",
              "      background-color: #434B5C;\n",
              "      box-shadow: 0px 1px 3px 1px rgba(0, 0, 0, 0.15);\n",
              "      filter: drop-shadow(0px 1px 2px rgba(0, 0, 0, 0.3));\n",
              "      fill: #FFFFFF;\n",
              "    }\n",
              "  </style>\n",
              "\n",
              "      <script>\n",
              "        const buttonEl =\n",
              "          document.querySelector('#df-5a80bf5a-2a17-4347-b04b-bbbd3c47f28f button.colab-df-convert');\n",
              "        buttonEl.style.display =\n",
              "          google.colab.kernel.accessAllowed ? 'block' : 'none';\n",
              "\n",
              "        async function convertToInteractive(key) {\n",
              "          const element = document.querySelector('#df-5a80bf5a-2a17-4347-b04b-bbbd3c47f28f');\n",
              "          const dataTable =\n",
              "            await google.colab.kernel.invokeFunction('convertToInteractive',\n",
              "                                                     [key], {});\n",
              "          if (!dataTable) return;\n",
              "\n",
              "          const docLinkHtml = 'Like what you see? Visit the ' +\n",
              "            '<a target=\"_blank\" href=https://colab.research.google.com/notebooks/data_table.ipynb>data table notebook</a>'\n",
              "            + ' to learn more about interactive tables.';\n",
              "          element.innerHTML = '';\n",
              "          dataTable['output_type'] = 'display_data';\n",
              "          await google.colab.output.renderOutput(dataTable, element);\n",
              "          const docLink = document.createElement('div');\n",
              "          docLink.innerHTML = docLinkHtml;\n",
              "          element.appendChild(docLink);\n",
              "        }\n",
              "      </script>\n",
              "    </div>\n",
              "  </div>\n",
              "  "
            ]
          },
          "metadata": {},
          "execution_count": 61
        }
      ],
      "source": [
        "df_clean.head()"
      ]
    },
    {
      "cell_type": "markdown",
      "metadata": {
        "id": "AzFvJzuO0foI"
      },
      "source": [
        "Adding Bigrams: "
      ]
    },
    {
      "cell_type": "code",
      "execution_count": 62,
      "metadata": {
        "id": "wAxerE3QmBw0"
      },
      "outputs": [],
      "source": [
        "from gensim.models.phrases import Phrases, Phraser\n",
        "sent = [row.split() for row in df_clean['clean']]"
      ]
    },
    {
      "cell_type": "code",
      "execution_count": 63,
      "metadata": {
        "id": "Ya2gvBpzmLu7"
      },
      "outputs": [],
      "source": [
        "phrases = Phrases(sent, min_count=20, progress_per=10000)"
      ]
    },
    {
      "cell_type": "code",
      "execution_count": 64,
      "metadata": {
        "id": "eYHEdn11mbzX"
      },
      "outputs": [],
      "source": [
        "bigram = Phraser(phrases)"
      ]
    },
    {
      "cell_type": "code",
      "execution_count": 65,
      "metadata": {
        "id": "6X9mMKM8mPQa"
      },
      "outputs": [],
      "source": [
        "sentences = bigram[sent]"
      ]
    },
    {
      "cell_type": "code",
      "execution_count": 66,
      "metadata": {
        "colab": {
          "base_uri": "https://localhost:8080/"
        },
        "id": "cfcUL5kumupT",
        "outputId": "75d3cdb8-e9e7-42ee-a349-f4aa85931055"
      },
      "outputs": [
        {
          "output_type": "execute_result",
          "data": {
            "text/plain": [
              "31846"
            ]
          },
          "metadata": {},
          "execution_count": 66
        }
      ],
      "source": [
        "word_freq = defaultdict(int)\n",
        "for sent in sentences:\n",
        "    for i in sent:\n",
        "        word_freq[i] += 1\n",
        "len(word_freq)"
      ]
    },
    {
      "cell_type": "code",
      "execution_count": 67,
      "metadata": {
        "colab": {
          "base_uri": "https://localhost:8080/"
        },
        "id": "xFo1ONsDm9id",
        "outputId": "bbced76a-2606-43ee-9ae8-a0abde42684e"
      },
      "outputs": [
        {
          "output_type": "execute_result",
          "data": {
            "text/plain": [
              "['m', 'w', 'und', 'f_r', 'der', 'die', 'sie', 'al', 'mit', 'wir']"
            ]
          },
          "metadata": {},
          "execution_count": 67
        }
      ],
      "source": [
        "sorted(word_freq, key=word_freq.get, reverse=True)[:10]"
      ]
    },
    {
      "cell_type": "code",
      "execution_count": 68,
      "metadata": {
        "id": "PyYAu-aztHsB"
      },
      "outputs": [],
      "source": [
        "# Data Science terms list\n",
        "data_scientist = ['python', 'r', 'sql', 'hadoop', 'spark', 'java', 'tableau', 'analytics'\n",
        "              'scala', 'aws', 'c', 'c++', 'matlab', 'tensorflow',\n",
        "              'nosql', 'scikit', 'machine learning', 'statistic',\n",
        "              'analysis', 'computer science', 'ai', 'deep learning',\n",
        "              'nlp', 'natural language processing', 'neural network', 'mathematic',\n",
        "              'database', 'jquery', 'git', 'json',\n",
        "              'java', 'api', 'analytic', 'empathy', 'collaborate', 'test']"
      ]
    },
    {
      "cell_type": "markdown",
      "metadata": {
        "id": "dWkeRlHJEe88"
      },
      "source": [
        "## Model training\n",
        "Gensim Word2Vec Implementation"
      ]
    },
    {
      "cell_type": "code",
      "execution_count": 69,
      "metadata": {
        "id": "NIQrpESfEGZb"
      },
      "outputs": [],
      "source": [
        "import multiprocessing\n",
        "from gensim.models import Word2Vec"
      ]
    },
    {
      "cell_type": "code",
      "execution_count": 70,
      "metadata": {
        "id": "wztp4ePDEm7g"
      },
      "outputs": [],
      "source": [
        "cores = multiprocessing.cpu_count()"
      ]
    },
    {
      "cell_type": "code",
      "execution_count": 71,
      "metadata": {
        "id": "pygXOrptEqia"
      },
      "outputs": [],
      "source": [
        "w2v_model = Word2Vec(min_count=20,\n",
        "                     window=5,\n",
        "                     size=300,\n",
        "                     sample=6e-5, \n",
        "                     alpha=0.03, \n",
        "                     min_alpha=0.0007, \n",
        "                     negative=20,\n",
        "                     workers=cores-1,\n",
        "                     sg=1)"
      ]
    },
    {
      "cell_type": "markdown",
      "metadata": {
        "id": "emRBI9pZEu9p"
      },
      "source": [
        "###Build the Vocabulary Table"
      ]
    },
    {
      "cell_type": "code",
      "execution_count": 72,
      "metadata": {
        "colab": {
          "base_uri": "https://localhost:8080/"
        },
        "id": "mKjinOvBEyE1",
        "outputId": "9ba800ac-f8f7-45e1-c30d-065e099ab447"
      },
      "outputs": [
        {
          "output_type": "stream",
          "name": "stdout",
          "text": [
            "Time to build vocab: 0.1 mins\n"
          ]
        }
      ],
      "source": [
        "t = time()\n",
        "\n",
        "w2v_model.build_vocab(sentences, progress_per=10000)\n",
        "\n",
        "print('Time to build vocab: {} mins'.format(round((time() - t) / 60, 2)))"
      ]
    },
    {
      "cell_type": "code",
      "execution_count": 73,
      "metadata": {
        "colab": {
          "base_uri": "https://localhost:8080/"
        },
        "id": "-L0L8fm-JzX2",
        "outputId": "28a491dc-830e-4290-feff-a5278c4f1e0f"
      },
      "outputs": [
        {
          "output_type": "stream",
          "name": "stdout",
          "text": [
            "Time to train the model: 3.66 mins\n"
          ]
        }
      ],
      "source": [
        "t = time()\n",
        "\n",
        "w2v_model.train(sentences, total_examples=w2v_model.corpus_count, epochs=30, report_delay=1)\n",
        "\n",
        "print('Time to train the model: {} mins'.format(round((time() - t) / 60, 2)))\n",
        "\n"
      ]
    },
    {
      "cell_type": "code",
      "execution_count": 74,
      "metadata": {
        "id": "AJBuJrRuE5y_"
      },
      "outputs": [],
      "source": [
        "w2v_model.init_sims(replace=True)"
      ]
    },
    {
      "cell_type": "markdown",
      "metadata": {
        "id": "JZUu4S5JE9BQ"
      },
      "source": [
        "## Explore the model\n",
        "(Most similar)"
      ]
    },
    {
      "cell_type": "code",
      "source": [
        "w2v_model.wv.vocab[\"data_scientist\"].count"
      ],
      "metadata": {
        "colab": {
          "base_uri": "https://localhost:8080/"
        },
        "id": "O9pCchEdSfA7",
        "outputId": "270bb131-99ec-4e7c-fe43-73a154db8541"
      },
      "execution_count": 75,
      "outputs": [
        {
          "output_type": "execute_result",
          "data": {
            "text/plain": [
              "175"
            ]
          },
          "metadata": {},
          "execution_count": 75
        }
      ]
    },
    {
      "cell_type": "code",
      "source": [
        "w2v_model.wv.vocab[\"data_science\"].count"
      ],
      "metadata": {
        "colab": {
          "base_uri": "https://localhost:8080/"
        },
        "id": "UWEvdPbpTP2X",
        "outputId": "94e000b1-8066-40e7-fb02-4dfb386cd6b2"
      },
      "execution_count": 76,
      "outputs": [
        {
          "output_type": "execute_result",
          "data": {
            "text/plain": [
              "65"
            ]
          },
          "metadata": {},
          "execution_count": 76
        }
      ]
    },
    {
      "cell_type": "code",
      "execution_count": 77,
      "metadata": {
        "colab": {
          "base_uri": "https://localhost:8080/"
        },
        "id": "Bk-X5gqIFA5G",
        "outputId": "3f420539-4276-4270-f966-3a6c3d84f1f0"
      },
      "outputs": [
        {
          "output_type": "execute_result",
          "data": {
            "text/plain": [
              "[('machine_learn', 0.5100241899490356),\n",
              " ('machine_learning', 0.4848126471042633),\n",
              " ('data_mining', 0.4574088156223297),\n",
              " ('predictive', 0.4458701014518738),\n",
              " ('advanced_analytic', 0.44041937589645386),\n",
              " ('artificial_intelligence', 0.43924230337142944),\n",
              " ('ai', 0.43367713689804077),\n",
              " ('datum_analytic', 0.42163002490997314),\n",
              " ('analytic', 0.4211355149745941),\n",
              " ('statistik', 0.4124349057674408)]"
            ]
          },
          "metadata": {},
          "execution_count": 77
        }
      ],
      "source": [
        "w2v_model.wv.most_similar(positive=[\"data_science\", \"data_scientist\"], topn=10)"
      ]
    },
    {
      "cell_type": "code",
      "execution_count": 78,
      "metadata": {
        "colab": {
          "base_uri": "https://localhost:8080/"
        },
        "id": "YPUud_2qNGH8",
        "outputId": "c8579451-4531-4af6-a63f-2259c5d00f90"
      },
      "outputs": [
        {
          "output_type": "execute_result",
          "data": {
            "text/plain": [
              "[('machine_learn', 0.4820176362991333),\n",
              " ('strong', 0.4796205163002014),\n",
              " ('predictive', 0.4771196246147156),\n",
              " ('machine_learning', 0.47343021631240845),\n",
              " ('renningen', 0.4701824188232422),\n",
              " ('offer', 0.46592289209365845),\n",
              " ('different', 0.46303117275238037),\n",
              " ('advanced_analytic', 0.46221864223480225),\n",
              " ('work_student', 0.46063101291656494),\n",
              " ('use', 0.4588276743888855)]"
            ]
          },
          "metadata": {},
          "execution_count": 78
        }
      ],
      "source": [
        "w2v_model.wv.most_similar(positive=[\"data_science\", \"data_scientist\", \"skill\", \"requirement\"], topn=10)"
      ]
    },
    {
      "cell_type": "code",
      "source": [
        "w2v_model.wv.most_similar(positive=[\"data_analyst\"], topn=10)"
      ],
      "metadata": {
        "colab": {
          "base_uri": "https://localhost:8080/"
        },
        "id": "EZcNTa__057U",
        "outputId": "097f5207-1a83-4455-9594-6985dbf3b2ef"
      },
      "execution_count": 79,
      "outputs": [
        {
          "output_type": "execute_result",
          "data": {
            "text/plain": [
              "[('seo', 0.40279749035835266),\n",
              " ('steuerberatung', 0.38583284616470337),\n",
              " ('advisory_c', 0.3653123080730438),\n",
              " ('analyst', 0.3648855686187744),\n",
              " ('auditor', 0.3600043058395386),\n",
              " ('offshore', 0.35317984223365784),\n",
              " ('datum', 0.34641388058662415),\n",
              " ('controller', 0.34619924426078796),\n",
              " ('datenbanken', 0.33886098861694336),\n",
              " ('statista', 0.3376041650772095)]"
            ]
          },
          "metadata": {},
          "execution_count": 79
        }
      ]
    },
    {
      "cell_type": "markdown",
      "source": [
        "##Visualizations"
      ],
      "metadata": {
        "id": "pdLtG3ZloR2v"
      }
    },
    {
      "cell_type": "code",
      "source": [
        "import numpy as np\n",
        "import matplotlib.pyplot as plt\n",
        "%matplotlib inline\n",
        " \n",
        "import seaborn as sns\n",
        "sns.set_style(\"darkgrid\")\n",
        "\n",
        "from sklearn.decomposition import PCA\n",
        "from sklearn.manifold import TSNE\n",
        "import re \n",
        "import pandas as pd \n",
        "from time import time\n",
        "from collections import defaultdict"
      ],
      "metadata": {
        "id": "yPoRkUfPodM4"
      },
      "execution_count": 80,
      "outputs": []
    },
    {
      "cell_type": "markdown",
      "source": [
        "####To make the visualizations more relevant, we will look at the relationships \n",
        "between a query word (in red), its most similar words in the model (in blue), and other words from the vocabulary (in green)."
      ],
      "metadata": {
        "id": "hhu_C58IoyhV"
      }
    },
    {
      "cell_type": "code",
      "source": [
        "def tsnescatterplot(model, word, list_names):\n",
        "    \"\"\" Plot in seaborn the results from the t-SNE dimensionality reduction algorithm of the vectors of a query word,\n",
        "    its list of most similar words, and a list of words.\n",
        "    \"\"\"\n",
        "    arrays = np.empty((0, 300), dtype='f')\n",
        "    word_labels = [word]\n",
        "    color_list  = ['red']\n",
        "\n",
        "    # adds the vector of the query word\n",
        "    arrays = np.append(arrays, model.wv.__getitem__([word]), axis=0)\n",
        "    \n",
        "    # gets list of most similar words\n",
        "    close_words = model.wv.most_similar([word])\n",
        "    \n",
        "    # adds the vector for each of the closest words to the array\n",
        "    for wrd_score in close_words:\n",
        "        wrd_vector = model.wv.__getitem__([wrd_score[0]])\n",
        "        word_labels.append(wrd_score[0])\n",
        "        color_list.append('blue')\n",
        "        arrays = np.append(arrays, wrd_vector, axis=0)\n",
        "    \n",
        "    # adds the vector for each of the words from list_names to the array\n",
        "    for wrd in list_names:\n",
        "        wrd_vector = model.wv.__getitem__([wrd])\n",
        "        word_labels.append(wrd)\n",
        "        color_list.append('green')\n",
        "        arrays = np.append(arrays, wrd_vector, axis=0)\n",
        "        \n",
        "    # Reduces the dimensionality from 300 to 50 dimensions with PCA\n",
        "    reduc = PCA(n_components=10).fit_transform(arrays)\n",
        "    \n",
        "    # Finds t-SNE coordinates for 2 dimensions\n",
        "    np.set_printoptions(suppress=True)\n",
        "    \n",
        "    Y = TSNE(n_components=2, random_state=0, perplexity=15).fit_transform(reduc)\n",
        "    \n",
        "    # Sets everything up to plot\n",
        "    df = pd.DataFrame({'x': [x for x in Y[:, 0]],\n",
        "                       'y': [y for y in Y[:, 1]],\n",
        "                       'words': word_labels,\n",
        "                       'color': color_list})\n",
        "    \n",
        "    fig, _ = plt.subplots()\n",
        "    fig.set_size_inches(9, 9)\n",
        "    \n",
        "    # Basic plot\n",
        "    p1 = sns.regplot(data=df,\n",
        "                     x=\"x\",\n",
        "                     y=\"y\",\n",
        "                     fit_reg=False,\n",
        "                     marker=\"o\",\n",
        "                     scatter_kws={'s': 40,\n",
        "                                  'facecolors': df['color']\n",
        "                                 }\n",
        "                    )\n",
        "    \n",
        "    # Adds annotations one by one with a loop\n",
        "    for line in range(0, df.shape[0]):\n",
        "         p1.text(df[\"x\"][line],\n",
        "                 df['y'][line],\n",
        "                 '  ' + df[\"words\"][line].title(),\n",
        "                 horizontalalignment='left',\n",
        "                 verticalalignment='bottom', size='medium',\n",
        "                 color=df['color'][line],\n",
        "                 weight='normal'\n",
        "                ).set_size(15)\n",
        "\n",
        "    \n",
        "    plt.xlim(Y[:, 0].min()-50, Y[:, 0].max()+50)\n",
        "    plt.ylim(Y[:, 1].min()-50, Y[:, 1].max()+50)\n",
        "            \n",
        "    plt.title('t-SNE visualization for {}'.format(word.title()))"
      ],
      "metadata": {
        "id": "597ncJdzpPWv"
      },
      "execution_count": 81,
      "outputs": []
    },
    {
      "cell_type": "markdown",
      "source": [
        "10 Most similar words vs. 8 Random words:"
      ],
      "metadata": {
        "id": "bu4hbgiZpf54"
      }
    },
    {
      "cell_type": "code",
      "source": [
        "tsnescatterplot(w2v_model, 'data_scientist', ['predictive', 'offer', 'audit', 'change', 'challenge', 'seek', 'insight', 'strengthen'])"
      ],
      "metadata": {
        "colab": {
          "base_uri": "https://localhost:8080/",
          "height": 638
        },
        "id": "5IeFHtO1KKsj",
        "outputId": "1c5e4d2f-76ae-43e5-8f9d-a703bd7da5b8"
      },
      "execution_count": 82,
      "outputs": [
        {
          "output_type": "stream",
          "name": "stderr",
          "text": [
            "/usr/local/lib/python3.8/dist-packages/sklearn/manifold/_t_sne.py:780: FutureWarning: The default initialization in TSNE will change from 'random' to 'pca' in 1.2.\n",
            "  warnings.warn(\n",
            "/usr/local/lib/python3.8/dist-packages/sklearn/manifold/_t_sne.py:790: FutureWarning: The default learning rate in TSNE will change from 200.0 to 'auto' in 1.2.\n",
            "  warnings.warn(\n"
          ]
        },
        {
          "output_type": "display_data",
          "data": {
            "text/plain": [
              "<Figure size 648x648 with 1 Axes>"
            ],
            "image/png": "[encoded data removed]"
          },
          "metadata": {}
        }
      ]
    },
    {
      "cell_type": "code",
      "source": [
        "tsnescatterplot(w2v_model, \"data_scientist\", [t[0] for t in w2v_model.wv.most_similar(positive=[\"data_analyst\", \"data_analytic\"], topn=10)])\n",
        "\n"
      ],
      "metadata": {
        "colab": {
          "base_uri": "https://localhost:8080/",
          "height": 638
        },
        "id": "efXKU9jc0nXU",
        "outputId": "984ce6bc-fa4f-40a2-f8c3-923afe123b22"
      },
      "execution_count": 83,
      "outputs": [
        {
          "output_type": "stream",
          "name": "stderr",
          "text": [
            "/usr/local/lib/python3.8/dist-packages/sklearn/manifold/_t_sne.py:780: FutureWarning: The default initialization in TSNE will change from 'random' to 'pca' in 1.2.\n",
            "  warnings.warn(\n",
            "/usr/local/lib/python3.8/dist-packages/sklearn/manifold/_t_sne.py:790: FutureWarning: The default learning rate in TSNE will change from 200.0 to 'auto' in 1.2.\n",
            "  warnings.warn(\n"
          ]
        },
        {
          "output_type": "display_data",
          "data": {
            "text/plain": [
              "<Figure size 648x648 with 1 Axes>"
            ],
            "image/png": "[encoded data removed]"
          },
          "metadata": {}
        }
      ]
    },
    {
      "cell_type": "markdown",
      "source": [
        "## Find most wanted skills"
      ],
      "metadata": {
        "id": "XcgdP6nD6SZV"
      }
    },
    {
      "cell_type": "code",
      "source": [
        "# Data Science terms list\n",
        "data_scientist = ['predictive', 'python', 'r', 'sql', 'hadoop', 'spark', 'java', 'tableau', 'analytics'\n",
        "              'scala', 'aws', 'c', 'c++', 'matlab', 'tensorflow', 'deep_learn'\n",
        "              'nosql', 'scikit', 'machine_learning', 'statistic', 'Statistik'\n",
        "              'analysis', 'computer science', 'ai','artificial_intelligence', 'deep learning',\n",
        "              'nlp', 'natural_language_processing', 'neural_network', 'mathematic',\n",
        "              'database', 'jquery', 'git', 'json',\n",
        "              'java', 'api', 'analytic', 'empathy', 'collaborate', 'test', 'predictive', 'data_mining',  'reporting', \n",
        "              'iot', 'computer_vision', \"advanced_analytic\", \"hybris\", \"sap_hybris\", \"machine_learn\", \"ai\", \"artificial_intelligence\", \"advanced_analytic\", \"machine_learning\", \"data_mining\", \"statistik\", \"big_data\",\n",
        "              \"big_datum\", \"autonomous_driving\", \"softwaredeveloper\", \"database\", \"computer_vision\", \"bachelor_science\", \"statistik\", \"sas\" ]"
      ],
      "metadata": {
        "id": "q_1pZ-sZ6xbZ"
      },
      "execution_count": 84,
      "outputs": []
    },
    {
      "cell_type": "code",
      "source": [
        "data_analyst = ['predictive', 'python', 'r', 'sql', 'hadoop', 'spark', 'java', 'tableau', 'analytics'\n",
        "              'scala', 'aws', 'c', 'c++', 'matlab', 'tensorflow', 'deep_learn'\n",
        "              'nosql', 'scikit', 'machine_learning', 'statistic', 'Statistik'\n",
        "              'analysis', 'computer science', 'ai','artificial_intelligence', 'deep learning',\n",
        "              'nlp', 'natural_language_processing', 'neural_network', 'mathematic',\n",
        "              'database', 'jquery', 'git', 'json',\n",
        "              'java', 'api', 'analytic', 'empathy', 'collaborate', 'test', 'predictive', 'data_mining',  'reporting', \n",
        "              'iot', 'computer_vision', \"advanced_analytic\", \"hybris\", \"sap_hybris\", \"machine_learn\", \"ai\", \"artificial_intelligence\", \"advanced_analytic\", \"machine_learning\", \"data_mining\", \"statistik\", \"big_data\",\n",
        "              \"big_datum\", \"autonomous_driving\", \"softwaredeveloper\", \"database\", \"computer_vision\", \"bachelor_science\",\"robotic\"\n",
        "              'java', 'api', 'analytic', 'empathy', 'collaborate', 'test', 'predictive', 'data_mining',  'reporting', \n",
        "              'iot', 'computer_vision', \"advanced_analytic\", \"analysis\", \"report\", \"research\", \"seo\", \"big_datum\", \"digitalen_transformation\", \"html_css\",\"kpmg\", \"big_data\", \"hybris\", \"sap_hybris\", \"busines_intelligence\", \"sas\"]"
      ],
      "metadata": {
        "id": "_nzK5YfUY25p"
      },
      "execution_count": 85,
      "outputs": []
    },
    {
      "cell_type": "code",
      "source": [
        "business_analyst = ['predictive', 'python', 'r', 'sql', 'hadoop', 'spark', 'java', 'tableau', 'analytics'\n",
        "              'scala', 'aws', 'c', 'c++', 'matlab', 'tensorflow', 'deep_learn'\n",
        "              'nosql', 'scikit', 'machine_learning', 'statistic', 'Statistik'\n",
        "              'analysis', 'computer science', 'ai','artificial_intelligence', 'deep learning',\n",
        "              'nlp', 'natural_language_processing', 'neural_network', 'mathematic',\n",
        "              'database', 'jquery', 'git', 'json',\n",
        "              'java', 'api', 'analytic', 'empathy', 'collaborate', 'test', 'predictive', 'data_mining',  'reporting', \n",
        "              'iot', 'computer_vision', \"advanced_analytic\", \"hybris\", \"sap_hybris\", \"machine_learn\", \"ai\", \"artificial_intelligence\", \"advanced_analytic\", \"machine_learning\", \"data_mining\", \"statistik\", \"big_data\",\n",
        "              \"big_datum\", \"autonomous_driving\", \"softwaredeveloper\", \"database\", \"computer_vision\", \"bachelor_science\",\"robotic\"\n",
        "              'java', 'api', 'analytic', 'empathy', 'collaborate', 'test', 'predictive', 'data_mining',  'reporting', \n",
        "              'iot', 'computer_vision', \"advanced_analytic\", \"analysis\", \"report\", \"research\", \"seo\", \"big_datum\", \"digitalen_transformation\", \"html_css\",\"kpmg\", \"big_data\", \"hybris\", \"sap_hybris\", \"busines_intelligence\"\n",
        "              \"datum_warehouse\", \"projekterfahrung\", \"data_warehouse\", \"sap\", \"mm\", \"softwaredeveloper\", \"sap_fi\", \"etl\", \"seo\", \"sap_bw\", \"datum_analytic\", \"hybris\", \"data_analytic\", \"abap_entwickler\", \"scrum_master\", \n",
        "              \"java_jee\", \"scm\", \"nav\", \"warehouse\", \"data_mining\", \"crm\", \"user_experience\", \"sap_hcm\", \"ui\", \"abap\", \"ms_sql\", \"mdm\", \"sas\"]"
      ],
      "metadata": {
        "id": "KeEMdZyneoIA"
      },
      "execution_count": 86,
      "outputs": []
    },
    {
      "cell_type": "code",
      "source": [
        "# Calling DataFrame constructor on list\n",
        "list_most_similar = list(w2v_model.wv.most_similar(positive=[\"data_science\", \"data_scientist\"], topn=200))"
      ],
      "metadata": {
        "id": "_0T4Ergt6u0g"
      },
      "execution_count": 87,
      "outputs": []
    },
    {
      "cell_type": "code",
      "source": [
        "list_most_similar_bi = list(w2v_model.wv.most_similar(positive=[\"business_analyst\", \"business_analysten\", \"business_intelligence\"], topn=200))"
      ],
      "metadata": {
        "id": "sR0F0bBteugv"
      },
      "execution_count": 88,
      "outputs": []
    },
    {
      "cell_type": "code",
      "source": [
        "list_most_similar_analyst = list(w2v_model.wv.most_similar(positive=[\"data_analyst\", \"data_analytic\"], topn=200))"
      ],
      "metadata": {
        "id": "9jCcN9D3cP54"
      },
      "execution_count": 89,
      "outputs": []
    },
    {
      "cell_type": "code",
      "source": [
        "#list_most_similar"
      ],
      "metadata": {
        "id": "M5OpFCQ2Ap_g"
      },
      "execution_count": 90,
      "outputs": []
    },
    {
      "cell_type": "code",
      "source": [
        "skills_datascience = []\n",
        "for item in list_most_similar: \n",
        "  if item[0] in data_scientist: \n",
        "    skills_datascience.append(item)\n",
        "skills_datascience"
      ],
      "metadata": {
        "colab": {
          "base_uri": "https://localhost:8080/"
        },
        "id": "th5aqdUK-3ur",
        "outputId": "6e22c5a3-8db1-4cbd-fb29-ad7da25bc672"
      },
      "execution_count": 91,
      "outputs": [
        {
          "output_type": "execute_result",
          "data": {
            "text/plain": [
              "[('machine_learn', 0.5100241899490356),\n",
              " ('machine_learning', 0.4848126471042633),\n",
              " ('data_mining', 0.4574088156223297),\n",
              " ('predictive', 0.4458701014518738),\n",
              " ('advanced_analytic', 0.44041937589645386),\n",
              " ('artificial_intelligence', 0.43924230337142944),\n",
              " ('ai', 0.43367713689804077),\n",
              " ('analytic', 0.4211355149745941),\n",
              " ('statistik', 0.4124349057674408),\n",
              " ('big_datum', 0.38521942496299744),\n",
              " ('big_data', 0.37807852029800415),\n",
              " ('computer_vision', 0.3160308003425598),\n",
              " ('softwaredeveloper', 0.3098565936088562),\n",
              " ('sas', 0.2871611714363098),\n",
              " ('autonomous_driving', 0.27824532985687256)]"
            ]
          },
          "metadata": {},
          "execution_count": 91
        }
      ]
    },
    {
      "cell_type": "code",
      "source": [
        "skills_analyst = []\n",
        "for item in list_most_similar_analyst: \n",
        "  if item[0] in data_analyst: \n",
        "    skills_analyst.append(item)\n",
        "skills_analyst"
      ],
      "metadata": {
        "colab": {
          "base_uri": "https://localhost:8080/"
        },
        "id": "jzutRkVQdyvF",
        "outputId": "6d71a950-0ed2-42c2-a148-778b30985742"
      },
      "execution_count": 92,
      "outputs": [
        {
          "output_type": "execute_result",
          "data": {
            "text/plain": [
              "[('artificial_intelligence', 0.3946714401245117),\n",
              " ('seo', 0.38925766944885254),\n",
              " ('statistik', 0.3704591393470764),\n",
              " ('data_mining', 0.3597692847251892),\n",
              " ('analytic', 0.35840481519699097),\n",
              " ('predictive', 0.33929443359375),\n",
              " ('ai', 0.3362046480178833),\n",
              " ('report', 0.3292829990386963),\n",
              " ('big_datum', 0.3181504011154175),\n",
              " ('machine_learn', 0.3084525763988495),\n",
              " ('analysis', 0.30526968836784363),\n",
              " ('advanced_analytic', 0.2898638844490051),\n",
              " ('html_css', 0.2886931896209717),\n",
              " ('reporting', 0.28117287158966064),\n",
              " ('sas', 0.27274471521377563),\n",
              " ('kpmg', 0.2707875072956085),\n",
              " ('computer_vision', 0.2696871757507324),\n",
              " ('machine_learning', 0.26721882820129395)]"
            ]
          },
          "metadata": {},
          "execution_count": 92
        }
      ]
    },
    {
      "cell_type": "code",
      "source": [
        "skills_bi = []\n",
        "for item in list_most_similar_bi: \n",
        "  if item[0] in business_analyst: \n",
        "    skills_bi.append(item)\n",
        "skills_bi"
      ],
      "metadata": {
        "colab": {
          "base_uri": "https://localhost:8080/"
        },
        "id": "9L5RZSewgx4k",
        "outputId": "797705bb-ab53-40d3-8bfd-4bb5546da067"
      },
      "execution_count": 93,
      "outputs": [
        {
          "output_type": "execute_result",
          "data": {
            "text/plain": [
              "[('data_warehouse', 0.46314629912376404),\n",
              " ('analytic', 0.4198673367500305),\n",
              " ('sap', 0.4171947240829468),\n",
              " ('sap_fi', 0.4099135994911194),\n",
              " ('etl', 0.3829312324523926),\n",
              " ('scrum_master', 0.3820503056049347),\n",
              " ('projekterfahrung', 0.38074666261672974),\n",
              " ('datum_analytic', 0.37976717948913574),\n",
              " ('nav', 0.36684271693229675),\n",
              " ('ui', 0.36047905683517456),\n",
              " ('advanced_analytic', 0.3532370328903198),\n",
              " ('mm', 0.3511653542518616),\n",
              " ('softwaredeveloper', 0.3382781147956848),\n",
              " ('java', 0.33767566084861755),\n",
              " ('scm', 0.3362197279930115),\n",
              " ('predictive', 0.3359104096889496),\n",
              " ('big_datum', 0.3346613645553589),\n",
              " ('crm', 0.3334709107875824),\n",
              " ('seo', 0.33345791697502136),\n",
              " ('warehouse', 0.33111876249313354),\n",
              " ('data_mining', 0.3308852016925812),\n",
              " ('hybris', 0.3300750255584717),\n",
              " ('user_experience', 0.32713615894317627),\n",
              " ('report', 0.32513755559921265),\n",
              " ('reporting', 0.3220234513282776),\n",
              " ('statistik', 0.3194493353366852),\n",
              " ('sap_bw', 0.31777524948120117),\n",
              " ('abap_entwickler', 0.31443309783935547),\n",
              " ('artificial_intelligence', 0.3102647066116333),\n",
              " ('machine_learn', 0.3094024062156677),\n",
              " ('big_data', 0.30791008472442627),\n",
              " ('sas', 0.3012552261352539),\n",
              " ('machine_learning', 0.29494744539260864)]"
            ]
          },
          "metadata": {},
          "execution_count": 93
        }
      ]
    }
  ],
  "metadata": {
    "colab": {
      "provenance": [],
      "collapsed_sections": [
        "no1sUveEwqAd",
        "7Xtycp9wOaYG",
        "aF8NZ28BOfr8",
        "dWkeRlHJEe88",
        "emRBI9pZEu9p",
        "JZUu4S5JE9BQ",
        "pdLtG3ZloR2v",
        "hhu_C58IoyhV"
      ]
    },
    "kernelspec": {
      "display_name": "Python 3",
      "name": "python3"
    },
    "language_info": {
      "name": "python"
    }
  },
  "nbformat": 4,
  "nbformat_minor": 0
}